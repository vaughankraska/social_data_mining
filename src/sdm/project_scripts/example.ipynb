{
 "cells": [
  {
   "cell_type": "code",
   "execution_count": 1,
   "id": "3bf2ef4d-a052-4942-bab2-e4de1f3c3b89",
   "metadata": {},
   "outputs": [],
   "source": [
    "from sdm.config import get_db_connection\n",
    "import pandas as pd"
   ]
  },
  {
   "cell_type": "markdown",
   "id": "57fded22",
   "metadata": {},
   "source": [
    "## Get data from postgres"
   ]
  },
  {
   "cell_type": "code",
   "execution_count": 4,
   "id": "9a74457a",
   "metadata": {},
   "outputs": [
    {
     "data": {
      "text/html": [
       "<div>\n",
       "<style scoped>\n",
       "    .dataframe tbody tr th:only-of-type {\n",
       "        vertical-align: middle;\n",
       "    }\n",
       "\n",
       "    .dataframe tbody tr th {\n",
       "        vertical-align: top;\n",
       "    }\n",
       "\n",
       "    .dataframe thead th {\n",
       "        text-align: right;\n",
       "    }\n",
       "</style>\n",
       "<table border=\"1\" class=\"dataframe\">\n",
       "  <thead>\n",
       "    <tr style=\"text-align: right;\">\n",
       "      <th></th>\n",
       "      <th>body</th>\n",
       "      <th>length</th>\n",
       "    </tr>\n",
       "  </thead>\n",
       "  <tbody>\n",
       "    <tr>\n",
       "      <th>0</th>\n",
       "      <td>Non et c'est physiquement impossible en plus d...</td>\n",
       "      <td>8642</td>\n",
       "    </tr>\n",
       "    <tr>\n",
       "      <th>1</th>\n",
       "      <td>C'est exactement comme ça que j'avait compris ...</td>\n",
       "      <td>5578</td>\n",
       "    </tr>\n",
       "    <tr>\n",
       "      <th>2</th>\n",
       "      <td>CUE NEXT ICE AGE \\ngeocraft [A Brief History o...</td>\n",
       "      <td>4025</td>\n",
       "    </tr>\n",
       "    <tr>\n",
       "      <th>3</th>\n",
       "      <td>Late to the party and not OP obviously, but ho...</td>\n",
       "      <td>3956</td>\n",
       "    </tr>\n",
       "    <tr>\n",
       "      <th>4</th>\n",
       "      <td>There's no way to \"verify\" a prediction based ...</td>\n",
       "      <td>3890</td>\n",
       "    </tr>\n",
       "  </tbody>\n",
       "</table>\n",
       "</div>"
      ],
      "text/plain": [
       "                                                body  length\n",
       "0  Non et c'est physiquement impossible en plus d...    8642\n",
       "1  C'est exactement comme ça que j'avait compris ...    5578\n",
       "2  CUE NEXT ICE AGE \\ngeocraft [A Brief History o...    4025\n",
       "3  Late to the party and not OP obviously, but ho...    3956\n",
       "4  There's no way to \"verify\" a prediction based ...    3890"
      ]
     },
     "execution_count": 4,
     "metadata": {},
     "output_type": "execute_result"
    }
   ],
   "source": [
    "with get_db_connection(db_type=\"postgres\") as db:\n",
    "    with db.cursor() as cur:\n",
    "        res = cur.execute(\"\"\"\n",
    "        SELECT body, LENGTH(body) AS length\n",
    "        FROM comments\n",
    "        ORDER BY LENGTH(body) DESC\n",
    "        LIMIT 5;\n",
    "        \"\"\")\n",
    "        df = pd.DataFrame(res.fetchall())\n",
    "df.head()"
   ]
  },
  {
   "cell_type": "code",
   "execution_count": 5,
   "id": "b7a2c3db",
   "metadata": {},
   "outputs": [
    {
     "data": {
      "text/html": [
       "<div>\n",
       "<style scoped>\n",
       "    .dataframe tbody tr th:only-of-type {\n",
       "        vertical-align: middle;\n",
       "    }\n",
       "\n",
       "    .dataframe tbody tr th {\n",
       "        vertical-align: top;\n",
       "    }\n",
       "\n",
       "    .dataframe thead th {\n",
       "        text-align: right;\n",
       "    }\n",
       "</style>\n",
       "<table border=\"1\" class=\"dataframe\">\n",
       "  <thead>\n",
       "    <tr style=\"text-align: right;\">\n",
       "      <th></th>\n",
       "      <th>text</th>\n",
       "      <th>length</th>\n",
       "    </tr>\n",
       "  </thead>\n",
       "  <tbody>\n",
       "    <tr>\n",
       "      <th>0</th>\n",
       "      <td>195 pays impliqués, 19 mois de travail, 91 aut...</td>\n",
       "      <td>23681</td>\n",
       "    </tr>\n",
       "    <tr>\n",
       "      <th>1</th>\n",
       "      <td>Comme expliqué lors d'un post reddit précédent...</td>\n",
       "      <td>9811</td>\n",
       "    </tr>\n",
       "    <tr>\n",
       "      <th>2</th>\n",
       "      <td>Cop 21 Agreement PDF **warning** - http://unfc...</td>\n",
       "      <td>7718</td>\n",
       "    </tr>\n",
       "    <tr>\n",
       "      <th>3</th>\n",
       "      <td>Back in November 2015, world leaders flew on t...</td>\n",
       "      <td>7137</td>\n",
       "    </tr>\n",
       "    <tr>\n",
       "      <th>4</th>\n",
       "      <td>Hi everyone! We’re four climate and energy exp...</td>\n",
       "      <td>3773</td>\n",
       "    </tr>\n",
       "  </tbody>\n",
       "</table>\n",
       "</div>"
      ],
      "text/plain": [
       "                                                text  length\n",
       "0  195 pays impliqués, 19 mois de travail, 91 aut...   23681\n",
       "1  Comme expliqué lors d'un post reddit précédent...    9811\n",
       "2  Cop 21 Agreement PDF **warning** - http://unfc...    7718\n",
       "3  Back in November 2015, world leaders flew on t...    7137\n",
       "4  Hi everyone! We’re four climate and energy exp...    3773"
      ]
     },
     "execution_count": 5,
     "metadata": {},
     "output_type": "execute_result"
    }
   ],
   "source": [
    "with get_db_connection(db_type=\"postgres\") as db:\n",
    "    with db.cursor() as cur:\n",
    "        res = cur.execute(\"\"\"\n",
    "        SELECT text, LENGTH(text) AS length\n",
    "        FROM submissions \n",
    "        ORDER BY LENGTH(text) DESC\n",
    "        LIMIT 5;\n",
    "        \"\"\")\n",
    "        df = pd.DataFrame(res.fetchall())\n",
    "df.head()"
   ]
  },
  {
   "cell_type": "code",
   "execution_count": null,
   "id": "25a99931",
   "metadata": {},
   "outputs": [],
   "source": []
  }
 ],
 "metadata": {
  "kernelspec": {
   "display_name": ".venv",
   "language": "python",
   "name": "python3"
  },
  "language_info": {
   "codemirror_mode": {
    "name": "ipython",
    "version": 3
   },
   "file_extension": ".py",
   "mimetype": "text/x-python",
   "name": "python",
   "nbconvert_exporter": "python",
   "pygments_lexer": "ipython3",
   "version": "3.11.10"
  }
 },
 "nbformat": 4,
 "nbformat_minor": 5
}
