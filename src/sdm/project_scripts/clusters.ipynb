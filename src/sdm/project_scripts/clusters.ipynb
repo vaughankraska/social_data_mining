{
 "cells": [
  {
   "cell_type": "code",
   "execution_count": 2,
   "metadata": {},
   "outputs": [],
   "source": [
    "import matplotlib.pyplot as plt\n",
    "import numpy as np\n",
    "import pandas as pd\n",
    "import seaborn as sns\n",
    "\n",
    "from sdm.config import get_db_connection\n",
    "from sdm.crud_embeddings import get_all_embeddings\n",
    "from sdm.utils import get_pi_ba_dataframe"
   ]
  },
  {
   "cell_type": "code",
   "execution_count": 19,
   "metadata": {},
   "outputs": [],
   "source": [
    "from sklearn.cluster import DBSCAN, KMeans\n",
    "from sklearn.decomposition import PCA\n",
    "from sklearn.manifold import TSNE\n",
    "from sklearn.neighbors import NearestNeighbors\n",
    "from sklearn.preprocessing import StandardScaler"
   ]
  },
  {
   "cell_type": "code",
   "execution_count": 4,
   "metadata": {},
   "outputs": [
    {
     "name": "stdout",
     "output_type": "stream",
     "text": [
      "<class 'pandas.core.frame.DataFrame'>\n",
      "RangeIndex: 36780 entries, 0 to 36779\n",
      "Data columns (total 5 columns):\n",
      " #   Column     Non-Null Count  Dtype \n",
      "---  ------     --------------  ----- \n",
      " 0   id         36780 non-null  int64 \n",
      " 1   text       36780 non-null  object\n",
      " 2   doc_type   36780 non-null  object\n",
      " 3   doc_id     36780 non-null  object\n",
      " 4   embedding  36780 non-null  object\n",
      "dtypes: int64(1), object(4)\n",
      "memory usage: 1.4+ MB\n"
     ]
    }
   ],
   "source": [
    "with get_db_connection(db_type=\"postgres\") as db:\n",
    "    df = get_all_embeddings(db)\n",
    "df.info()"
   ]
  },
  {
   "cell_type": "code",
   "execution_count": 5,
   "metadata": {},
   "outputs": [
    {
     "data": {
      "text/html": [
       "<div>\n",
       "<style scoped>\n",
       "    .dataframe tbody tr th:only-of-type {\n",
       "        vertical-align: middle;\n",
       "    }\n",
       "\n",
       "    .dataframe tbody tr th {\n",
       "        vertical-align: top;\n",
       "    }\n",
       "\n",
       "    .dataframe thead th {\n",
       "        text-align: right;\n",
       "    }\n",
       "</style>\n",
       "<table border=\"1\" class=\"dataframe\">\n",
       "  <thead>\n",
       "    <tr style=\"text-align: right;\">\n",
       "      <th></th>\n",
       "      <th>id</th>\n",
       "      <th>text</th>\n",
       "      <th>doc_type</th>\n",
       "      <th>doc_id</th>\n",
       "      <th>embedding</th>\n",
       "    </tr>\n",
       "  </thead>\n",
       "  <tbody>\n",
       "    <tr>\n",
       "      <th>0</th>\n",
       "      <td>5321</td>\n",
       "      <td>$1 trillion funding gap for poorest countries’...</td>\n",
       "      <td>tweet</td>\n",
       "      <td>671780808412254210</td>\n",
       "      <td>[-0.13590758, 0.17315766, -0.008780155, 0.1163...</td>\n",
       "    </tr>\n",
       "    <tr>\n",
       "      <th>1</th>\n",
       "      <td>5322</td>\n",
       "      <td>$3.4 Trillion: #Fossil ]Fuel Divestment Commit...</td>\n",
       "      <td>tweet</td>\n",
       "      <td>672364415400828932</td>\n",
       "      <td>[0.00019094069, 0.17916173, -0.0056449766, 0.0...</td>\n",
       "    </tr>\n",
       "    <tr>\n",
       "      <th>2</th>\n",
       "      <td>5323</td>\n",
       "      <td>$3.4 Trillion: #Fossil ]Fuel Divestment Commit...</td>\n",
       "      <td>tweet</td>\n",
       "      <td>672449986647330816</td>\n",
       "      <td>[-0.00010863412, 0.18258078, -0.005554083, 0.0...</td>\n",
       "    </tr>\n",
       "    <tr>\n",
       "      <th>3</th>\n",
       "      <td>5324</td>\n",
       "      <td>$#COP21, Sassou Nguesso franc et direct. #sass...</td>\n",
       "      <td>tweet</td>\n",
       "      <td>672759702690922496</td>\n",
       "      <td>[-0.083288014, 0.12386762, -0.013259346, 0.041...</td>\n",
       "    </tr>\n",
       "    <tr>\n",
       "      <th>4</th>\n",
       "      <td>5325</td>\n",
       "      <td>$#COP21: Suivons les négociations et nous verr...</td>\n",
       "      <td>tweet</td>\n",
       "      <td>673645638286835712</td>\n",
       "      <td>[-0.041687813, 0.22417882, -0.011368999, -0.05...</td>\n",
       "    </tr>\n",
       "  </tbody>\n",
       "</table>\n",
       "</div>"
      ],
      "text/plain": [
       "     id                                               text doc_type  \\\n",
       "0  5321  $1 trillion funding gap for poorest countries’...    tweet   \n",
       "1  5322  $3.4 Trillion: #Fossil ]Fuel Divestment Commit...    tweet   \n",
       "2  5323  $3.4 Trillion: #Fossil ]Fuel Divestment Commit...    tweet   \n",
       "3  5324  $#COP21, Sassou Nguesso franc et direct. #sass...    tweet   \n",
       "4  5325  $#COP21: Suivons les négociations et nous verr...    tweet   \n",
       "\n",
       "               doc_id                                          embedding  \n",
       "0  671780808412254210  [-0.13590758, 0.17315766, -0.008780155, 0.1163...  \n",
       "1  672364415400828932  [0.00019094069, 0.17916173, -0.0056449766, 0.0...  \n",
       "2  672449986647330816  [-0.00010863412, 0.18258078, -0.005554083, 0.0...  \n",
       "3  672759702690922496  [-0.083288014, 0.12386762, -0.013259346, 0.041...  \n",
       "4  673645638286835712  [-0.041687813, 0.22417882, -0.011368999, -0.05...  "
      ]
     },
     "execution_count": 5,
     "metadata": {},
     "output_type": "execute_result"
    }
   ],
   "source": [
    "df.head()"
   ]
  },
  {
   "cell_type": "code",
   "execution_count": 10,
   "metadata": {},
   "outputs": [
    {
     "name": "stdout",
     "output_type": "stream",
     "text": [
      "doc_type\n",
      "tweet         31460\n",
      "comment        5000\n",
      "submission      320\n",
      "Name: count, dtype: int64\n"
     ]
    }
   ],
   "source": [
    "print(df[\"doc_type\"].value_counts())"
   ]
  },
  {
   "cell_type": "code",
   "execution_count": 11,
   "metadata": {},
   "outputs": [],
   "source": [
    "tweet_df = df[df[\"doc_type\"] == \"tweet\"]"
   ]
  },
  {
   "cell_type": "code",
   "execution_count": 9,
   "metadata": {},
   "outputs": [
    {
     "name": "stdout",
     "output_type": "stream",
     "text": [
      "<class 'pandas.core.frame.DataFrame'>\n",
      "Index: 5320 entries, 31460 to 36779\n",
      "Data columns (total 5 columns):\n",
      " #   Column     Non-Null Count  Dtype \n",
      "---  ------     --------------  ----- \n",
      " 0   id         5320 non-null   int64 \n",
      " 1   text       5320 non-null   object\n",
      " 2   doc_type   5320 non-null   object\n",
      " 3   doc_id     5320 non-null   object\n",
      " 4   embedding  5320 non-null   object\n",
      "dtypes: int64(1), object(4)\n",
      "memory usage: 249.4+ KB\n"
     ]
    }
   ],
   "source": [
    "com_sub_df = df[df[\"doc_type\"] != \"tweet\"]\n",
    "com_sub_df.info()"
   ]
  },
  {
   "cell_type": "code",
   "execution_count": 6,
   "metadata": {},
   "outputs": [
    {
     "name": "stdout",
     "output_type": "stream",
     "text": [
      "<class 'pandas.core.frame.DataFrame'>\n",
      "RangeIndex: 33692 entries, 0 to 33691\n",
      "Data columns (total 5 columns):\n",
      " #   Column        Non-Null Count  Dtype \n",
      "---  ------        --------------  ----- \n",
      " 0   account_id    33692 non-null  object\n",
      " 1   doc_id        33692 non-null  object\n",
      " 2   account_type  33692 non-null  object\n",
      " 3   lang          33692 non-null  object\n",
      " 4   stance        33692 non-null  object\n",
      "dtypes: object(5)\n",
      "memory usage: 1.3+ MB\n"
     ]
    }
   ],
   "source": [
    "with get_db_connection(db_type=\"postgres\") as db:\n",
    "    pi_ba_df = get_pi_ba_dataframe(db)\n",
    "pi_ba_df.info()"
   ]
  },
  {
   "cell_type": "code",
   "execution_count": 14,
   "metadata": {},
   "outputs": [
    {
     "name": "stdout",
     "output_type": "stream",
     "text": [
      "(23611, 5)\n",
      "(10081, 5)\n"
     ]
    }
   ],
   "source": [
    "pi_df = pi_ba_df[pi_ba_df[\"account_type\"] == \"Private individuals\"]\n",
    "print(pi_df.shape)\n",
    "ba_df = pi_ba_df[pi_ba_df[\"account_type\"] == \"Business actors\"]\n",
    "print(ba_df.shape)"
   ]
  },
  {
   "cell_type": "code",
   "execution_count": 15,
   "metadata": {},
   "outputs": [
    {
     "name": "stdout",
     "output_type": "stream",
     "text": [
      "<class 'pandas.core.frame.DataFrame'>\n",
      "Index: 21945 entries, 0 to 23610\n",
      "Data columns (total 9 columns):\n",
      " #   Column        Non-Null Count  Dtype  \n",
      "---  ------        --------------  -----  \n",
      " 0   account_id    21945 non-null  object \n",
      " 1   doc_id        21945 non-null  object \n",
      " 2   account_type  21945 non-null  object \n",
      " 3   lang          21945 non-null  object \n",
      " 4   stance        21945 non-null  object \n",
      " 5   id            21945 non-null  float64\n",
      " 6   text          21945 non-null  object \n",
      " 7   doc_type      21945 non-null  object \n",
      " 8   embedding     21945 non-null  object \n",
      "dtypes: float64(1), object(8)\n",
      "memory usage: 1.7+ MB\n",
      "None\n"
     ]
    },
    {
     "data": {
      "text/html": [
       "<div>\n",
       "<style scoped>\n",
       "    .dataframe tbody tr th:only-of-type {\n",
       "        vertical-align: middle;\n",
       "    }\n",
       "\n",
       "    .dataframe tbody tr th {\n",
       "        vertical-align: top;\n",
       "    }\n",
       "\n",
       "    .dataframe thead th {\n",
       "        text-align: right;\n",
       "    }\n",
       "</style>\n",
       "<table border=\"1\" class=\"dataframe\">\n",
       "  <thead>\n",
       "    <tr style=\"text-align: right;\">\n",
       "      <th></th>\n",
       "      <th>account_id</th>\n",
       "      <th>doc_id</th>\n",
       "      <th>account_type</th>\n",
       "      <th>lang</th>\n",
       "      <th>stance</th>\n",
       "      <th>id</th>\n",
       "      <th>text</th>\n",
       "      <th>doc_type</th>\n",
       "      <th>embedding</th>\n",
       "    </tr>\n",
       "  </thead>\n",
       "  <tbody>\n",
       "    <tr>\n",
       "      <th>0</th>\n",
       "      <td>2374469136</td>\n",
       "      <td>675825881600819200</td>\n",
       "      <td>Private individuals</td>\n",
       "      <td>fr</td>\n",
       "      <td>Unclear</td>\n",
       "      <td>15586.0</td>\n",
       "      <td>@JdeQuebec Vraiment le pot fait de mauvais eff...</td>\n",
       "      <td>tweet</td>\n",
       "      <td>[-0.05918192, 0.22358717, -0.016498389, -0.029...</td>\n",
       "    </tr>\n",
       "    <tr>\n",
       "      <th>1</th>\n",
       "      <td>74508903</td>\n",
       "      <td>675821381943238657</td>\n",
       "      <td>Private individuals</td>\n",
       "      <td>fr</td>\n",
       "      <td>Unclear</td>\n",
       "      <td>12552.0</td>\n",
       "      <td>[Direct #COP21 ] @LaurentFabius \"la séance est...</td>\n",
       "      <td>tweet</td>\n",
       "      <td>[-0.08324683, 0.14276661, -0.013592841, -0.009...</td>\n",
       "    </tr>\n",
       "    <tr>\n",
       "      <th>4</th>\n",
       "      <td>74508903</td>\n",
       "      <td>675820988400066560</td>\n",
       "      <td>Private individuals</td>\n",
       "      <td>fr</td>\n",
       "      <td>Unclear</td>\n",
       "      <td>12549.0</td>\n",
       "      <td>[Direct #COP21 ] @LaurentFabius annonce la clô...</td>\n",
       "      <td>tweet</td>\n",
       "      <td>[-0.15941124, -0.012673036, -0.009087384, 0.04...</td>\n",
       "    </tr>\n",
       "    <tr>\n",
       "      <th>8</th>\n",
       "      <td>21150492</td>\n",
       "      <td>675820252685598720</td>\n",
       "      <td>Private individuals</td>\n",
       "      <td>en</td>\n",
       "      <td>Against</td>\n",
       "      <td>13489.0</td>\n",
       "      <td>Finally, #COP21 ends... climate comedy show no...</td>\n",
       "      <td>tweet</td>\n",
       "      <td>[-0.033735186, 0.2543257, -0.00588581, -0.0351...</td>\n",
       "    </tr>\n",
       "    <tr>\n",
       "      <th>9</th>\n",
       "      <td>1433456161</td>\n",
       "      <td>675820040420126720</td>\n",
       "      <td>Private individuals</td>\n",
       "      <td>en</td>\n",
       "      <td>For</td>\n",
       "      <td>23947.0</td>\n",
       "      <td>RT @Ela0310: CORPORATE #KillerPalm SUSTAINABLE...</td>\n",
       "      <td>tweet</td>\n",
       "      <td>[-0.03341059, 0.2015346, -0.011685144, 0.02554...</td>\n",
       "    </tr>\n",
       "  </tbody>\n",
       "</table>\n",
       "</div>"
      ],
      "text/plain": [
       "   account_id              doc_id         account_type lang   stance       id  \\\n",
       "0  2374469136  675825881600819200  Private individuals   fr  Unclear  15586.0   \n",
       "1    74508903  675821381943238657  Private individuals   fr  Unclear  12552.0   \n",
       "4    74508903  675820988400066560  Private individuals   fr  Unclear  12549.0   \n",
       "8    21150492  675820252685598720  Private individuals   en  Against  13489.0   \n",
       "9  1433456161  675820040420126720  Private individuals   en      For  23947.0   \n",
       "\n",
       "                                                text doc_type  \\\n",
       "0  @JdeQuebec Vraiment le pot fait de mauvais eff...    tweet   \n",
       "1  [Direct #COP21 ] @LaurentFabius \"la séance est...    tweet   \n",
       "4  [Direct #COP21 ] @LaurentFabius annonce la clô...    tweet   \n",
       "8  Finally, #COP21 ends... climate comedy show no...    tweet   \n",
       "9  RT @Ela0310: CORPORATE #KillerPalm SUSTAINABLE...    tweet   \n",
       "\n",
       "                                           embedding  \n",
       "0  [-0.05918192, 0.22358717, -0.016498389, -0.029...  \n",
       "1  [-0.08324683, 0.14276661, -0.013592841, -0.009...  \n",
       "4  [-0.15941124, -0.012673036, -0.009087384, 0.04...  \n",
       "8  [-0.033735186, 0.2543257, -0.00588581, -0.0351...  \n",
       "9  [-0.03341059, 0.2015346, -0.011685144, 0.02554...  "
      ]
     },
     "execution_count": 15,
     "metadata": {},
     "output_type": "execute_result"
    }
   ],
   "source": [
    "pi_df = pd.merge(pi_df, tweet_df, how=\"left\", on=\"doc_id\")\n",
    "pi_df = pi_df[pi_df[\"embedding\"].notnull()]\n",
    "print(pi_df.info())\n",
    "pi_df.head()"
   ]
  },
  {
   "cell_type": "code",
   "execution_count": 17,
   "metadata": {},
   "outputs": [
    {
     "name": "stderr",
     "output_type": "stream",
     "text": [
      "C:\\Users\\anand\\AppData\\Local\\Temp\\ipykernel_23176\\690050131.py:2: SettingWithCopyWarning: \n",
      "A value is trying to be set on a copy of a slice from a DataFrame.\n",
      "Try using .loc[row_indexer,col_indexer] = value instead\n",
      "\n",
      "See the caveats in the documentation: https://pandas.pydata.org/pandas-docs/stable/user_guide/indexing.html#returning-a-view-versus-a-copy\n",
      "  pi_cluster_df[\"id\"] = pi_cluster_df[\"id\"].astype(\"int64\")\n"
     ]
    },
    {
     "data": {
      "text/html": [
       "<div>\n",
       "<style scoped>\n",
       "    .dataframe tbody tr th:only-of-type {\n",
       "        vertical-align: middle;\n",
       "    }\n",
       "\n",
       "    .dataframe tbody tr th {\n",
       "        vertical-align: top;\n",
       "    }\n",
       "\n",
       "    .dataframe thead th {\n",
       "        text-align: right;\n",
       "    }\n",
       "</style>\n",
       "<table border=\"1\" class=\"dataframe\">\n",
       "  <thead>\n",
       "    <tr style=\"text-align: right;\">\n",
       "      <th></th>\n",
       "      <th>id</th>\n",
       "      <th>text</th>\n",
       "      <th>doc_type</th>\n",
       "      <th>doc_id</th>\n",
       "      <th>embedding</th>\n",
       "    </tr>\n",
       "  </thead>\n",
       "  <tbody>\n",
       "    <tr>\n",
       "      <th>0</th>\n",
       "      <td>15586</td>\n",
       "      <td>@JdeQuebec Vraiment le pot fait de mauvais eff...</td>\n",
       "      <td>tweet</td>\n",
       "      <td>675825881600819200</td>\n",
       "      <td>[-0.05918192, 0.22358717, -0.016498389, -0.029...</td>\n",
       "    </tr>\n",
       "    <tr>\n",
       "      <th>1</th>\n",
       "      <td>12552</td>\n",
       "      <td>[Direct #COP21 ] @LaurentFabius \"la séance est...</td>\n",
       "      <td>tweet</td>\n",
       "      <td>675821381943238657</td>\n",
       "      <td>[-0.08324683, 0.14276661, -0.013592841, -0.009...</td>\n",
       "    </tr>\n",
       "    <tr>\n",
       "      <th>4</th>\n",
       "      <td>12549</td>\n",
       "      <td>[Direct #COP21 ] @LaurentFabius annonce la clô...</td>\n",
       "      <td>tweet</td>\n",
       "      <td>675820988400066560</td>\n",
       "      <td>[-0.15941124, -0.012673036, -0.009087384, 0.04...</td>\n",
       "    </tr>\n",
       "    <tr>\n",
       "      <th>8</th>\n",
       "      <td>13489</td>\n",
       "      <td>Finally, #COP21 ends... climate comedy show no...</td>\n",
       "      <td>tweet</td>\n",
       "      <td>675820252685598720</td>\n",
       "      <td>[-0.033735186, 0.2543257, -0.00588581, -0.0351...</td>\n",
       "    </tr>\n",
       "    <tr>\n",
       "      <th>9</th>\n",
       "      <td>23947</td>\n",
       "      <td>RT @Ela0310: CORPORATE #KillerPalm SUSTAINABLE...</td>\n",
       "      <td>tweet</td>\n",
       "      <td>675820040420126720</td>\n",
       "      <td>[-0.03341059, 0.2015346, -0.011685144, 0.02554...</td>\n",
       "    </tr>\n",
       "  </tbody>\n",
       "</table>\n",
       "</div>"
      ],
      "text/plain": [
       "      id                                               text doc_type  \\\n",
       "0  15586  @JdeQuebec Vraiment le pot fait de mauvais eff...    tweet   \n",
       "1  12552  [Direct #COP21 ] @LaurentFabius \"la séance est...    tweet   \n",
       "4  12549  [Direct #COP21 ] @LaurentFabius annonce la clô...    tweet   \n",
       "8  13489  Finally, #COP21 ends... climate comedy show no...    tweet   \n",
       "9  23947  RT @Ela0310: CORPORATE #KillerPalm SUSTAINABLE...    tweet   \n",
       "\n",
       "               doc_id                                          embedding  \n",
       "0  675825881600819200  [-0.05918192, 0.22358717, -0.016498389, -0.029...  \n",
       "1  675821381943238657  [-0.08324683, 0.14276661, -0.013592841, -0.009...  \n",
       "4  675820988400066560  [-0.15941124, -0.012673036, -0.009087384, 0.04...  \n",
       "8  675820252685598720  [-0.033735186, 0.2543257, -0.00588581, -0.0351...  \n",
       "9  675820040420126720  [-0.03341059, 0.2015346, -0.011685144, 0.02554...  "
      ]
     },
     "execution_count": 17,
     "metadata": {},
     "output_type": "execute_result"
    }
   ],
   "source": [
    "pi_cluster_df = pi_df[[\"id\", \"text\", \"doc_type\", \"doc_id\", \"embedding\"]]\n",
    "pi_cluster_df[\"id\"] = pi_cluster_df[\"id\"].astype(\"int64\")\n",
    "pi_cluster_df.head()"
   ]
  },
  {
   "cell_type": "code",
   "execution_count": 18,
   "metadata": {},
   "outputs": [
    {
     "name": "stdout",
     "output_type": "stream",
     "text": [
      "<class 'pandas.core.frame.DataFrame'>\n",
      "RangeIndex: 27265 entries, 0 to 27264\n",
      "Data columns (total 5 columns):\n",
      " #   Column     Non-Null Count  Dtype \n",
      "---  ------     --------------  ----- \n",
      " 0   id         27265 non-null  int64 \n",
      " 1   text       27265 non-null  object\n",
      " 2   doc_type   27265 non-null  object\n",
      " 3   doc_id     27265 non-null  object\n",
      " 4   embedding  27265 non-null  object\n",
      "dtypes: int64(1), object(4)\n",
      "memory usage: 1.0+ MB\n"
     ]
    }
   ],
   "source": [
    "pi_cluster_df = pd.concat([pi_cluster_df, com_sub_df], ignore_index=True)\n",
    "pi_cluster_df.info()"
   ]
  },
  {
   "cell_type": "code",
   "execution_count": 20,
   "metadata": {},
   "outputs": [],
   "source": [
    "pi_embeddings = np.stack(pi_cluster_df[\"embedding\"].to_numpy())\n",
    "\n",
    "scaler = StandardScaler()\n",
    "pi_embeddings_scaled = scaler.fit_transform(pi_embeddings)"
   ]
  },
  {
   "cell_type": "code",
   "execution_count": 23,
   "metadata": {},
   "outputs": [
    {
     "data": {
      "image/png": "[encoded data removed]",
      "text/plain": [
       "<Figure size 800x500 with 1 Axes>"
      ]
     },
     "metadata": {},
     "output_type": "display_data"
    }
   ],
   "source": [
    "k_values = range(8000, 20001, 2000)\n",
    "\n",
    "# Store the inertia for each k\n",
    "inertia_values = []\n",
    "\n",
    "for k in k_values:\n",
    "    kmeans = KMeans(n_clusters=k, random_state=42)\n",
    "    kmeans.fit(pi_embeddings_scaled)\n",
    "    inertia_values.append(kmeans.inertia_)\n",
    "\n",
    "# Plot the Elbow Method\n",
    "plt.figure(figsize=(8, 5))\n",
    "plt.plot(k_values, inertia_values, marker='o')\n",
    "plt.xlabel('Number of Clusters (k)')\n",
    "plt.ylabel('Inertia')\n",
    "plt.title('Elbow Method for Optimal k')\n",
    "plt.grid()\n",
    "plt.show()"
   ]
  },
  {
   "cell_type": "code",
   "execution_count": null,
   "metadata": {},
   "outputs": [],
   "source": []
  }
 ],
 "metadata": {
  "kernelspec": {
   "display_name": ".venv",
   "language": "python",
   "name": "python3"
  },
  "language_info": {
   "codemirror_mode": {
    "name": "ipython",
    "version": 3
   },
   "file_extension": ".py",
   "mimetype": "text/x-python",
   "name": "python",
   "nbconvert_exporter": "python",
   "pygments_lexer": "ipython3",
   "version": "3.11.4"
  }
 },
 "nbformat": 4,
 "nbformat_minor": 2
}
