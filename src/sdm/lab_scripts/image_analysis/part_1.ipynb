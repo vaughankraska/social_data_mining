{
 "cells": [
  {
   "cell_type": "markdown",
   "metadata": {},
   "source": [
    "### Task 1.1\n",
    "\n",
    "Shit....! Here we go again!\n",
    "\n",
    "We are looking at Private individuals vs Business actors again"
   ]
  },
  {
   "cell_type": "code",
   "execution_count": 1,
   "metadata": {},
   "outputs": [],
   "source": [
    "import numpy as np\n",
    "import pandas as pd\n",
    "from image_analysis.data import get_images_dataframe\n",
    "\n",
    "from sdm.config import get_db_connection"
   ]
  },
  {
   "cell_type": "code",
   "execution_count": 2,
   "metadata": {},
   "outputs": [
    {
     "name": "stdout",
     "output_type": "stream",
     "text": [
      "<class 'pandas.core.frame.DataFrame'>\n",
      "RangeIndex: 38980 entries, 0 to 38979\n",
      "Data columns (total 5 columns):\n",
      " #   Column        Non-Null Count  Dtype \n",
      "---  ------        --------------  ----- \n",
      " 0   account_id    38980 non-null  object\n",
      " 1   image_id      38980 non-null  object\n",
      " 2   account_type  38980 non-null  object\n",
      " 3   lang          38729 non-null  object\n",
      " 4   stance        38441 non-null  object\n",
      "dtypes: object(5)\n",
      "memory usage: 1.5+ MB\n",
      "None\n"
     ]
    },
    {
     "data": {
      "text/html": [
       "<div>\n",
       "<style scoped>\n",
       "    .dataframe tbody tr th:only-of-type {\n",
       "        vertical-align: middle;\n",
       "    }\n",
       "\n",
       "    .dataframe tbody tr th {\n",
       "        vertical-align: top;\n",
       "    }\n",
       "\n",
       "    .dataframe thead th {\n",
       "        text-align: right;\n",
       "    }\n",
       "</style>\n",
       "<table border=\"1\" class=\"dataframe\">\n",
       "  <thead>\n",
       "    <tr style=\"text-align: right;\">\n",
       "      <th></th>\n",
       "      <th>account_id</th>\n",
       "      <th>image_id</th>\n",
       "      <th>account_type</th>\n",
       "      <th>lang</th>\n",
       "      <th>stance</th>\n",
       "    </tr>\n",
       "  </thead>\n",
       "  <tbody>\n",
       "    <tr>\n",
       "      <th>0</th>\n",
       "      <td>8508262</td>\n",
       "      <td>nan</td>\n",
       "      <td>Private individuals</td>\n",
       "      <td>fr</td>\n",
       "      <td>For</td>\n",
       "    </tr>\n",
       "    <tr>\n",
       "      <th>1</th>\n",
       "      <td>8508262</td>\n",
       "      <td>nan</td>\n",
       "      <td>Private individuals</td>\n",
       "      <td>fr</td>\n",
       "      <td>For</td>\n",
       "    </tr>\n",
       "    <tr>\n",
       "      <th>2</th>\n",
       "      <td>8508262</td>\n",
       "      <td>nan</td>\n",
       "      <td>Private individuals</td>\n",
       "      <td>fr</td>\n",
       "      <td>For</td>\n",
       "    </tr>\n",
       "    <tr>\n",
       "      <th>3</th>\n",
       "      <td>8508262</td>\n",
       "      <td>nan</td>\n",
       "      <td>Private individuals</td>\n",
       "      <td>fr</td>\n",
       "      <td>For</td>\n",
       "    </tr>\n",
       "    <tr>\n",
       "      <th>4</th>\n",
       "      <td>8508262</td>\n",
       "      <td>nan</td>\n",
       "      <td>Private individuals</td>\n",
       "      <td>fr</td>\n",
       "      <td>For</td>\n",
       "    </tr>\n",
       "  </tbody>\n",
       "</table>\n",
       "</div>"
      ],
      "text/plain": [
       "  account_id image_id         account_type lang stance\n",
       "0    8508262      nan  Private individuals   fr    For\n",
       "1    8508262      nan  Private individuals   fr    For\n",
       "2    8508262      nan  Private individuals   fr    For\n",
       "3    8508262      nan  Private individuals   fr    For\n",
       "4    8508262      nan  Private individuals   fr    For"
      ]
     },
     "execution_count": 2,
     "metadata": {},
     "output_type": "execute_result"
    }
   ],
   "source": [
    "conn = get_db_connection(db_type=\"sqlite\", db_path=\"D:/UU/Sem3/SDM/social_data_mining/data/twitter.db\")\n",
    "df = get_images_dataframe(db=conn)\n",
    "print(df.info())\n",
    "df.head()"
   ]
  },
  {
   "cell_type": "code",
   "execution_count": 6,
   "metadata": {},
   "outputs": [
    {
     "name": "stdout",
     "output_type": "stream",
     "text": [
      "<class 'pandas.core.frame.DataFrame'>\n",
      "RangeIndex: 16387 entries, 0 to 16386\n",
      "Data columns (total 6 columns):\n",
      " #   Column        Non-Null Count  Dtype \n",
      "---  ------        --------------  ----- \n",
      " 0   account_id    16387 non-null  object\n",
      " 1   image_id      16387 non-null  object\n",
      " 2   account_type  16387 non-null  object\n",
      " 3   lang          16260 non-null  object\n",
      " 4   stance        16188 non-null  object\n",
      " 5   media_keys    0 non-null      object\n",
      "dtypes: object(6)\n",
      "memory usage: 768.3+ KB\n",
      "None\n"
     ]
    }
   ],
   "source": [
    "valid_img_df = df.copy()\n",
    "valid_img_df[\"image_id\"] = valid_img_df[\"image_id\"].apply(lambda x: np.nan if x == \"nan\" else x)\n",
    "valid_img_df = valid_img_df.dropna(subset=[\"image_id\"])\n",
    "# valid_img_df[\"image_id\"] = valid_img_df[\"image_id\"].apply(lambda x: x[\"media_keys\"])\n",
    "valid_img_df['media_keys'] = valid_img_df['image_id'].apply(\n",
    "    lambda x: x['media_keys'] if isinstance(x, dict) and 'media_keys' in x else None\n",
    ")\n",
    "valid_img_df = valid_img_df.reset_index(drop=True)\n",
    "print(valid_img_df.info())"
   ]
  },
  {
   "cell_type": "code",
   "execution_count": 4,
   "metadata": {},
   "outputs": [
    {
     "data": {
      "text/html": [
       "<div>\n",
       "<style scoped>\n",
       "    .dataframe tbody tr th:only-of-type {\n",
       "        vertical-align: middle;\n",
       "    }\n",
       "\n",
       "    .dataframe tbody tr th {\n",
       "        vertical-align: top;\n",
       "    }\n",
       "\n",
       "    .dataframe thead th {\n",
       "        text-align: right;\n",
       "    }\n",
       "</style>\n",
       "<table border=\"1\" class=\"dataframe\">\n",
       "  <thead>\n",
       "    <tr style=\"text-align: right;\">\n",
       "      <th></th>\n",
       "      <th>account_id</th>\n",
       "      <th>image_id</th>\n",
       "      <th>account_type</th>\n",
       "      <th>lang</th>\n",
       "      <th>stance</th>\n",
       "    </tr>\n",
       "  </thead>\n",
       "  <tbody>\n",
       "    <tr>\n",
       "      <th>0</th>\n",
       "      <td>8508262</td>\n",
       "      <td>{'media_keys': ['3_669872845984546817']}</td>\n",
       "      <td>Private individuals</td>\n",
       "      <td>fr</td>\n",
       "      <td>For</td>\n",
       "    </tr>\n",
       "    <tr>\n",
       "      <th>1</th>\n",
       "      <td>8508262</td>\n",
       "      <td>{'media_keys': ['3_671208626439213056']}</td>\n",
       "      <td>Private individuals</td>\n",
       "      <td>fr</td>\n",
       "      <td>For</td>\n",
       "    </tr>\n",
       "    <tr>\n",
       "      <th>2</th>\n",
       "      <td>8508262</td>\n",
       "      <td>{'media_keys': ['3_671223094661545984']}</td>\n",
       "      <td>Private individuals</td>\n",
       "      <td>fr</td>\n",
       "      <td>For</td>\n",
       "    </tr>\n",
       "    <tr>\n",
       "      <th>3</th>\n",
       "      <td>8508262</td>\n",
       "      <td>{'media_keys': ['3_671231051176517632']}</td>\n",
       "      <td>Private individuals</td>\n",
       "      <td>fr</td>\n",
       "      <td>For</td>\n",
       "    </tr>\n",
       "    <tr>\n",
       "      <th>4</th>\n",
       "      <td>8508262</td>\n",
       "      <td>{'media_keys': ['3_671231164783398913']}</td>\n",
       "      <td>Private individuals</td>\n",
       "      <td>fr</td>\n",
       "      <td>For</td>\n",
       "    </tr>\n",
       "  </tbody>\n",
       "</table>\n",
       "</div>"
      ],
      "text/plain": [
       "  account_id                                  image_id         account_type  \\\n",
       "0    8508262  {'media_keys': ['3_669872845984546817']}  Private individuals   \n",
       "1    8508262  {'media_keys': ['3_671208626439213056']}  Private individuals   \n",
       "2    8508262  {'media_keys': ['3_671223094661545984']}  Private individuals   \n",
       "3    8508262  {'media_keys': ['3_671231051176517632']}  Private individuals   \n",
       "4    8508262  {'media_keys': ['3_671231164783398913']}  Private individuals   \n",
       "\n",
       "  lang stance  \n",
       "0   fr    For  \n",
       "1   fr    For  \n",
       "2   fr    For  \n",
       "3   fr    For  \n",
       "4   fr    For  "
      ]
     },
     "execution_count": 4,
     "metadata": {},
     "output_type": "execute_result"
    }
   ],
   "source": [
    "valid_img_df.head()"
   ]
  },
  {
   "cell_type": "code",
   "execution_count": null,
   "metadata": {},
   "outputs": [],
   "source": []
  }
 ],
 "metadata": {
  "kernelspec": {
   "display_name": ".venv",
   "language": "python",
   "name": "python3"
  },
  "language_info": {
   "codemirror_mode": {
    "name": "ipython",
    "version": 3
   },
   "file_extension": ".py",
   "mimetype": "text/x-python",
   "name": "python",
   "nbconvert_exporter": "python",
   "pygments_lexer": "ipython3",
   "version": "3.11.4"
  }
 },
 "nbformat": 4,
 "nbformat_minor": 2
}
