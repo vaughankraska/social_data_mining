{
 "cells": [
  {
   "cell_type": "markdown",
   "metadata": {},
   "source": [
    "### Task 1.1\n",
    "\n",
    "Shit....! Here we go again!\n",
    "\n",
    "We are looking at Private individuals vs Business actors again"
   ]
  },
  {
   "cell_type": "code",
   "execution_count": 1,
   "metadata": {},
   "outputs": [],
   "source": [
    "import pandas as pd\n",
    "from image_analysis.data import get_images_dataframe\n",
    "\n",
    "from sdm.config import get_db_connection"
   ]
  },
  {
   "cell_type": "code",
   "execution_count": 2,
   "metadata": {},
   "outputs": [
    {
     "name": "stdout",
     "output_type": "stream",
     "text": [
      "<class 'pandas.core.frame.DataFrame'>\n",
      "RangeIndex: 26019 entries, 0 to 26018\n",
      "Data columns (total 5 columns):\n",
      " #   Column        Non-Null Count  Dtype \n",
      "---  ------        --------------  ----- \n",
      " 0   account_id    26019 non-null  object\n",
      " 1   tweet_text    26019 non-null  object\n",
      " 2   account_type  26019 non-null  object\n",
      " 3   lang          26019 non-null  object\n",
      " 4   stance        25480 non-null  object\n",
      "dtypes: object(5)\n",
      "memory usage: 1016.5+ KB\n",
      "None\n"
     ]
    },
    {
     "data": {
      "text/html": [
       "<div>\n",
       "<style scoped>\n",
       "    .dataframe tbody tr th:only-of-type {\n",
       "        vertical-align: middle;\n",
       "    }\n",
       "\n",
       "    .dataframe tbody tr th {\n",
       "        vertical-align: top;\n",
       "    }\n",
       "\n",
       "    .dataframe thead th {\n",
       "        text-align: right;\n",
       "    }\n",
       "</style>\n",
       "<table border=\"1\" class=\"dataframe\">\n",
       "  <thead>\n",
       "    <tr style=\"text-align: right;\">\n",
       "      <th></th>\n",
       "      <th>account_id</th>\n",
       "      <th>tweet_text</th>\n",
       "      <th>account_type</th>\n",
       "      <th>lang</th>\n",
       "      <th>stance</th>\n",
       "    </tr>\n",
       "  </thead>\n",
       "  <tbody>\n",
       "    <tr>\n",
       "      <th>0</th>\n",
       "      <td>77254498</td>\n",
       "      <td>\"@ComposerCorner I am proud to be a #climatech...</td>\n",
       "      <td>Private individuals</td>\n",
       "      <td>en</td>\n",
       "      <td>For</td>\n",
       "    </tr>\n",
       "    <tr>\n",
       "      <th>1</th>\n",
       "      <td>77254498</td>\n",
       "      <td>#ActionDay ~ Blog ~ Greener Green Gifts  ~ htt...</td>\n",
       "      <td>Private individuals</td>\n",
       "      <td>en</td>\n",
       "      <td>For</td>\n",
       "    </tr>\n",
       "    <tr>\n",
       "      <th>2</th>\n",
       "      <td>77254498</td>\n",
       "      <td>#Agnotology ~ @Ecojustice files complaint w/Co...</td>\n",
       "      <td>Private individuals</td>\n",
       "      <td>en</td>\n",
       "      <td>For</td>\n",
       "    </tr>\n",
       "    <tr>\n",
       "      <th>3</th>\n",
       "      <td>77254498</td>\n",
       "      <td>#AsPredicted ~ @Canada wins #FossiloftheDay ~ ...</td>\n",
       "      <td>Private individuals</td>\n",
       "      <td>en</td>\n",
       "      <td>For</td>\n",
       "    </tr>\n",
       "    <tr>\n",
       "      <th>4</th>\n",
       "      <td>77254498</td>\n",
       "      <td>#AusPol ~ #COP21 ~ #MentalHealth of #Australia...</td>\n",
       "      <td>Private individuals</td>\n",
       "      <td>en</td>\n",
       "      <td>For</td>\n",
       "    </tr>\n",
       "  </tbody>\n",
       "</table>\n",
       "</div>"
      ],
      "text/plain": [
       "  account_id                                         tweet_text  ... lang stance\n",
       "0   77254498  \"@ComposerCorner I am proud to be a #climatech...  ...   en    For\n",
       "1   77254498  #ActionDay ~ Blog ~ Greener Green Gifts  ~ htt...  ...   en    For\n",
       "2   77254498  #Agnotology ~ @Ecojustice files complaint w/Co...  ...   en    For\n",
       "3   77254498  #AsPredicted ~ @Canada wins #FossiloftheDay ~ ...  ...   en    For\n",
       "4   77254498  #AusPol ~ #COP21 ~ #MentalHealth of #Australia...  ...   en    For\n",
       "\n",
       "[5 rows x 5 columns]"
      ]
     },
     "execution_count": 2,
     "metadata": {},
     "output_type": "execute_result"
    }
   ],
   "source": [
    "conn = get_db_connection(db_type=\"sqlite\", db_path=\"D:/UU/Sem3/SDM/social_data_mining/data/twitter.db\")\n",
    "df = get_research_dataframe(db=conn)\n",
    "print(df.info())\n",
    "df.head()"
   ]
  },
  {
   "cell_type": "code",
   "execution_count": null,
   "metadata": {},
   "outputs": [],
   "source": []
  }
 ],
 "metadata": {
  "kernelspec": {
   "display_name": ".venv",
   "language": "python",
   "name": "python3"
  },
  "language_info": {
   "codemirror_mode": {
    "name": "ipython",
    "version": 3
   },
   "file_extension": ".py",
   "mimetype": "text/x-python",
   "name": "python",
   "nbconvert_exporter": "python",
   "pygments_lexer": "ipython3",
   "version": "3.11.4"
  }
 },
 "nbformat": 4,
 "nbformat_minor": 2
}
