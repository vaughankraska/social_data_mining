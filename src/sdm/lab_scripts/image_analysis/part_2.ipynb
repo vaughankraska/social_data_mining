{
 "cells": [
  {
   "cell_type": "markdown",
   "metadata": {},
   "source": [
    "## Task 2\n",
    "We are looking at Private individuals vs Business actors again"
   ]
  },
  {
   "cell_type": "code",
   "execution_count": 5,
   "metadata": {},
   "outputs": [],
   "source": [
    "import os\n",
    "import json\n",
    "import numpy as np\n",
    "import pandas as pd\n",
    "import imagehash\n",
    "import seaborn as sns\n",
    "import matplotlib.pyplot as plt\n",
    "from PIL import Image\n",
    "from image_analysis.data import get_images_dataframe, get_images, get_image\n",
    "from sdm.config import get_db_connection"
   ]
  },
  {
   "cell_type": "code",
   "execution_count": 25,
   "metadata": {},
   "outputs": [
    {
     "name": "stdout",
     "output_type": "stream",
     "text": [
      "<class 'pandas.core.frame.DataFrame'>\n",
      "RangeIndex: 38980 entries, 0 to 38979\n",
      "Data columns (total 5 columns):\n",
      " #   Column        Non-Null Count  Dtype \n",
      "---  ------        --------------  ----- \n",
      " 0   account_id    38980 non-null  object\n",
      " 1   image_id      38980 non-null  object\n",
      " 2   account_type  38980 non-null  object\n",
      " 3   lang          38729 non-null  object\n",
      " 4   stance        38441 non-null  object\n",
      "dtypes: object(5)\n",
      "memory usage: 1.5+ MB\n",
      "None\n"
     ]
    },
    {
     "data": {
      "text/html": [
       "<div>\n",
       "<style scoped>\n",
       "    .dataframe tbody tr th:only-of-type {\n",
       "        vertical-align: middle;\n",
       "    }\n",
       "\n",
       "    .dataframe tbody tr th {\n",
       "        vertical-align: top;\n",
       "    }\n",
       "\n",
       "    .dataframe thead th {\n",
       "        text-align: right;\n",
       "    }\n",
       "</style>\n",
       "<table border=\"1\" class=\"dataframe\">\n",
       "  <thead>\n",
       "    <tr style=\"text-align: right;\">\n",
       "      <th></th>\n",
       "      <th>account_id</th>\n",
       "      <th>image_id</th>\n",
       "      <th>account_type</th>\n",
       "      <th>lang</th>\n",
       "      <th>stance</th>\n",
       "    </tr>\n",
       "  </thead>\n",
       "  <tbody>\n",
       "    <tr>\n",
       "      <th>0</th>\n",
       "      <td>8508262</td>\n",
       "      <td>nan</td>\n",
       "      <td>Private individuals</td>\n",
       "      <td>fr</td>\n",
       "      <td>For</td>\n",
       "    </tr>\n",
       "    <tr>\n",
       "      <th>1</th>\n",
       "      <td>8508262</td>\n",
       "      <td>nan</td>\n",
       "      <td>Private individuals</td>\n",
       "      <td>fr</td>\n",
       "      <td>For</td>\n",
       "    </tr>\n",
       "    <tr>\n",
       "      <th>2</th>\n",
       "      <td>8508262</td>\n",
       "      <td>nan</td>\n",
       "      <td>Private individuals</td>\n",
       "      <td>fr</td>\n",
       "      <td>For</td>\n",
       "    </tr>\n",
       "    <tr>\n",
       "      <th>3</th>\n",
       "      <td>8508262</td>\n",
       "      <td>nan</td>\n",
       "      <td>Private individuals</td>\n",
       "      <td>fr</td>\n",
       "      <td>For</td>\n",
       "    </tr>\n",
       "    <tr>\n",
       "      <th>4</th>\n",
       "      <td>8508262</td>\n",
       "      <td>nan</td>\n",
       "      <td>Private individuals</td>\n",
       "      <td>fr</td>\n",
       "      <td>For</td>\n",
       "    </tr>\n",
       "  </tbody>\n",
       "</table>\n",
       "</div>"
      ],
      "text/plain": [
       "  account_id image_id         account_type lang stance\n",
       "0    8508262      nan  Private individuals   fr    For\n",
       "1    8508262      nan  Private individuals   fr    For\n",
       "2    8508262      nan  Private individuals   fr    For\n",
       "3    8508262      nan  Private individuals   fr    For\n",
       "4    8508262      nan  Private individuals   fr    For"
      ]
     },
     "execution_count": 25,
     "metadata": {},
     "output_type": "execute_result"
    }
   ],
   "source": [
    "conn = get_db_connection(db_type=\"sqlite\", db_path=\"../../../../data/twitter.db\")\n",
    "df = get_images_dataframe(db=conn)\n",
    "print(df.info())\n",
    "df.head()"
   ]
  },
  {
   "cell_type": "code",
   "execution_count": 26,
   "metadata": {},
   "outputs": [
    {
     "data": {
      "text/html": [
       "<div>\n",
       "<style scoped>\n",
       "    .dataframe tbody tr th:only-of-type {\n",
       "        vertical-align: middle;\n",
       "    }\n",
       "\n",
       "    .dataframe tbody tr th {\n",
       "        vertical-align: top;\n",
       "    }\n",
       "\n",
       "    .dataframe thead th {\n",
       "        text-align: right;\n",
       "    }\n",
       "</style>\n",
       "<table border=\"1\" class=\"dataframe\">\n",
       "  <thead>\n",
       "    <tr style=\"text-align: right;\">\n",
       "      <th></th>\n",
       "      <th>account_id</th>\n",
       "      <th>image_id</th>\n",
       "      <th>account_type</th>\n",
       "      <th>lang</th>\n",
       "      <th>stance</th>\n",
       "      <th>media_keys</th>\n",
       "    </tr>\n",
       "  </thead>\n",
       "  <tbody>\n",
       "    <tr>\n",
       "      <th>0</th>\n",
       "      <td>8508262</td>\n",
       "      <td>{'media_keys': ['3_669872845984546817']}</td>\n",
       "      <td>Private individuals</td>\n",
       "      <td>fr</td>\n",
       "      <td>For</td>\n",
       "      <td>[3_669872845984546817]</td>\n",
       "    </tr>\n",
       "    <tr>\n",
       "      <th>1</th>\n",
       "      <td>8508262</td>\n",
       "      <td>{'media_keys': ['3_671208626439213056']}</td>\n",
       "      <td>Private individuals</td>\n",
       "      <td>fr</td>\n",
       "      <td>For</td>\n",
       "      <td>[3_671208626439213056]</td>\n",
       "    </tr>\n",
       "    <tr>\n",
       "      <th>2</th>\n",
       "      <td>8508262</td>\n",
       "      <td>{'media_keys': ['3_671223094661545984']}</td>\n",
       "      <td>Private individuals</td>\n",
       "      <td>fr</td>\n",
       "      <td>For</td>\n",
       "      <td>[3_671223094661545984]</td>\n",
       "    </tr>\n",
       "    <tr>\n",
       "      <th>3</th>\n",
       "      <td>8508262</td>\n",
       "      <td>{'media_keys': ['3_671231051176517632']}</td>\n",
       "      <td>Private individuals</td>\n",
       "      <td>fr</td>\n",
       "      <td>For</td>\n",
       "      <td>[3_671231051176517632]</td>\n",
       "    </tr>\n",
       "    <tr>\n",
       "      <th>4</th>\n",
       "      <td>8508262</td>\n",
       "      <td>{'media_keys': ['3_671231164783398913']}</td>\n",
       "      <td>Private individuals</td>\n",
       "      <td>fr</td>\n",
       "      <td>For</td>\n",
       "      <td>[3_671231164783398913]</td>\n",
       "    </tr>\n",
       "  </tbody>\n",
       "</table>\n",
       "</div>"
      ],
      "text/plain": [
       "  account_id                                  image_id         account_type  \\\n",
       "0    8508262  {'media_keys': ['3_669872845984546817']}  Private individuals   \n",
       "1    8508262  {'media_keys': ['3_671208626439213056']}  Private individuals   \n",
       "2    8508262  {'media_keys': ['3_671223094661545984']}  Private individuals   \n",
       "3    8508262  {'media_keys': ['3_671231051176517632']}  Private individuals   \n",
       "4    8508262  {'media_keys': ['3_671231164783398913']}  Private individuals   \n",
       "\n",
       "  lang stance              media_keys  \n",
       "0   fr    For  [3_669872845984546817]  \n",
       "1   fr    For  [3_671208626439213056]  \n",
       "2   fr    For  [3_671223094661545984]  \n",
       "3   fr    For  [3_671231051176517632]  \n",
       "4   fr    For  [3_671231164783398913]  "
      ]
     },
     "execution_count": 26,
     "metadata": {},
     "output_type": "execute_result"
    }
   ],
   "source": [
    "df = df[df[\"image_id\"] != \"nan\"]\n",
    "df = df.dropna(subset=[\"image_id\"])\n",
    "df[\"media_keys\"] = df[\"image_id\"].apply(\n",
    "    lambda x: json.loads(x.replace(\"'\", '\"')).get(\"media_keys\") if \"media_keys\" in x else None\n",
    ")\n",
    "df = df.reset_index(drop=True)\n",
    "df.head()"
   ]
  },
  {
   "cell_type": "markdown",
   "metadata": {},
   "source": [
    "## Use perceptual hashing as analysis method"
   ]
  },
  {
   "cell_type": "code",
   "execution_count": 1,
   "metadata": {},
   "outputs": [
    {
     "ename": "NameError",
     "evalue": "name 'df' is not defined",
     "output_type": "error",
     "traceback": [
      "\u001b[0;31m---------------------------------------------------------------------------\u001b[0m",
      "\u001b[0;31mNameError\u001b[0m                                 Traceback (most recent call last)",
      "Cell \u001b[0;32mIn[1], line 1\u001b[0m\n\u001b[0;32m----> 1\u001b[0m df[\u001b[38;5;124m\"\u001b[39m\u001b[38;5;124mimages\u001b[39m\u001b[38;5;124m\"\u001b[39m] \u001b[38;5;241m=\u001b[39m \u001b[43mdf\u001b[49m[\u001b[38;5;124m\"\u001b[39m\u001b[38;5;124mmedia_keys\u001b[39m\u001b[38;5;124m\"\u001b[39m]\u001b[38;5;241m.\u001b[39mapply(\u001b[38;5;28;01mlambda\u001b[39;00m keys: get_images(media_keys\u001b[38;5;241m=\u001b[39mkeys, media_dir\u001b[38;5;241m=\u001b[39m\u001b[38;5;124m\"\u001b[39m\u001b[38;5;124m../../../../data/media\u001b[39m\u001b[38;5;124m\"\u001b[39m))\n\u001b[1;32m      2\u001b[0m df\u001b[38;5;241m.\u001b[39mhead()\n",
      "\u001b[0;31mNameError\u001b[0m: name 'df' is not defined"
     ]
    }
   ],
   "source": [
    "df[\"images\"] = df[\"media_keys\"].apply(lambda keys: get_images(media_keys=keys, media_dir=\"../../../../data/media\"))\n",
    "df.head()"
   ]
  },
  {
   "cell_type": "code",
   "execution_count": 2,
   "metadata": {},
   "outputs": [
    {
     "ename": "NameError",
     "evalue": "name 'df' is not defined",
     "output_type": "error",
     "traceback": [
      "\u001b[0;31m---------------------------------------------------------------------------\u001b[0m",
      "\u001b[0;31mNameError\u001b[0m                                 Traceback (most recent call last)",
      "Cell \u001b[0;32mIn[2], line 1\u001b[0m\n\u001b[0;32m----> 1\u001b[0m df \u001b[38;5;241m=\u001b[39m \u001b[43mdf\u001b[49m[df[\u001b[38;5;124m\"\u001b[39m\u001b[38;5;124mimages\u001b[39m\u001b[38;5;124m\"\u001b[39m]\u001b[38;5;241m.\u001b[39mapply(\u001b[38;5;28;01mlambda\u001b[39;00m x: \u001b[38;5;28mlen\u001b[39m(x) \u001b[38;5;241m>\u001b[39m \u001b[38;5;241m0\u001b[39m \u001b[38;5;241m&\u001b[39m \u001b[38;5;28misinstance\u001b[39m(x, \u001b[38;5;28mlist\u001b[39m))]\n\u001b[1;32m      2\u001b[0m df\u001b[38;5;241m.\u001b[39minfo()\n",
      "\u001b[0;31mNameError\u001b[0m: name 'df' is not defined"
     ]
    }
   ],
   "source": [
    "df = df[df[\"images\"].apply(lambda x: len(x) > 0 & isinstance(x, list))]\n",
    "df.info()"
   ]
  },
  {
   "cell_type": "code",
   "execution_count": 3,
   "metadata": {},
   "outputs": [
    {
     "ename": "NameError",
     "evalue": "name 'df' is not defined",
     "output_type": "error",
     "traceback": [
      "\u001b[0;31m---------------------------------------------------------------------------\u001b[0m",
      "\u001b[0;31mNameError\u001b[0m                                 Traceback (most recent call last)",
      "Cell \u001b[0;32mIn[3], line 23\u001b[0m\n\u001b[1;32m     20\u001b[0m         \u001b[38;5;28mprint\u001b[39m(\u001b[38;5;124mf\u001b[39m\u001b[38;5;124m\"\u001b[39m\u001b[38;5;124m[*] No image file found for key \u001b[39m\u001b[38;5;124m'\u001b[39m\u001b[38;5;132;01m{\u001b[39;00mkey\u001b[38;5;132;01m}\u001b[39;00m\u001b[38;5;124m'\u001b[39m\u001b[38;5;124m in directory \u001b[39m\u001b[38;5;124m'\u001b[39m\u001b[38;5;132;01m{\u001b[39;00mmedia_dir\u001b[38;5;132;01m}\u001b[39;00m\u001b[38;5;124m'\u001b[39m\u001b[38;5;124m.\u001b[39m\u001b[38;5;124m\"\u001b[39m)\n\u001b[1;32m     21\u001b[0m         \u001b[38;5;28;01mreturn\u001b[39;00m \u001b[38;5;28;01mNone\u001b[39;00m\n\u001b[0;32m---> 23\u001b[0m df[\u001b[38;5;124m\"\u001b[39m\u001b[38;5;124mphash\u001b[39m\u001b[38;5;124m\"\u001b[39m] \u001b[38;5;241m=\u001b[39m \u001b[43mdf\u001b[49m[\u001b[38;5;124m\"\u001b[39m\u001b[38;5;124mmedia_keys\u001b[39m\u001b[38;5;124m\"\u001b[39m]\u001b[38;5;241m.\u001b[39mapply(get_image_hash)  \u001b[38;5;66;03m# only use first image (more simple)\u001b[39;00m\n\u001b[1;32m     24\u001b[0m df\u001b[38;5;241m.\u001b[39minfo()\n",
      "\u001b[0;31mNameError\u001b[0m: name 'df' is not defined"
     ]
    }
   ],
   "source": [
    "def get_image_hash(media_keys: list, media_dir=\"../../../../data/media\"):\n",
    "    if not os.path.exists(media_dir):\n",
    "        raise FileNotFoundError(f\"The directory '{media_dir}' does not exist.\")\n",
    "    possible_extensions = [\".jpg\", \".png\"]\n",
    "\n",
    "    key = media_keys[0]\n",
    "    found = False\n",
    "    for ext in possible_extensions:\n",
    "        image_path = os.path.join(media_dir, f\"{key}{ext}\")\n",
    "        if os.path.exists(image_path):\n",
    "            try:\n",
    "                img = Image.open(image_path)\n",
    "                phash = imagehash.phash_simple(img)\n",
    "                found = True\n",
    "                return phash\n",
    "            except Exception as e:\n",
    "                print(f\"[!] Failed to open {image_path}: {e}\")\n",
    "                return None\n",
    "    if not found:\n",
    "        print(f\"[*] No image file found for key '{key}' in directory '{media_dir}'.\")\n",
    "        return None\n",
    "\n",
    "df[\"phash\"] = df[\"media_keys\"].apply(get_image_hash)  # only use first image (more simple)\n",
    "df.info()"
   ]
  },
  {
   "cell_type": "code",
   "execution_count": 33,
   "metadata": {},
   "outputs": [
    {
     "data": {
      "text/plain": [
       "8576"
      ]
     },
     "execution_count": 33,
     "metadata": {},
     "output_type": "execute_result"
    }
   ],
   "source": [
    "df = df.dropna(subset=[\"phash\"])\n",
    "df.to_csv(\"../../../../data/phash_imgs.csv\")"
   ]
  },
  {
   "cell_type": "code",
   "execution_count": 6,
   "metadata": {},
   "outputs": [
    {
     "data": {
      "text/plain": [
       "8576"
      ]
     },
     "execution_count": 6,
     "metadata": {},
     "output_type": "execute_result"
    }
   ],
   "source": [
    "df = pd.read_csv(\"../../../../data/phash_imgs.csv\")\n",
    "len(df[\"phash\"].unique())"
   ]
  },
  {
   "cell_type": "code",
   "execution_count": 7,
   "metadata": {},
   "outputs": [],
   "source": [
    "# inspect images under same ID\n",
    "# e0e0e0e0f2f4fcec, 8080808080c08e88, 0a0b0f0f1f1f0f7f, af2727a7a7a7a727, 9999999999999999\n",
    "max = 5\n",
    "count = 0\n",
    "for _, r in df[df[\"phash\"] == \"8080808080c08e88\"].iterrows():\n",
    "    imgs = get_images(eval(r[\"media_keys\"]), media_dir=\"../../../../data/media\")\n",
    "    imgs[0].show()\n",
    "    count += 1\n",
    "    if count >= max:\n",
    "        break"
   ]
  },
  {
   "cell_type": "code",
   "execution_count": 11,
   "metadata": {},
   "outputs": [
    {
     "data": {
      "text/html": [
       "<div>\n",
       "<style scoped>\n",
       "    .dataframe tbody tr th:only-of-type {\n",
       "        vertical-align: middle;\n",
       "    }\n",
       "\n",
       "    .dataframe tbody tr th {\n",
       "        vertical-align: top;\n",
       "    }\n",
       "\n",
       "    .dataframe thead th {\n",
       "        text-align: right;\n",
       "    }\n",
       "</style>\n",
       "<table border=\"1\" class=\"dataframe\">\n",
       "  <thead>\n",
       "    <tr style=\"text-align: right;\">\n",
       "      <th></th>\n",
       "      <th>Unnamed: 0</th>\n",
       "      <th>account_id</th>\n",
       "      <th>image_id</th>\n",
       "      <th>account_type</th>\n",
       "      <th>lang</th>\n",
       "      <th>stance</th>\n",
       "      <th>media_keys</th>\n",
       "      <th>images</th>\n",
       "      <th>phash</th>\n",
       "    </tr>\n",
       "  </thead>\n",
       "  <tbody>\n",
       "    <tr>\n",
       "      <th>6505</th>\n",
       "      <td>6670</td>\n",
       "      <td>3911870127</td>\n",
       "      <td>{'media_keys': ['3_674254206774153217']}</td>\n",
       "      <td>Private individuals</td>\n",
       "      <td>en</td>\n",
       "      <td>Unclear</td>\n",
       "      <td>['3_674254206774153217']</td>\n",
       "      <td>[&lt;PIL.JpegImagePlugin.JpegImageFile image mode...</td>\n",
       "      <td>8080808080c08e88</td>\n",
       "    </tr>\n",
       "    <tr>\n",
       "      <th>6506</th>\n",
       "      <td>6671</td>\n",
       "      <td>3911870127</td>\n",
       "      <td>{'media_keys': ['3_674254206774153217']}</td>\n",
       "      <td>Private individuals</td>\n",
       "      <td>en</td>\n",
       "      <td>Unclear</td>\n",
       "      <td>['3_674254206774153217']</td>\n",
       "      <td>[&lt;PIL.JpegImagePlugin.JpegImageFile image mode...</td>\n",
       "      <td>8080808080c08e88</td>\n",
       "    </tr>\n",
       "    <tr>\n",
       "      <th>6507</th>\n",
       "      <td>6672</td>\n",
       "      <td>3911870127</td>\n",
       "      <td>{'media_keys': ['3_674254206774153217']}</td>\n",
       "      <td>Private individuals</td>\n",
       "      <td>en</td>\n",
       "      <td>Unclear</td>\n",
       "      <td>['3_674254206774153217']</td>\n",
       "      <td>[&lt;PIL.JpegImagePlugin.JpegImageFile image mode...</td>\n",
       "      <td>8080808080c08e88</td>\n",
       "    </tr>\n",
       "    <tr>\n",
       "      <th>6508</th>\n",
       "      <td>6673</td>\n",
       "      <td>3911870127</td>\n",
       "      <td>{'media_keys': ['3_674254206774153217']}</td>\n",
       "      <td>Private individuals</td>\n",
       "      <td>en</td>\n",
       "      <td>Unclear</td>\n",
       "      <td>['3_674254206774153217']</td>\n",
       "      <td>[&lt;PIL.JpegImagePlugin.JpegImageFile image mode...</td>\n",
       "      <td>8080808080c08e88</td>\n",
       "    </tr>\n",
       "    <tr>\n",
       "      <th>6509</th>\n",
       "      <td>6674</td>\n",
       "      <td>3911870127</td>\n",
       "      <td>{'media_keys': ['3_674254206774153217']}</td>\n",
       "      <td>Private individuals</td>\n",
       "      <td>en</td>\n",
       "      <td>Unclear</td>\n",
       "      <td>['3_674254206774153217']</td>\n",
       "      <td>[&lt;PIL.JpegImagePlugin.JpegImageFile image mode...</td>\n",
       "      <td>8080808080c08e88</td>\n",
       "    </tr>\n",
       "    <tr>\n",
       "      <th>...</th>\n",
       "      <td>...</td>\n",
       "      <td>...</td>\n",
       "      <td>...</td>\n",
       "      <td>...</td>\n",
       "      <td>...</td>\n",
       "      <td>...</td>\n",
       "      <td>...</td>\n",
       "      <td>...</td>\n",
       "      <td>...</td>\n",
       "    </tr>\n",
       "    <tr>\n",
       "      <th>11355</th>\n",
       "      <td>11868</td>\n",
       "      <td>3881648534</td>\n",
       "      <td>{'media_keys': ['3_675351147100676096']}</td>\n",
       "      <td>Private individuals</td>\n",
       "      <td>nl</td>\n",
       "      <td>Unclear</td>\n",
       "      <td>['3_675351147100676096']</td>\n",
       "      <td>[&lt;PIL.JpegImagePlugin.JpegImageFile image mode...</td>\n",
       "      <td>8080808080c08e88</td>\n",
       "    </tr>\n",
       "    <tr>\n",
       "      <th>11356</th>\n",
       "      <td>11869</td>\n",
       "      <td>3881648534</td>\n",
       "      <td>{'media_keys': ['3_675351147100676096']}</td>\n",
       "      <td>Private individuals</td>\n",
       "      <td>nl</td>\n",
       "      <td>Unclear</td>\n",
       "      <td>['3_675351147100676096']</td>\n",
       "      <td>[&lt;PIL.JpegImagePlugin.JpegImageFile image mode...</td>\n",
       "      <td>8080808080c08e88</td>\n",
       "    </tr>\n",
       "    <tr>\n",
       "      <th>11357</th>\n",
       "      <td>11870</td>\n",
       "      <td>3881648534</td>\n",
       "      <td>{'media_keys': ['3_675351147100676096']}</td>\n",
       "      <td>Private individuals</td>\n",
       "      <td>nl</td>\n",
       "      <td>Unclear</td>\n",
       "      <td>['3_675351147100676096']</td>\n",
       "      <td>[&lt;PIL.JpegImagePlugin.JpegImageFile image mode...</td>\n",
       "      <td>8080808080c08e88</td>\n",
       "    </tr>\n",
       "    <tr>\n",
       "      <th>11358</th>\n",
       "      <td>11871</td>\n",
       "      <td>3881648534</td>\n",
       "      <td>{'media_keys': ['3_675351147100676096']}</td>\n",
       "      <td>Private individuals</td>\n",
       "      <td>nl</td>\n",
       "      <td>Unclear</td>\n",
       "      <td>['3_675351147100676096']</td>\n",
       "      <td>[&lt;PIL.JpegImagePlugin.JpegImageFile image mode...</td>\n",
       "      <td>8080808080c08e88</td>\n",
       "    </tr>\n",
       "    <tr>\n",
       "      <th>11359</th>\n",
       "      <td>11872</td>\n",
       "      <td>3881648534</td>\n",
       "      <td>{'media_keys': ['3_675351147100676096']}</td>\n",
       "      <td>Private individuals</td>\n",
       "      <td>nl</td>\n",
       "      <td>Unclear</td>\n",
       "      <td>['3_675351147100676096']</td>\n",
       "      <td>[&lt;PIL.JpegImagePlugin.JpegImageFile image mode...</td>\n",
       "      <td>8080808080c08e88</td>\n",
       "    </tr>\n",
       "  </tbody>\n",
       "</table>\n",
       "<p>511 rows × 9 columns</p>\n",
       "</div>"
      ],
      "text/plain": [
       "       Unnamed: 0  account_id                                  image_id  \\\n",
       "6505         6670  3911870127  {'media_keys': ['3_674254206774153217']}   \n",
       "6506         6671  3911870127  {'media_keys': ['3_674254206774153217']}   \n",
       "6507         6672  3911870127  {'media_keys': ['3_674254206774153217']}   \n",
       "6508         6673  3911870127  {'media_keys': ['3_674254206774153217']}   \n",
       "6509         6674  3911870127  {'media_keys': ['3_674254206774153217']}   \n",
       "...           ...         ...                                       ...   \n",
       "11355       11868  3881648534  {'media_keys': ['3_675351147100676096']}   \n",
       "11356       11869  3881648534  {'media_keys': ['3_675351147100676096']}   \n",
       "11357       11870  3881648534  {'media_keys': ['3_675351147100676096']}   \n",
       "11358       11871  3881648534  {'media_keys': ['3_675351147100676096']}   \n",
       "11359       11872  3881648534  {'media_keys': ['3_675351147100676096']}   \n",
       "\n",
       "              account_type lang   stance                media_keys  \\\n",
       "6505   Private individuals   en  Unclear  ['3_674254206774153217']   \n",
       "6506   Private individuals   en  Unclear  ['3_674254206774153217']   \n",
       "6507   Private individuals   en  Unclear  ['3_674254206774153217']   \n",
       "6508   Private individuals   en  Unclear  ['3_674254206774153217']   \n",
       "6509   Private individuals   en  Unclear  ['3_674254206774153217']   \n",
       "...                    ...  ...      ...                       ...   \n",
       "11355  Private individuals   nl  Unclear  ['3_675351147100676096']   \n",
       "11356  Private individuals   nl  Unclear  ['3_675351147100676096']   \n",
       "11357  Private individuals   nl  Unclear  ['3_675351147100676096']   \n",
       "11358  Private individuals   nl  Unclear  ['3_675351147100676096']   \n",
       "11359  Private individuals   nl  Unclear  ['3_675351147100676096']   \n",
       "\n",
       "                                                  images             phash  \n",
       "6505   [<PIL.JpegImagePlugin.JpegImageFile image mode...  8080808080c08e88  \n",
       "6506   [<PIL.JpegImagePlugin.JpegImageFile image mode...  8080808080c08e88  \n",
       "6507   [<PIL.JpegImagePlugin.JpegImageFile image mode...  8080808080c08e88  \n",
       "6508   [<PIL.JpegImagePlugin.JpegImageFile image mode...  8080808080c08e88  \n",
       "6509   [<PIL.JpegImagePlugin.JpegImageFile image mode...  8080808080c08e88  \n",
       "...                                                  ...               ...  \n",
       "11355  [<PIL.JpegImagePlugin.JpegImageFile image mode...  8080808080c08e88  \n",
       "11356  [<PIL.JpegImagePlugin.JpegImageFile image mode...  8080808080c08e88  \n",
       "11357  [<PIL.JpegImagePlugin.JpegImageFile image mode...  8080808080c08e88  \n",
       "11358  [<PIL.JpegImagePlugin.JpegImageFile image mode...  8080808080c08e88  \n",
       "11359  [<PIL.JpegImagePlugin.JpegImageFile image mode...  8080808080c08e88  \n",
       "\n",
       "[511 rows x 9 columns]"
      ]
     },
     "execution_count": 11,
     "metadata": {},
     "output_type": "execute_result"
    }
   ],
   "source": [
    "df[[\"phash\", \"image_id\"]].groupby(\"phash\").count().sort_values(\"image_id\", ascending=False)\n",
    "df[df[\"phash\"] == \"8080808080c08e88\"]"
   ]
  },
  {
   "cell_type": "markdown",
   "metadata": {},
   "source": [
    "### Now use average hash instead"
   ]
  },
  {
   "cell_type": "code",
   "execution_count": 8,
   "metadata": {},
   "outputs": [
    {
     "name": "stdout",
     "output_type": "stream",
     "text": [
      "<class 'pandas.core.frame.DataFrame'>\n",
      "RangeIndex: 15534 entries, 0 to 15533\n",
      "Data columns (total 10 columns):\n",
      " #   Column        Non-Null Count  Dtype \n",
      "---  ------        --------------  ----- \n",
      " 0   Unnamed: 0    15534 non-null  int64 \n",
      " 1   account_id    15534 non-null  int64 \n",
      " 2   image_id      15534 non-null  object\n",
      " 3   account_type  15534 non-null  object\n",
      " 4   lang          15408 non-null  object\n",
      " 5   stance        15337 non-null  object\n",
      " 6   media_keys    15534 non-null  object\n",
      " 7   images        15534 non-null  object\n",
      " 8   phash         15534 non-null  object\n",
      " 9   avghash       15534 non-null  object\n",
      "dtypes: int64(2), object(8)\n",
      "memory usage: 1.2+ MB\n"
     ]
    }
   ],
   "source": [
    "def get_image_avg_hash(media_keys: list, media_dir=\"../../../../data/media\"):\n",
    "    if not os.path.exists(media_dir):\n",
    "        raise FileNotFoundError(f\"The directory '{media_dir}' does not exist.\")\n",
    "    if not isinstance(media_keys, list):\n",
    "        media_keys = eval(media_keys)\n",
    "    possible_extensions = [\".jpg\", \".png\"]\n",
    "\n",
    "    key = media_keys[0]\n",
    "    found = False\n",
    "    for ext in possible_extensions:\n",
    "        image_path = os.path.join(media_dir, f\"{key}{ext}\")\n",
    "        if os.path.exists(image_path):\n",
    "            try:\n",
    "                img = Image.open(image_path)\n",
    "                phash = imagehash.average_hash(img)\n",
    "                found = True\n",
    "                return phash\n",
    "            except Exception as e:\n",
    "                print(f\"[!] Failed to open {image_path}: {e}\")\n",
    "                return None\n",
    "    if not found:\n",
    "        print(f\"[*] No image file found for key '{key}' in directory '{media_dir}'.\")\n",
    "        return None\n",
    "\n",
    "df[\"avghash\"] = df[\"media_keys\"].apply(get_image_avg_hash)\n",
    "df.info()"
   ]
  },
  {
   "cell_type": "code",
   "execution_count": 34,
   "metadata": {},
   "outputs": [],
   "source": [
    "# temp = df[\"avghash\"].sample(1000)\n",
    "# temp = temp.apply(lambda x: x - df.sample(1)[\"avghash\"].item())\n"
   ]
  },
  {
   "cell_type": "code",
   "execution_count": null,
   "metadata": {},
   "outputs": [],
   "source": []
  }
 ],
 "metadata": {
  "kernelspec": {
   "display_name": ".venv",
   "language": "python",
   "name": "python3"
  },
  "language_info": {
   "codemirror_mode": {
    "name": "ipython",
    "version": 3
   },
   "file_extension": ".py",
   "mimetype": "text/x-python",
   "name": "python",
   "nbconvert_exporter": "python",
   "pygments_lexer": "ipython3",
   "version": "3.11.10"
  }
 },
 "nbformat": 4,
 "nbformat_minor": 2
}
