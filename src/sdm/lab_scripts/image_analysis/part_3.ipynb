{
 "cells": [
  {
   "cell_type": "markdown",
   "metadata": {},
   "source": [
    "## Task 3\n",
    "- Chose to look at how phashed images spread over time\n",
    "- And how the CNN cluster "
   ]
  },
  {
   "cell_type": "code",
   "execution_count": 2,
   "metadata": {},
   "outputs": [],
   "source": [
    "import os\n",
    "import json\n",
    "import numpy as np\n",
    "import pandas as pd\n",
    "import imagehash\n",
    "import seaborn as sns\n",
    "import matplotlib.pyplot as plt\n",
    "from PIL import Image\n",
    "from image_analysis.data import get_images_dataframe, get_images, get_image\n",
    "from sdm.config import get_db_connection"
   ]
  },
  {
   "cell_type": "markdown",
   "metadata": {},
   "source": [
    "## Perceptual Hashing"
   ]
  },
  {
   "cell_type": "code",
   "execution_count": 34,
   "metadata": {},
   "outputs": [
    {
     "data": {
      "text/plain": [
       "('3_674254206774153217',\n",
       " '3_675350454533009408',\n",
       " '3_675351140691795968',\n",
       " '3_675351147100676096',\n",
       " '3_675350462720274432',\n",
       " '3_675351146685419520')"
      ]
     },
     "execution_count": 34,
     "metadata": {},
     "output_type": "execute_result"
    }
   ],
   "source": [
    "df = pd.read_csv(\"../../../../data/phash_imgs.csv\")\n",
    "df = df[df[\"phash\"] == \"8080808080c08e88\"]\n",
    "media_keys = tuple(df[\"media_keys\"].apply(lambda x: eval(x)[0]).unique())\n",
    "(media_keys)"
   ]
  },
  {
   "cell_type": "code",
   "execution_count": null,
   "metadata": {},
   "outputs": [
    {
     "name": "stdout",
     "output_type": "stream",
     "text": [
      "<class 'pandas.core.frame.DataFrame'>\n",
      "RangeIndex: 2027 entries, 0 to 2026\n",
      "Data columns (total 8 columns):\n",
      " #   Column           Non-Null Count  Dtype         \n",
      "---  ------           --------------  -----         \n",
      " 0   id               2027 non-null   object        \n",
      " 1   text             2027 non-null   object        \n",
      " 2   author_id        2027 non-null   object        \n",
      " 3   media_key        2027 non-null   object        \n",
      " 4   retweet_count    2027 non-null   int64         \n",
      " 5   lang             2027 non-null   object        \n",
      " 6   created_at       2027 non-null   datetime64[ns]\n",
      " 7   retweet_cum_sum  2027 non-null   int64         \n",
      "dtypes: datetime64[ns](1), int64(2), object(5)\n",
      "memory usage: 126.8+ KB\n",
      "None\n"
     ]
    },
    {
     "data": {
      "text/html": [
       "<div>\n",
       "<style scoped>\n",
       "    .dataframe tbody tr th:only-of-type {\n",
       "        vertical-align: middle;\n",
       "    }\n",
       "\n",
       "    .dataframe tbody tr th {\n",
       "        vertical-align: top;\n",
       "    }\n",
       "\n",
       "    .dataframe thead th {\n",
       "        text-align: right;\n",
       "    }\n",
       "</style>\n",
       "<table border=\"1\" class=\"dataframe\">\n",
       "  <thead>\n",
       "    <tr style=\"text-align: right;\">\n",
       "      <th></th>\n",
       "      <th>id</th>\n",
       "      <th>text</th>\n",
       "      <th>author_id</th>\n",
       "      <th>media_key</th>\n",
       "      <th>retweet_count</th>\n",
       "      <th>lang</th>\n",
       "      <th>created_at</th>\n",
       "      <th>retweet_cum_sum</th>\n",
       "    </tr>\n",
       "  </thead>\n",
       "  <tbody>\n",
       "    <tr>\n",
       "      <th>0</th>\n",
       "      <td>674254830731415553</td>\n",
       "      <td>#COP21: Le bassin du Congo, le 2e poumon de la...</td>\n",
       "      <td>3955066875</td>\n",
       "      <td>3_674254206774153217</td>\n",
       "      <td>0</td>\n",
       "      <td>fr</td>\n",
       "      <td>2015-12-08 15:50:53</td>\n",
       "      <td>0</td>\n",
       "    </tr>\n",
       "    <tr>\n",
       "      <th>1</th>\n",
       "      <td>674254833688428544</td>\n",
       "      <td>#COP21: Le bassin du Congo, le 2e poumon de la...</td>\n",
       "      <td>3911870127</td>\n",
       "      <td>3_674254206774153217</td>\n",
       "      <td>1</td>\n",
       "      <td>fr</td>\n",
       "      <td>2015-12-08 15:50:54</td>\n",
       "      <td>1</td>\n",
       "    </tr>\n",
       "    <tr>\n",
       "      <th>2</th>\n",
       "      <td>674254833667481600</td>\n",
       "      <td>#COP21: Le bassin du Congo, le 2e poumon de la...</td>\n",
       "      <td>1456501764</td>\n",
       "      <td>3_674254206774153217</td>\n",
       "      <td>0</td>\n",
       "      <td>fr</td>\n",
       "      <td>2015-12-08 15:50:54</td>\n",
       "      <td>1</td>\n",
       "    </tr>\n",
       "    <tr>\n",
       "      <th>3</th>\n",
       "      <td>674254833663287296</td>\n",
       "      <td>#COP21: Le bassin du Congo, le 2e poumon de la...</td>\n",
       "      <td>4141468840</td>\n",
       "      <td>3_674254206774153217</td>\n",
       "      <td>0</td>\n",
       "      <td>fr</td>\n",
       "      <td>2015-12-08 15:50:54</td>\n",
       "      <td>1</td>\n",
       "    </tr>\n",
       "    <tr>\n",
       "      <th>4</th>\n",
       "      <td>674254833659047937</td>\n",
       "      <td>#COP21: Le bassin du Congo, le 2e poumon de la...</td>\n",
       "      <td>3881648534</td>\n",
       "      <td>3_674254206774153217</td>\n",
       "      <td>0</td>\n",
       "      <td>fr</td>\n",
       "      <td>2015-12-08 15:50:54</td>\n",
       "      <td>1</td>\n",
       "    </tr>\n",
       "  </tbody>\n",
       "</table>\n",
       "</div>"
      ],
      "text/plain": [
       "                   id                                               text  \\\n",
       "0  674254830731415553  #COP21: Le bassin du Congo, le 2e poumon de la...   \n",
       "1  674254833688428544  #COP21: Le bassin du Congo, le 2e poumon de la...   \n",
       "2  674254833667481600  #COP21: Le bassin du Congo, le 2e poumon de la...   \n",
       "3  674254833663287296  #COP21: Le bassin du Congo, le 2e poumon de la...   \n",
       "4  674254833659047937  #COP21: Le bassin du Congo, le 2e poumon de la...   \n",
       "\n",
       "    author_id             media_key  retweet_count lang          created_at  \\\n",
       "0  3955066875  3_674254206774153217              0   fr 2015-12-08 15:50:53   \n",
       "1  3911870127  3_674254206774153217              1   fr 2015-12-08 15:50:54   \n",
       "2  1456501764  3_674254206774153217              0   fr 2015-12-08 15:50:54   \n",
       "3  4141468840  3_674254206774153217              0   fr 2015-12-08 15:50:54   \n",
       "4  3881648534  3_674254206774153217              0   fr 2015-12-08 15:50:54   \n",
       "\n",
       "   retweet_cum_sum  \n",
       "0                0  \n",
       "1                1  \n",
       "2                1  \n",
       "3                1  \n",
       "4                1  "
      ]
     },
     "execution_count": 35,
     "metadata": {},
     "output_type": "execute_result"
    }
   ],
   "source": [
    "conn = get_db_connection(db_type=\"sqlite\", db_path=\"../../../../data/twitter.db\")\n",
    "cur = conn.cursor()\n",
    "res = cur.execute(f\"\"\"\n",
    "        SELECT\n",
    "            tweets.id,\n",
    "            tweets.text,\n",
    "            tweets.author_id,\n",
    "            value as media_key,\n",
    "            json_extract(public_metrics, '$.retweet_count') AS retweet_count,\n",
    "            tweets.lang,\n",
    "            datetime(created_at) AS created_at\n",
    "        FROM tweets,\n",
    "            json_each(json_extract(attachments, '$.media_keys'))\n",
    "        WHERE\n",
    "            json_extract(public_metrics, '$.retweet_count') IS NOT NULL\n",
    "        AND\n",
    "            media_key IN {media_keys}\n",
    "        ORDER BY created_at\n",
    "\"\"\")\n",
    "df = pd.DataFrame(res.fetchall())\n",
    "df[\"created_at\"] = pd.to_datetime(df[\"created_at\"])\n",
    "df[\"retweet_cum_sum\"] = df[\"retweet_count\"].cumsum()\n",
    "print(df.info())\n",
    "df.head()"
   ]
  },
  {
   "cell_type": "code",
   "execution_count": 36,
   "metadata": {},
   "outputs": [
    {
     "data": {
      "text/plain": [
       "(array([16777.5, 16778. , 16778.5, 16779. , 16779.5, 16780. , 16780.5,\n",
       "        16781. , 16781.5, 16782. ]),\n",
       " [Text(16777.5, 0, '12-08 12'),\n",
       "  Text(16778.0, 0, '12-09 00'),\n",
       "  Text(16778.5, 0, '12-09 12'),\n",
       "  Text(16779.0, 0, '12-10 00'),\n",
       "  Text(16779.5, 0, '12-10 12'),\n",
       "  Text(16780.0, 0, '12-11 00'),\n",
       "  Text(16780.5, 0, '12-11 12'),\n",
       "  Text(16781.0, 0, '12-12 00'),\n",
       "  Text(16781.5, 0, '12-12 12'),\n",
       "  Text(16782.0, 0, '12-13 00')])"
      ]
     },
     "execution_count": 36,
     "metadata": {},
     "output_type": "execute_result"
    },
    {
     "data": {
      "image/png": "[encoded data removed]",
      "text/plain": [
       "<Figure size 640x480 with 1 Axes>"
      ]
     },
     "metadata": {},
     "output_type": "display_data"
    }
   ],
   "source": [
    "sns.lineplot(data=df, x=\"created_at\", y=\"retweet_cum_sum\")\n",
    "plt.title(\"Retweet Accumulation Conga Basin Image\")\n",
    "plt.xticks(rotation=45)"
   ]
  },
  {
   "cell_type": "markdown",
   "metadata": {},
   "source": [
    "## CNN Clusters"
   ]
  },
  {
   "cell_type": "code",
   "execution_count": 61,
   "metadata": {},
   "outputs": [
    {
     "data": {
      "text/plain": [
       "('3_675047596000419841',\n",
       " '3_673504617813164033',\n",
       " '3_674537185123639296',\n",
       " '3_675655200556892160',\n",
       " '3_674366586594197504',\n",
       " '3_673641770828328960',\n",
       " '3_674598308342538240',\n",
       " '3_674599696917266432',\n",
       " '3_674748824540323840',\n",
       " '3_675316906988085248',\n",
       " '3_675709699249991680',\n",
       " '3_675754183316770816',\n",
       " '3_674638060009734144')"
      ]
     },
     "execution_count": 61,
     "metadata": {},
     "output_type": "execute_result"
    }
   ],
   "source": [
    "df = pd.read_csv(\"../../../../data/cnn_imgs_clustered.csv\")\n",
    "# 99, 96, okay, 197 = winner\n",
    "df = df[df[\"cluster\"] == 197]\n",
    "media_keys = tuple(df[\"image_id\"].apply(lambda x: eval(x)[0]).unique())\n",
    "(media_keys)"
   ]
  },
  {
   "cell_type": "code",
   "execution_count": 62,
   "metadata": {},
   "outputs": [
    {
     "name": "stdout",
     "output_type": "stream",
     "text": [
      "<class 'pandas.core.frame.DataFrame'>\n",
      "RangeIndex: 2412 entries, 0 to 2411\n",
      "Data columns (total 8 columns):\n",
      " #   Column           Non-Null Count  Dtype         \n",
      "---  ------           --------------  -----         \n",
      " 0   id               2412 non-null   object        \n",
      " 1   text             2412 non-null   object        \n",
      " 2   author_id        2412 non-null   object        \n",
      " 3   media_key        2412 non-null   object        \n",
      " 4   retweet_count    2412 non-null   int64         \n",
      " 5   lang             2412 non-null   object        \n",
      " 6   created_at       2412 non-null   datetime64[ns]\n",
      " 7   retweet_cum_sum  2412 non-null   int64         \n",
      "dtypes: datetime64[ns](1), int64(2), object(5)\n",
      "memory usage: 150.9+ KB\n",
      "None\n",
      "2129 Unique author posts\n"
     ]
    },
    {
     "data": {
      "text/html": [
       "<div>\n",
       "<style scoped>\n",
       "    .dataframe tbody tr th:only-of-type {\n",
       "        vertical-align: middle;\n",
       "    }\n",
       "\n",
       "    .dataframe tbody tr th {\n",
       "        vertical-align: top;\n",
       "    }\n",
       "\n",
       "    .dataframe thead th {\n",
       "        text-align: right;\n",
       "    }\n",
       "</style>\n",
       "<table border=\"1\" class=\"dataframe\">\n",
       "  <thead>\n",
       "    <tr style=\"text-align: right;\">\n",
       "      <th></th>\n",
       "      <th>id</th>\n",
       "      <th>text</th>\n",
       "      <th>author_id</th>\n",
       "      <th>media_key</th>\n",
       "      <th>retweet_count</th>\n",
       "      <th>lang</th>\n",
       "      <th>created_at</th>\n",
       "      <th>retweet_cum_sum</th>\n",
       "    </tr>\n",
       "  </thead>\n",
       "  <tbody>\n",
       "    <tr>\n",
       "      <th>0</th>\n",
       "      <td>673504618735935488</td>\n",
       "      <td>The Negotiation Update for 6 December is now a...</td>\n",
       "      <td>17463923</td>\n",
       "      <td>3_673504617813164033</td>\n",
       "      <td>236</td>\n",
       "      <td>en</td>\n",
       "      <td>2015-12-06 14:09:48</td>\n",
       "      <td>236</td>\n",
       "    </tr>\n",
       "    <tr>\n",
       "      <th>1</th>\n",
       "      <td>673504824894300160</td>\n",
       "      <td>RT @UNFCCC: The Negotiation Update for 6 Decem...</td>\n",
       "      <td>1934565798</td>\n",
       "      <td>3_673504617813164033</td>\n",
       "      <td>236</td>\n",
       "      <td>en</td>\n",
       "      <td>2015-12-06 14:10:38</td>\n",
       "      <td>472</td>\n",
       "    </tr>\n",
       "    <tr>\n",
       "      <th>2</th>\n",
       "      <td>673504841608658944</td>\n",
       "      <td>RT @UNFCCC: The Negotiation Update for 6 Decem...</td>\n",
       "      <td>112823892</td>\n",
       "      <td>3_673504617813164033</td>\n",
       "      <td>236</td>\n",
       "      <td>en</td>\n",
       "      <td>2015-12-06 14:10:42</td>\n",
       "      <td>708</td>\n",
       "    </tr>\n",
       "    <tr>\n",
       "      <th>3</th>\n",
       "      <td>673504886844227584</td>\n",
       "      <td>RT @UNFCCC: The Negotiation Update for 6 Decem...</td>\n",
       "      <td>4366636038</td>\n",
       "      <td>3_673504617813164033</td>\n",
       "      <td>236</td>\n",
       "      <td>en</td>\n",
       "      <td>2015-12-06 14:10:52</td>\n",
       "      <td>944</td>\n",
       "    </tr>\n",
       "    <tr>\n",
       "      <th>4</th>\n",
       "      <td>673504896302325760</td>\n",
       "      <td>RT @UNFCCC: The Negotiation Update for 6 Decem...</td>\n",
       "      <td>4278589275</td>\n",
       "      <td>3_673504617813164033</td>\n",
       "      <td>236</td>\n",
       "      <td>en</td>\n",
       "      <td>2015-12-06 14:10:55</td>\n",
       "      <td>1180</td>\n",
       "    </tr>\n",
       "  </tbody>\n",
       "</table>\n",
       "</div>"
      ],
      "text/plain": [
       "                   id                                               text  \\\n",
       "0  673504618735935488  The Negotiation Update for 6 December is now a...   \n",
       "1  673504824894300160  RT @UNFCCC: The Negotiation Update for 6 Decem...   \n",
       "2  673504841608658944  RT @UNFCCC: The Negotiation Update for 6 Decem...   \n",
       "3  673504886844227584  RT @UNFCCC: The Negotiation Update for 6 Decem...   \n",
       "4  673504896302325760  RT @UNFCCC: The Negotiation Update for 6 Decem...   \n",
       "\n",
       "    author_id             media_key  retweet_count lang          created_at  \\\n",
       "0    17463923  3_673504617813164033            236   en 2015-12-06 14:09:48   \n",
       "1  1934565798  3_673504617813164033            236   en 2015-12-06 14:10:38   \n",
       "2   112823892  3_673504617813164033            236   en 2015-12-06 14:10:42   \n",
       "3  4366636038  3_673504617813164033            236   en 2015-12-06 14:10:52   \n",
       "4  4278589275  3_673504617813164033            236   en 2015-12-06 14:10:55   \n",
       "\n",
       "   retweet_cum_sum  \n",
       "0              236  \n",
       "1              472  \n",
       "2              708  \n",
       "3              944  \n",
       "4             1180  "
      ]
     },
     "execution_count": 62,
     "metadata": {},
     "output_type": "execute_result"
    }
   ],
   "source": [
    "conn = get_db_connection(db_type=\"sqlite\", db_path=\"../../../../data/twitter.db\")\n",
    "cur = conn.cursor()\n",
    "res = cur.execute(f\"\"\"\n",
    "        SELECT\n",
    "            tweets.id,\n",
    "            tweets.text,\n",
    "            tweets.author_id,\n",
    "            value as media_key,\n",
    "            json_extract(public_metrics, '$.retweet_count') AS retweet_count,\n",
    "            tweets.lang,\n",
    "            datetime(created_at) AS created_at\n",
    "        FROM tweets,\n",
    "            json_each(json_extract(attachments, '$.media_keys'))\n",
    "        WHERE\n",
    "            json_extract(public_metrics, '$.retweet_count') IS NOT NULL\n",
    "        AND\n",
    "            media_key IN {media_keys}\n",
    "        ORDER BY created_at\n",
    "\"\"\")\n",
    "df = pd.DataFrame(res.fetchall())\n",
    "df[\"created_at\"] = pd.to_datetime(df[\"created_at\"])\n",
    "df[\"retweet_cum_sum\"] = df[\"retweet_count\"].cumsum()\n",
    "print(df.info())\n",
    "print(f\"{len(df['author_id'].unique())} Unique author posts\")\n",
    "df.head()"
   ]
  },
  {
   "cell_type": "code",
   "execution_count": 63,
   "metadata": {},
   "outputs": [
    {
     "data": {
      "text/plain": [
       "(array([16776., 16777., 16778., 16779., 16780., 16781., 16782.]),\n",
       " [Text(16776.0, 0, '2015-12-07'),\n",
       "  Text(16777.0, 0, '2015-12-08'),\n",
       "  Text(16778.0, 0, '2015-12-09'),\n",
       "  Text(16779.0, 0, '2015-12-10'),\n",
       "  Text(16780.0, 0, '2015-12-11'),\n",
       "  Text(16781.0, 0, '2015-12-12'),\n",
       "  Text(16782.0, 0, '2015-12-13')])"
      ]
     },
     "execution_count": 63,
     "metadata": {},
     "output_type": "execute_result"
    },
    {
     "data": {
      "image/png": "[encoded data removed]",
      "text/plain": [
       "<Figure size 640x480 with 1 Axes>"
      ]
     },
     "metadata": {},
     "output_type": "display_data"
    }
   ],
   "source": [
    "sns.lineplot(data=df, x=\"created_at\", y=\"retweet_cum_sum\")\n",
    "plt.title(\"TODO\")\n",
    "plt.xticks(rotation=45)"
   ]
  },
  {
   "cell_type": "code",
   "execution_count": null,
   "metadata": {},
   "outputs": [],
   "source": []
  }
 ],
 "metadata": {
  "kernelspec": {
   "display_name": ".venv",
   "language": "python",
   "name": "python3"
  },
  "language_info": {
   "codemirror_mode": {
    "name": "ipython",
    "version": 3
   },
   "file_extension": ".py",
   "mimetype": "text/x-python",
   "name": "python",
   "nbconvert_exporter": "python",
   "pygments_lexer": "ipython3",
   "version": "3.11.10"
  }
 },
 "nbformat": 4,
 "nbformat_minor": 2
}
