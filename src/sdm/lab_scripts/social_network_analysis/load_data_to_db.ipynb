{
 "cells": [
  {
   "cell_type": "code",
   "execution_count": 1,
   "metadata": {},
   "outputs": [],
   "source": [
    "import json\n",
    "import pandas as pd\n",
    "import sys\n",
    "import sqlite3"
   ]
  },
  {
   "cell_type": "code",
   "execution_count": 2,
   "metadata": {},
   "outputs": [
    {
     "name": "stdout",
     "output_type": "stream",
     "text": [
      "['D:\\\\UU\\\\Sem3\\\\SDM', 'C:\\\\Users\\\\anand\\\\anaconda3\\\\python311.zip', 'C:\\\\Users\\\\anand\\\\anaconda3\\\\DLLs', 'C:\\\\Users\\\\anand\\\\anaconda3\\\\Lib', 'C:\\\\Users\\\\anand\\\\anaconda3', '', 'C:\\\\Users\\\\anand\\\\AppData\\\\Roaming\\\\Python\\\\Python311\\\\site-packages', 'C:\\\\Users\\\\anand\\\\anaconda3\\\\Lib\\\\site-packages', 'C:\\\\Users\\\\anand\\\\anaconda3\\\\Lib\\\\site-packages\\\\win32', 'C:\\\\Users\\\\anand\\\\anaconda3\\\\Lib\\\\site-packages\\\\win32\\\\lib', 'C:\\\\Users\\\\anand\\\\anaconda3\\\\Lib\\\\site-packages\\\\Pythonwin']\n"
     ]
    }
   ],
   "source": [
    "print(sys.path)"
   ]
  },
  {
   "cell_type": "code",
   "execution_count": 8,
   "metadata": {},
   "outputs": [],
   "source": [
    "sys.path.append(sys.path[0] + \"\\\\social_data_mining\\\\data\")"
   ]
  },
  {
   "cell_type": "code",
   "execution_count": 3,
   "metadata": {},
   "outputs": [
    {
     "name": "stdout",
     "output_type": "stream",
     "text": [
      "      author_id                 Type Lang Stance\n",
      "0  8.508262e+06  Private individuals   fr    For\n",
      "1  3.297660e+09      Advocacy actors   es    For\n",
      "2  1.351437e+18  Journalistic actors   en    For\n",
      "3  2.593527e+08      Advocacy actors   en    For\n",
      "4  1.715861e+07      Advocacy actors   en    For\n",
      "No. of accounts =  1936\n"
     ]
    }
   ],
   "source": [
    "accounts = pd.read_csv(f\"D:\\\\UU\\\\Sem3\\\\SDM\\\\social_data_mining\\\\data\\\\accounts.tsv\", sep=\"\\t\")\n",
    "print(accounts.head())\n",
    "print(\"No. of accounts = \", len(accounts))"
   ]
  },
  {
   "cell_type": "code",
   "execution_count": 4,
   "metadata": {},
   "outputs": [
    {
     "name": "stdout",
     "output_type": "stream",
     "text": [
      "                                            entities  \\\n",
      "0  {'mentions': [{'start': 3, 'end': 15, 'usernam...   \n",
      "1  {'mentions': [{'start': 3, 'end': 19, 'usernam...   \n",
      "2  {'mentions': [{'start': 3, 'end': 11, 'usernam...   \n",
      "3  {'mentions': [{'start': 3, 'end': 18, 'usernam...   \n",
      "4  {'mentions': [{'start': 3, 'end': 15, 'usernam...   \n",
      "\n",
      "                                                text  possibly_sensitive  \\\n",
      "0  RT @MinisterTdB: Climate change won’t stop ove...               False   \n",
      "1  RT @LaurenceTubiana: I just can believe it !we...               False   \n",
      "2  RT @COP21en: We did it! #ParisAgreement is ado...               False   \n",
      "3  RT @TheGlobalGoals: Incredible news for our wo...               False   \n",
      "4  RT @StopShenhua: “The people’s resolve is such...               False   \n",
      "\n",
      "  edit_history_tweet_ids lang                created_at  \\\n",
      "0   [675827469119832066]   en  2015-12-12T23:59:59.000Z   \n",
      "1   [675827469006581760]   en  2015-12-12T23:59:59.000Z   \n",
      "2   [675827468775718912]   en  2015-12-12T23:59:59.000Z   \n",
      "3   [675827465378504705]   en  2015-12-12T23:59:58.000Z   \n",
      "4   [675827465336434688]   en  2015-12-12T23:59:58.000Z   \n",
      "\n",
      "                                   referenced_tweets   author_id  \\\n",
      "0  [{'type': 'retweeted', 'id': '6757779674700390...  1011975294   \n",
      "1  [{'type': 'retweeted', 'id': '6757815547450572...   255144027   \n",
      "2  [{'type': 'retweeted', 'id': '6757487202442977...   214748274   \n",
      "3  [{'type': 'retweeted', 'id': '6757646325990440...   449273927   \n",
      "4  [{'type': 'retweeted', 'id': '6757735596884541...  1601937732   \n",
      "\n",
      "                                 context_annotations     conversation_id  \\\n",
      "0  [{'domain': {'id': '25', 'name': 'Events', 'de...  675827469119832066   \n",
      "1                                                NaN  675827469006581760   \n",
      "2                                                NaN  675827468775718912   \n",
      "3                                                NaN  675827465378504705   \n",
      "4                                                NaN  675827465336434688   \n",
      "\n",
      "                   id                                     public_metrics  \\\n",
      "0  675827469119832066  {'retweet_count': 107, 'reply_count': 0, 'like...   \n",
      "1  675827469006581760  {'retweet_count': 109, 'reply_count': 0, 'like...   \n",
      "2  675827468775718912  {'retweet_count': 1204, 'reply_count': 0, 'lik...   \n",
      "3  675827465378504705  {'retweet_count': 110, 'reply_count': 0, 'like...   \n",
      "4  675827465336434688  {'retweet_count': 49, 'reply_count': 0, 'like_...   \n",
      "\n",
      "                                attachments in_reply_to_user_id  geo withheld  \n",
      "0                                       NaN                 NaN  NaN      NaN  \n",
      "1                                       NaN                 NaN  NaN      NaN  \n",
      "2  {'media_keys': ['3_675748710089940992']}                 NaN  NaN      NaN  \n",
      "3                                       NaN                 NaN  NaN      NaN  \n",
      "4                                       NaN                 NaN  NaN      NaN  \n"
     ]
    }
   ],
   "source": [
    "file_path = f\"D:\\\\UU\\\\Sem3\\\\SDM\\\\social_data_mining\\\\data\\\\tweets.dat\"\n",
    "data = []\n",
    "\n",
    "try:\n",
    "    with open(file_path, 'r') as file:\n",
    "        for line in file:\n",
    "            try:\n",
    "                tweet = json.loads(line.strip())\n",
    "                data.append(tweet)\n",
    "            except json.JSONDecodeError as e:\n",
    "                print(f\"Skipping invalid JSON line: {e}\")\n",
    "    tweets_df = pd.DataFrame(data)\n",
    "    print(tweets_df.head())\n",
    "except FileNotFoundError:\n",
    "    print(f\"File {file_path} not found.\")\n",
    "except Exception as e:\n",
    "    print(\"Error: \", e)"
   ]
  },
  {
   "cell_type": "code",
   "execution_count": 5,
   "metadata": {},
   "outputs": [
    {
     "name": "stdout",
     "output_type": "stream",
     "text": [
      "2260916\n",
      "<class 'pandas.core.frame.DataFrame'>\n",
      "RangeIndex: 2260916 entries, 0 to 2260915\n",
      "Data columns (total 16 columns):\n",
      " #   Column                  Dtype \n",
      "---  ------                  ----- \n",
      " 0   entities                object\n",
      " 1   text                    object\n",
      " 2   possibly_sensitive      bool  \n",
      " 3   edit_history_tweet_ids  object\n",
      " 4   lang                    object\n",
      " 5   created_at              object\n",
      " 6   referenced_tweets       object\n",
      " 7   author_id               object\n",
      " 8   context_annotations     object\n",
      " 9   conversation_id         object\n",
      " 10  id                      object\n",
      " 11  public_metrics          object\n",
      " 12  attachments             object\n",
      " 13  in_reply_to_user_id     object\n",
      " 14  geo                     object\n",
      " 15  withheld                object\n",
      "dtypes: bool(1), object(15)\n",
      "memory usage: 260.9+ MB\n",
      "None\n"
     ]
    }
   ],
   "source": [
    "print(len(tweets_df))\n",
    "print(tweets_df.info())"
   ]
  },
  {
   "cell_type": "code",
   "execution_count": 6,
   "metadata": {},
   "outputs": [],
   "source": [
    "from sqlite3 import Connection"
   ]
  },
  {
   "cell_type": "code",
   "execution_count": 7,
   "metadata": {},
   "outputs": [],
   "source": [
    "def tweets_table(conn: Connection):\n",
    "    cur = conn.cursor()\n",
    "    query = \"\"\"\n",
    "                CREATE TABLE IF NOT EXISTS tweets (\n",
    "                  id TEXT PRIMARY KEY,\n",
    "                  text TEXT,\n",
    "                  author_id TEXT,\n",
    "                  created_at TEXT,\n",
    "                  possibly_sensitive BOOLEAN,\n",
    "                  lang TEXT,\n",
    "                  conversation_id TEXT,\n",
    "                  entities TEXT,\n",
    "                  edit_history_tweet_ids TEXT,\n",
    "                  context_annotations TEXT,\n",
    "                  public_metrics TEXT,\n",
    "                  attachments TEXT,\n",
    "                  in_reply_to_user_id TEXT,\n",
    "                  geo TEXT,\n",
    "                  withheld TEXT\n",
    "                );\n",
    "            \"\"\"\n",
    "    cur.execute(query)"
   ]
  },
  {
   "cell_type": "code",
   "execution_count": 8,
   "metadata": {},
   "outputs": [],
   "source": [
    "def reference_tweets_table(conn: Connection):\n",
    "    cur = conn.cursor()\n",
    "    query = \"\"\"\n",
    "                CREATE TABLE IF NOT EXISTS referenced_tweets (\n",
    "                  tweet_id TEXT,\n",
    "                  referenced_tweet_id TEXT,\n",
    "                  referenced_tweet_type TEXT,\n",
    "                  FOREIGN KEY (tweet_id) REFERENCES tweets(id)\n",
    "                );\n",
    "            \"\"\"\n",
    "    cur.execute(query)"
   ]
  },
  {
   "cell_type": "code",
   "execution_count": 9,
   "metadata": {},
   "outputs": [],
   "source": [
    "conn = sqlite3.connect(f\"D:\\\\UU\\\\Sem3\\\\SDM\\\\social_data_mining\\\\data\\\\twitter.db\")\n",
    "tweets_table(conn)\n",
    "reference_tweets_table(conn)"
   ]
  },
  {
   "cell_type": "code",
   "execution_count": 14,
   "metadata": {},
   "outputs": [
    {
     "name": "stdout",
     "output_type": "stream",
     "text": [
      "Tweet query: \n",
      "    INSERT INTO tweets (id, text, author_id, created_at, possibly_sensitive, lang, conversation_id, entities, context_annotations, public_metrics, attachments, in_reply_to_user_id, geo, withheld)\n",
      "    VALUES (?, ?, ?, ?, ?, ?, ?, ?, ?, ?, ?, ?, ?, ?)\n",
      "     | RT query: \n",
      "    INSERT INTO referenced_tweets (tweet_id, referenced_tweet_id, referenced_tweet_type)\n",
      "    VALUES (?, ?, ?)\n",
      "    \n"
     ]
    }
   ],
   "source": [
    "tweet_columns = [\n",
    "    \"id\",\n",
    "    \"text\",\n",
    "    \"author_id\",\n",
    "    \"created_at\",\n",
    "    \"possibly_sensitive\",\n",
    "    \"lang\",\n",
    "    \"conversation_id\",\n",
    "    \"entities\",\n",
    "    # \"edit_history_tweet_ids\",\n",
    "    \"context_annotations\",\n",
    "    \"public_metrics\",\n",
    "    \"attachments\",\n",
    "    \"in_reply_to_user_id\",\n",
    "    \"geo\",\n",
    "    \"withheld\"\n",
    "]\n",
    "\n",
    "tweet_query = f\"\"\"\n",
    "    INSERT INTO tweets ({', '.join(tweet_columns)})\n",
    "    VALUES ({', '.join('?' for _ in tweet_columns)})\n",
    "    \"\"\"\n",
    "\n",
    "rt_query = \"\"\"\n",
    "    INSERT INTO referenced_tweets (tweet_id, referenced_tweet_id, referenced_tweet_type)\n",
    "    VALUES (?, ?, ?)\n",
    "    \"\"\"\n",
    "\n",
    "print(f\"Tweet query: {tweet_query} | RT query: {rt_query}\")"
   ]
  },
  {
   "cell_type": "code",
   "execution_count": 11,
   "metadata": {},
   "outputs": [
    {
     "name": "stdout",
     "output_type": "stream",
     "text": [
      "                                            entities  \\\n",
      "0  {'mentions': [{'start': 3, 'end': 15, 'usernam...   \n",
      "1  {'mentions': [{'start': 3, 'end': 19, 'usernam...   \n",
      "2  {'mentions': [{'start': 3, 'end': 11, 'usernam...   \n",
      "3  {'mentions': [{'start': 3, 'end': 18, 'usernam...   \n",
      "4  {'mentions': [{'start': 3, 'end': 15, 'usernam...   \n",
      "\n",
      "                                                text  possibly_sensitive  \\\n",
      "0  RT @MinisterTdB: Climate change won’t stop ove...               False   \n",
      "1  RT @LaurenceTubiana: I just can believe it !we...               False   \n",
      "2  RT @COP21en: We did it! #ParisAgreement is ado...               False   \n",
      "3  RT @TheGlobalGoals: Incredible news for our wo...               False   \n",
      "4  RT @StopShenhua: “The people’s resolve is such...               False   \n",
      "\n",
      "  edit_history_tweet_ids lang                created_at  \\\n",
      "0   [675827469119832066]   en  2015-12-12T23:59:59.000Z   \n",
      "1   [675827469006581760]   en  2015-12-12T23:59:59.000Z   \n",
      "2   [675827468775718912]   en  2015-12-12T23:59:59.000Z   \n",
      "3   [675827465378504705]   en  2015-12-12T23:59:58.000Z   \n",
      "4   [675827465336434688]   en  2015-12-12T23:59:58.000Z   \n",
      "\n",
      "                                   referenced_tweets   author_id  \\\n",
      "0  [{'type': 'retweeted', 'id': '6757779674700390...  1011975294   \n",
      "1  [{'type': 'retweeted', 'id': '6757815547450572...   255144027   \n",
      "2  [{'type': 'retweeted', 'id': '6757487202442977...   214748274   \n",
      "3  [{'type': 'retweeted', 'id': '6757646325990440...   449273927   \n",
      "4  [{'type': 'retweeted', 'id': '6757735596884541...  1601937732   \n",
      "\n",
      "                                 context_annotations     conversation_id  \\\n",
      "0  [{'domain': {'id': '25', 'name': 'Events', 'de...  675827469119832066   \n",
      "1                                                nan  675827469006581760   \n",
      "2                                                nan  675827468775718912   \n",
      "3                                                nan  675827465378504705   \n",
      "4                                                nan  675827465336434688   \n",
      "\n",
      "                   id                                     public_metrics  \\\n",
      "0  675827469119832066  {'retweet_count': 107, 'reply_count': 0, 'like...   \n",
      "1  675827469006581760  {'retweet_count': 109, 'reply_count': 0, 'like...   \n",
      "2  675827468775718912  {'retweet_count': 1204, 'reply_count': 0, 'lik...   \n",
      "3  675827465378504705  {'retweet_count': 110, 'reply_count': 0, 'like...   \n",
      "4  675827465336434688  {'retweet_count': 49, 'reply_count': 0, 'like_...   \n",
      "\n",
      "                                attachments in_reply_to_user_id  geo withheld  \n",
      "0                                       nan                 NaN  nan      nan  \n",
      "1                                       nan                 NaN  nan      nan  \n",
      "2  {'media_keys': ['3_675748710089940992']}                 NaN  nan      nan  \n",
      "3                                       nan                 NaN  nan      nan  \n",
      "4                                       nan                 NaN  nan      nan  \n"
     ]
    }
   ],
   "source": [
    "problematic = [\n",
    "    \"entities\",\n",
    "    \"context_annotations\",\n",
    "    \"public_metrics\",\n",
    "    \"attachments\",\n",
    "    \"geo\",\n",
    "    \"withheld\"  \n",
    "]\n",
    "df = tweets_df.copy()\n",
    "df[problematic] = df[problematic].astype(str)\n",
    "print(df.head())"
   ]
  },
  {
   "cell_type": "code",
   "execution_count": 12,
   "metadata": {},
   "outputs": [
    {
     "name": "stdout",
     "output_type": "stream",
     "text": [
      "                                            entities  \\\n",
      "0  {'mentions': [{'start': 3, 'end': 15, 'usernam...   \n",
      "1  {'mentions': [{'start': 3, 'end': 19, 'usernam...   \n",
      "2  {'mentions': [{'start': 3, 'end': 11, 'usernam...   \n",
      "3  {'mentions': [{'start': 3, 'end': 18, 'usernam...   \n",
      "4  {'mentions': [{'start': 3, 'end': 15, 'usernam...   \n",
      "\n",
      "                                                text  possibly_sensitive  \\\n",
      "0  RT @MinisterTdB: Climate change won’t stop ove...               False   \n",
      "1  RT @LaurenceTubiana: I just can believe it !we...               False   \n",
      "2  RT @COP21en: We did it! #ParisAgreement is ado...               False   \n",
      "3  RT @TheGlobalGoals: Incredible news for our wo...               False   \n",
      "4  RT @StopShenhua: “The people’s resolve is such...               False   \n",
      "\n",
      "  edit_history_tweet_ids lang                created_at  \\\n",
      "0   [675827469119832066]   en  2015-12-12T23:59:59.000Z   \n",
      "1   [675827469006581760]   en  2015-12-12T23:59:59.000Z   \n",
      "2   [675827468775718912]   en  2015-12-12T23:59:59.000Z   \n",
      "3   [675827465378504705]   en  2015-12-12T23:59:58.000Z   \n",
      "4   [675827465336434688]   en  2015-12-12T23:59:58.000Z   \n",
      "\n",
      "                                   referenced_tweets   author_id  \\\n",
      "0  [{'type': 'retweeted', 'id': '6757779674700390...  1011975294   \n",
      "1  [{'type': 'retweeted', 'id': '6757815547450572...   255144027   \n",
      "2  [{'type': 'retweeted', 'id': '6757487202442977...   214748274   \n",
      "3  [{'type': 'retweeted', 'id': '6757646325990440...   449273927   \n",
      "4  [{'type': 'retweeted', 'id': '6757735596884541...  1601937732   \n",
      "\n",
      "                                 context_annotations     conversation_id  \\\n",
      "0  [{'domain': {'id': '25', 'name': 'Events', 'de...  675827469119832066   \n",
      "1                                                nan  675827469006581760   \n",
      "2                                                nan  675827468775718912   \n",
      "3                                                nan  675827465378504705   \n",
      "4                                                nan  675827465336434688   \n",
      "\n",
      "                   id                                     public_metrics  \\\n",
      "0  675827469119832066  {'retweet_count': 107, 'reply_count': 0, 'like...   \n",
      "1  675827469006581760  {'retweet_count': 109, 'reply_count': 0, 'like...   \n",
      "2  675827468775718912  {'retweet_count': 1204, 'reply_count': 0, 'lik...   \n",
      "3  675827465378504705  {'retweet_count': 110, 'reply_count': 0, 'like...   \n",
      "4  675827465336434688  {'retweet_count': 49, 'reply_count': 0, 'like_...   \n",
      "\n",
      "                                attachments in_reply_to_user_id  geo withheld  \\\n",
      "0                                       nan                 NaN  nan      nan   \n",
      "1                                       nan                 NaN  nan      nan   \n",
      "2  {'media_keys': ['3_675748710089940992']}                 NaN  nan      nan   \n",
      "3                                       nan                 NaN  nan      nan   \n",
      "4                                       nan                 NaN  nan      nan   \n",
      "\n",
      "     rt_type               rt_id  \n",
      "0  retweeted  675777967470039040  \n",
      "1  retweeted  675781554745057280  \n",
      "2  retweeted  675748720244297729  \n",
      "3  retweeted  675764632599044096  \n",
      "4  retweeted  675773559688454144  \n"
     ]
    }
   ],
   "source": [
    "df = df.join(\n",
    "    pd.DataFrame(\n",
    "        df[\"referenced_tweets\"].dropna().explode().to_list(),\n",
    "    ).add_prefix(\"rt_\")\n",
    ")\n",
    "print(df.head())"
   ]
  },
  {
   "cell_type": "code",
   "execution_count": 15,
   "metadata": {},
   "outputs": [
    {
     "name": "stdout",
     "output_type": "stream",
     "text": [
      "Inserted 2260916 tweets into the database.\n",
      "Inserted 1577947 referenced tweets into the database.\n"
     ]
    }
   ],
   "source": [
    "chunk_size=100_000\n",
    "cur = conn.cursor()\n",
    "\n",
    "for i in range(0, len(df), chunk_size):\n",
    "    chunk = df.iloc[i : i + chunk_size]\n",
    "    tweets_chunk = chunk[tweet_columns].values.tolist()\n",
    "    rt_chunk = chunk[[\"id\", \"rt_id\", \"rt_type\"]].dropna().values.tolist()\n",
    "    cur.executemany(tweet_query, tweets_chunk)\n",
    "    cur.executemany(rt_query, rt_chunk)\n",
    "    conn.commit()\n",
    "    \n",
    "result = cur.execute(\"SELECT COUNT(*) FROM tweets\").fetchone()[0]\n",
    "print(f\"Inserted {result} tweets into the database.\")\n",
    "result = cur.execute(\"SELECT COUNT(*) FROM referenced_tweets\").fetchone()[0]\n",
    "print(f\"Inserted {result} referenced tweets into the database.\")"
   ]
  },
  {
   "cell_type": "code",
   "execution_count": null,
   "metadata": {},
   "outputs": [],
   "source": []
  }
 ],
 "metadata": {
  "kernelspec": {
   "display_name": "Python 3 (ipykernel)",
   "language": "python",
   "name": "python3"
  },
  "language_info": {
   "codemirror_mode": {
    "name": "ipython",
    "version": 3
   },
   "file_extension": ".py",
   "mimetype": "text/x-python",
   "name": "python",
   "nbconvert_exporter": "python",
   "pygments_lexer": "ipython3",
   "version": "3.11.10"
  }
 },
 "nbformat": 4,
 "nbformat_minor": 4
}
