{
 "cells": [
  {
   "cell_type": "code",
   "execution_count": 1,
   "id": "3bf2ef4d-a052-4942-bab2-e4de1f3c3b89",
   "metadata": {},
   "outputs": [
    {
     "name": "stderr",
     "output_type": "stream",
     "text": [
      "/home/krasky/dev/social_data_mining/.venv/lib/python3.12/site-packages/tqdm/auto.py:21: TqdmWarning: IProgress not found. Please update jupyter and ipywidgets. See https://ipywidgets.readthedocs.io/en/stable/user_install.html\n",
      "  from .autonotebook import tqdm as notebook_tqdm\n",
      "[nltk_data] Downloading package stopwords to /home/krasky/nltk_data...\n",
      "[nltk_data]   Package stopwords is already up-to-date!\n",
      "[nltk_data] Downloading package punkt to /home/krasky/nltk_data...\n",
      "[nltk_data]   Package punkt is already up-to-date!\n",
      "[nltk_data] Downloading package punkt_tab to /home/krasky/nltk_data...\n",
      "[nltk_data]   Package punkt_tab is already up-to-date!\n",
      "[nltk_data] Downloading package wordnet to /home/krasky/nltk_data...\n",
      "[nltk_data]   Package wordnet is already up-to-date!\n"
     ]
    }
   ],
   "source": [
    "from sdm.config import get_db_connection\n",
    "from text_mining.utils import get_preprocessed_LDA\n",
    "from text_mining.language import Language\n",
    "import pandas as pd\n",
    "import seaborn as sns\n",
    "import matplotlib.pyplot as plt"
   ]
  },
  {
   "cell_type": "markdown",
   "id": "57fded22",
   "metadata": {},
   "source": [
    "## Task 1.2: Pre-processing\n",
    "- Apply pre-processing to the data, creating a list of tokens for topic modeling.\n",
    "- Write a reusable function for tokenization.\n",
    "- Refer to relevant papers for guidance."
   ]
  },
  {
   "cell_type": "code",
   "execution_count": 2,
   "id": "506c996e",
   "metadata": {},
   "outputs": [
    {
     "data": {
      "text/html": [
       "<div>\n",
       "<style scoped>\n",
       "    .dataframe tbody tr th:only-of-type {\n",
       "        vertical-align: middle;\n",
       "    }\n",
       "\n",
       "    .dataframe tbody tr th {\n",
       "        vertical-align: top;\n",
       "    }\n",
       "\n",
       "    .dataframe thead th {\n",
       "        text-align: right;\n",
       "    }\n",
       "</style>\n",
       "<table border=\"1\" class=\"dataframe\">\n",
       "  <thead>\n",
       "    <tr style=\"text-align: right;\">\n",
       "      <th></th>\n",
       "      <th>author_id</th>\n",
       "      <th>text_corpus</th>\n",
       "      <th>account_type</th>\n",
       "      <th>lang</th>\n",
       "      <th>stance</th>\n",
       "      <th>processed_corpus</th>\n",
       "    </tr>\n",
       "  </thead>\n",
       "  <tbody>\n",
       "    <tr>\n",
       "      <th>0</th>\n",
       "      <td>8508262</td>\n",
       "      <td>L'accord de Paris adopté par les 195 pays #COP...</td>\n",
       "      <td>Private individuals</td>\n",
       "      <td>fr</td>\n",
       "      <td>For</td>\n",
       "      <td>paris adopté pays https via lemondefr https rt...</td>\n",
       "    </tr>\n",
       "    <tr>\n",
       "      <th>1</th>\n",
       "      <td>3297659759</td>\n",
       "      <td>RT @ecocosmopolita: El Acuerdo de París fue me...</td>\n",
       "      <td>Advocacy actors</td>\n",
       "      <td>es</td>\n",
       "      <td>For</td>\n",
       "      <td>rt ecocosmopolita el acuerdo parís mejor esper...</td>\n",
       "    </tr>\n",
       "    <tr>\n",
       "      <th>2</th>\n",
       "      <td>259352661</td>\n",
       "      <td>RT @RAN: Delegates at #COP21 must work to prot...</td>\n",
       "      <td>Advocacy actors</td>\n",
       "      <td>en</td>\n",
       "      <td>For</td>\n",
       "      <td>rt ran delegates must work protect indonesia p...</td>\n",
       "    </tr>\n",
       "    <tr>\n",
       "      <th>3</th>\n",
       "      <td>955903212</td>\n",
       "      <td>RT @guardianeco: All the NGO reaction to the d...</td>\n",
       "      <td>Advocacy actors</td>\n",
       "      <td>en</td>\n",
       "      <td>For</td>\n",
       "      <td>rt guardianeco all ngo reaction draft paris cl...</td>\n",
       "    </tr>\n",
       "    <tr>\n",
       "      <th>4</th>\n",
       "      <td>2482232082</td>\n",
       "      <td>.@CFigueres: \"I used to say we must  we can  w...</td>\n",
       "      <td>Political actors</td>\n",
       "      <td>es</td>\n",
       "      <td>Unclear</td>\n",
       "      <td>cfigueres i used to say we must we can we will...</td>\n",
       "    </tr>\n",
       "  </tbody>\n",
       "</table>\n",
       "</div>"
      ],
      "text/plain": [
       "    author_id                                        text_corpus  \\\n",
       "0     8508262  L'accord de Paris adopté par les 195 pays #COP...   \n",
       "1  3297659759  RT @ecocosmopolita: El Acuerdo de París fue me...   \n",
       "2   259352661  RT @RAN: Delegates at #COP21 must work to prot...   \n",
       "3   955903212  RT @guardianeco: All the NGO reaction to the d...   \n",
       "4  2482232082  .@CFigueres: \"I used to say we must  we can  w...   \n",
       "\n",
       "          account_type lang   stance  \\\n",
       "0  Private individuals   fr      For   \n",
       "1      Advocacy actors   es      For   \n",
       "2      Advocacy actors   en      For   \n",
       "3      Advocacy actors   en      For   \n",
       "4     Political actors   es  Unclear   \n",
       "\n",
       "                                    processed_corpus  \n",
       "0  paris adopté pays https via lemondefr https rt...  \n",
       "1  rt ecocosmopolita el acuerdo parís mejor esper...  \n",
       "2  rt ran delegates must work protect indonesia p...  \n",
       "3  rt guardianeco all ngo reaction draft paris cl...  \n",
       "4  cfigueres i used to say we must we can we will...  "
      ]
     },
     "execution_count": 2,
     "metadata": {},
     "output_type": "execute_result"
    }
   ],
   "source": [
    "db = get_db_connection(db_path=\"../../../../data/twitter.db\")\n",
    "df = get_preprocessed_LDA(db, min_chars=1_000)\n",
    "# df = get_tweet_corpora(db, min_chars=1000)\n",
    "df.head()"
   ]
  },
  {
   "cell_type": "code",
   "execution_count": 24,
   "id": "868b9535",
   "metadata": {},
   "outputs": [
    {
     "name": "stdout",
     "output_type": "stream",
     "text": [
      "\n",
      "---lang en, words (257 -> 179), role Advocacy actors, stance For---\n",
      "RAW:\n",
      "RT @RAN: Delegates at #COP21 must work to protect Indonesia's people &amp; the #climate from these fires. https://t.co/T3HZnJoZ1N https://t.co/… RT @jdoeschner: #Klimaverhandlungen ins Stocken geraten - Vorlage d neuen Vertragsentwurfs verzögert s um \"mehrere Stunden\" - Nachtschicht … RT @klima_allianz: Um 19 oder 20 Uhr gibt es einen neuen Entwurf #COP21 RT @350: Our new favorite banner coming up at #COP21 -- it's time to break free from fossil fuels #keepitintheground https://t.co/RnyipHGHyn RT @350: Lets be clear. If countries say they support 1.5C target it means fossil fuels have to go #keepitintheground #COP21 https://t.co/Q… Activists' message to Paris ! #cop21 #quitcoal #ParisPledge @energiezukunft_ @wirklimaretter @klima_allianz  https://t.co/yJGRDpMLMp RT @WEDO_worldwide: Women #climate advocates standing in solidarity for 100% renewable. If not us  then who? #COP21 #EarthtoParis https://t… @HanneloreKraft hat kurz vor #COP21 in #Kolumbien f NRW-#Kohle-Industrie geworben &amp; Thema #Menschenrechte gemieden https://t.co/tdXVRfjBCh @DeutscheBank hat zw Gipfeln von Kopenhagen &amp; Paris 13 8 Mrd. $ in #Kohle gepumpt: Eine der langsamsten 🐌! https://t.co/mY8MkRNDCR  #COP21 RT @klima_bund: #DeutscheBank hat zw #Klimagipfel 2009 und #cop21  13 Mrd $ für #Kohle ausgegeben. Und kein Bekenntnis zAusstieg in Sicht. … RT @kuminaidoo: Outragous: European banks clinging to #coal investments https://t.co/7J19df3eQV @350 @urgewald @ran @banktrack #COP21 New report! Big #banks financed $257B of #coal from Copenh. to Paris: #dropcoal at #COP21! https://t.co/vo87rylDQ3 https://t.co/DehTfuKnaU Tolle Audioslideshows: @Oxfam_DE-\"Klimazeugen\" berichten  wie der #Klimawandel Lebensgrundlagen zerstört. #COP21 \n",
      " https://t.co/Ak3cXniCd8 RT @GaiaFoundation: Wonderful pictures from the #HumanChain in #Paris yesterday. Great way to start #COP21: https://t.co/6HiAzFfH4g https:/… RT @DivestBerlin: We love those nasty honest advertising posters in Paris... \n",
      "https://t.co/saBkyQJhom #COP21 https://t.co/0V8nnUWcsR\n",
      "\n",
      "PROCESSED:\n",
      "rt ran delegates must work protect indonesia people amp climate fires https https rt jdoeschner klimaverhandlungen ins stocken geraten vorlage neuen vertragsentwurfs verzögert um mehrere stunden nachtschicht rt um oder uhr gibt es einen neuen entwurf rt our new favorite banner coming time break free fossil fuels keepitintheground https rt lets clear if countries say support target means fossil fuels go keepitintheground https activists message paris quitcoal parispledge wirklimaretter https rt women climate advocates standing solidarity renewable if us earthtoparis https hannelorekraft hat kurz vor kolumbien f geworben amp thema menschenrechte gemieden https deutschebank hat zw gipfeln von kopenhagen amp paris mrd kohle gepumpt eine der langsamsten https rt deutschebank hat zw klimagipfel und mrd für kohle ausgegeben und kein bekenntnis zausstieg sicht rt kuminaidoo outragous european banks clinging coal investments https urgewald ran banktrack new report big banks financed coal copenh paris dropcoal https https tolle audioslideshows klimazeugen berichten wie der klimawandel lebensgrundlagen zerstört https rt gaiafoundation wonderful pictures humanchain paris yesterday great way start https https rt divestberlin we love nasty honest advertising posters paris https https\n",
      "\n",
      "---lang es, words (587 -> 337), role Business actors, stance For---\n",
      "RAW:\n",
      "Recta de las negociaciones de la #COP21 https://t.co/AwFD7u8VRq #Naider #NaiderCOP21 #CambioClimatico Side event: #agricultura bajo #CambioClimatico #COP21 #Naider #NaiderCOP21 https://t.co/gXZc9ZQIH7 El borrador del nuevo acuerdo climático  tal y como se está negociando en estos momentos https://t.co/fo4oIQBPSt #COP21 #Naider#NaiderCOP21 Side event de #IUCN sobre #naturebasedsolutions para el #CambioClimatico  #Naider #NaiderCOP21 #COP21 https://t.co/QgaLtYY1Dr Side event de #FundaciónBiodiversidad sobre #agroecologíasostenible #Naider #NaiderCOP21 #COP21 https://t.co/uVwW8DUYhc El fin del carbón https://t.co/vjuUsZhxzQ  #combustiblesfosiles #cop21 #cambioclimatico #transicionenergetica #naider #naidercop21 #Autobuseselectricos para el #Bourget https://t.co/plmCMgSjTC #cop21 #naider #naidercop21 #greentech #cambioclimatico #climatekic side event: #agriculture and #innovation for #climateactiom #cop21 #naider #naidercop21 https://t.co/lCfrMDLTE0 #cop21 side event: el rol de la energía nuclear en la #LuchaContraElCambioClimatico #naidercop21 https://t.co/46GUAgkOEm #cop21 : mejorando el acceso a la electricidad en #Africa #energiasrenovables https://t.co/m1IV86wQqa Actualización: la #COP21 se pone seria https://t.co/njr4nILefy #naidercop21 #innovación #cambioclimatico #luchacontraelcambioclimatico Un millón de compromisos por el clima https://t.co/04Zpz5dU91  #cop21 #naidercop21 #luchacontraelcambioclimatico #cambioclimatico #FAO llama a combatir #cambioclimatico y #hambre simultáneamente https://t.co/1nz3wpRQe1 #cop21 #naidercop21 #luchacontraelcambioclimatico #globalenvironmentfacility side event: financing the climate investment #cop21 #naidercop21 https://t.co/s7yVkVqwM1 Acabamos de conocer a los representantes de #ICLEI #cop21 #naidercop21 https://t.co/21LuQtCfGo NGO day en el stand de #unesco en #cop21 Hoy es el día de la igualdad de género en #cop21 #WWF : #conservation para la lucha contra el #CambioClimatico #cop21 #naidercop21 https://t.co/ZwE740vvMP Árboles de viento  en el #Bourget #cop21 #naidercop21 #CambioClimatico #energiasrenovables https://t.co/OVIrYxXyZx Hoy  volvemos al espacio Génerations Climat del Bourget #cop21 #naidercop21 #CambioClimatico https://t.co/l71fIfO7Pp Se puede: #Uruguay obtiene un 95% de su electricidad de #energiasrenovables https://t.co/q6xkHoMqFj #cop21 #cambioclimatico #naidercop21 La industria se posiciona por el clima y exige un acuerdo claro https://t.co/uKrMBqTDqs #Cop21 #nadiercop21 #cambioclimatico #sectorprivado Side event: RSC de gran éxito en Brasil #cop21 #naidercop21 #csr #rsc #biodiversity #brasil https://t.co/HLL0aE7vn0 Naider conociendo a BKW y Energy 8 en el Grand Palais #cop21 #CambioClimatico #naidercop21 #sustainablebusiness https://t.co/tDe2fOrbWM Naider en un evento sobre transición urbana #cop21 #naidercop21 #desarrollourbanosostenible #cambioclimatico https://t.co/ZDC9JIVLux Recinto del Grand Palais #COP21 #naidercop21 #CambioClimatico https://t.co/Ek0WjeT0Pp Posters creativos por la sostenibilidad #cop21 #naidercop21 #medioambiente #desarrollosostenible https://t.co/BnRDYju5Le Posters creativos por la sostenibilidad #cop21 #naidercop21 #medioambiente #desarrollosostenible https://t.co/UAUAJlgtgb Climate KIC remarca el papel clave de las ciudades y el sector de la construcción #cop21 #naidercop21 #sostenibilidad #CambioClimatico #COP21  #naidercop21 https://t.co/0sDS3qBZIE Climate KIC: \"el problema no es la falta de innovación. El problema es su acceso al mercado y su escalado\" #COP21 #naidercop21 #climatekic Naider en el evento de ciudades sostenibles de Climate KIC #naidercop21 #COP21 #climatekic https://t.co/CVRhZ57R7p Naider vuelve hoy al Gran Palais #COP21  #naidercop21 #CambioClimatico https://t.co/v98niPt2RL El estado de las negociaciones en la COP21 https://t.co/WbFeF2LuGN  #cop21 #naidercop21 #desarrollosostenible #cambioclimatico El rol de India y China en la COP21 hasta el momento https://t.co/VKWLuVrNcT #cop21 #naidercop21 #cambioclimatico #justiciaclimatica Francia urge a una aceleración de las negociaciones https://t.co/6RPcZu9oBn  #cop21 #naidercop21 #cambioclimatico https://t.co/p299KAHctM en la iniciativa \"4 por mil\" https://t.co/JSqnoJYTYo #naidercop21 #cop21 #españa #desarrollosostenible Posters piratas inundan París reclamando la acción climática https://t.co/F50L2zwP7h #COP21 #NaiderCOP21 #Cambioclimatico #Activismo Naider en el Grand Palais https://t.co/KCNvWkpnBd  #COP21 #NaiderCOP21 #Cambioclimatico #Greentech #ClimateKIC #Innovación El País Vasco en la COP21 https://t.co/2XvsVrAOlS #COP21 #NaiderCOP21 #Euskadi #Cambioclimatico Naider en un side event sobre sostenibilidad urbana #naidercop21 #cop21 #urbansustainability\n",
      "#climatechange https://t.co/msbysOdl4m La COP21 desde dentro https://t.co/okoSLVtIOp #COP21 #cambioclimatico #NaiderCOP21 Nos encontramos ahora en el espacio “Génerations climat” del Bourget  lugar de debates #NaiderCOP21 #Naider #COP21 https://t.co/1qJ4a0v2eZ #NaiderCOP21 Te contamos todo de la #COP21 desde París. Únete a nuestro grupo en Facebook https://t.co/PmeHt18bUY https://t.co/XiZBk35pIP Video: historia de las negociaciones climáticas #COP21 #cambioclimatico https://t.co/nAZlpZN3QN Los republicanos boicotean la política verde de Obama   COP21 en juego #COP21 #Cambioclimatico https://t.co/iYxZ49LU8t Los líderes mundiales transmiten un mensaje de optimismo y determinación en la COP21 #COP21 #cambioclimatico https://t.co/tKJVYuHHMP\n",
      "\n",
      "PROCESSED:\n",
      "recta negociaciones https naider cambioclimatico side event agricultura bajo cambioclimatico naider https el borrador nuevo acuerdo climático tal negociando momentos https naider side event iucn naturebasedsolutions cambioclimatico naider https side event fundaciónbiodiversidad agroecologíasostenible naider https el fin carbón https combustiblesfosiles cambioclimatico transicionenergetica naider autobuseselectricos bourget https naider greentech cambioclimatico climatekic side event agriculture and innovation for climateactiom naider https side event rol energía nuclear luchacontraelcambioclimatico https mejorando acceso electricidad africa energiasrenovables https actualización pone seria https innovación cambioclimatico luchacontraelcambioclimatico un millón compromisos clima https luchacontraelcambioclimatico cambioclimatico fao llama combatir cambioclimatico hambre simultáneamente https luchacontraelcambioclimatico globalenvironmentfacility side event financing the climate investment https acabamos conocer representantes iclei https ngo day stand unesco hoy día igualdad género wwf conservation lucha cambioclimatico https árboles viento bourget cambioclimatico energiasrenovables https hoy volvemos espacio génerations climat bourget cambioclimatico https se puede uruguay obtiene electricidad energiasrenovables https cambioclimatico la industria posiciona clima exige acuerdo claro https cambioclimatico sectorprivado side event rsc gran éxito brasil csr rsc biodiversity brasil https naider conociendo bkw energy grand palais cambioclimatico sustainablebusiness https naider evento transición urbana desarrollourbanosostenible cambioclimatico https recinto grand palais cambioclimatico https posters creativos sostenibilidad medioambiente desarrollosostenible https posters creativos sostenibilidad medioambiente desarrollosostenible https climate kic remarca papel clave ciudades sector construcción sostenibilidad cambioclimatico https climate kic problema falta innovación el problema acceso mercado escalado climatekic naider evento ciudades sostenibles climate kic climatekic https naider vuelve hoy gran palais cambioclimatico https el negociaciones https desarrollosostenible cambioclimatico el rol india china momento https cambioclimatico justiciaclimatica francia urge aceleración negociaciones https cambioclimatico https iniciativa mil https españa desarrollosostenible posters piratas inundan parís reclamando acción climática https cambioclimatico activismo naider grand palais https cambioclimatico greentech climatekic innovación el país vasco https euskadi cambioclimatico naider side event sostenibilidad urbana urbansustainability climatechange https la dentro https cambioclimatico nos encontramos ahora espacio génerations climat bourget lugar debates naider https te contamos parís únete grupo facebook https https video historia negociaciones climáticas cambioclimatico https los republicanos boicotean política verde obama juego cambioclimatico https los líderes mundiales transmiten mensaje optimismo determinación cambioclimatico https\n"
     ]
    }
   ],
   "source": [
    "for c in df.sample(2).itertuples():\n",
    "    print(f\"\\n---lang {c.lang}, words ({len(c.text_corpus.split())} -> {len(c.processed_corpus.split())}), role {c.account_type}, stance {c.stance}---\")\n",
    "    print(\"RAW:\")\n",
    "    print(c.text_corpus)\n",
    "    print(\"\\nPROCESSED:\")\n",
    "    print(c.processed_corpus)"
   ]
  },
  {
   "cell_type": "markdown",
   "id": "e645b740",
   "metadata": {},
   "source": [
    "### Note: People are way too multilingual. The lang field is not always accurrate and we sometimes use stop words in english when part of or all of an author's corpus is mixed (or vice versa). Default english is really good since it seems this is a global event."
   ]
  },
  {
   "cell_type": "markdown",
   "id": "d8529cdd",
   "metadata": {},
   "source": []
  }
 ],
 "metadata": {
  "kernelspec": {
   "display_name": ".venv",
   "language": "python",
   "name": "python3"
  },
  "language_info": {
   "codemirror_mode": {
    "name": "ipython",
    "version": 3
   },
   "file_extension": ".py",
   "mimetype": "text/x-python",
   "name": "python",
   "nbconvert_exporter": "python",
   "pygments_lexer": "ipython3",
   "version": "3.12.7"
  }
 },
 "nbformat": 4,
 "nbformat_minor": 5
}
