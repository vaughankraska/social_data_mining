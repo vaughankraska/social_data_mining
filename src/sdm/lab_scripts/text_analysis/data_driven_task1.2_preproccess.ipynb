{
 "cells": [
  {
   "cell_type": "code",
   "execution_count": null,
   "id": "3bf2ef4d-a052-4942-bab2-e4de1f3c3b89",
   "metadata": {},
   "outputs": [],
   "source": [
    "from sdm.config import get_db_connection\n",
    "from text_mining.data import get_tweet_corpora\n",
    "from text_mining.utils import preprocess_tweets\n",
    "from nltk.tokenize import word_tokenize\n",
    "import pandas as pd\n",
    "import numpy as np\n",
    "import seaborn as sns\n",
    "import matplotlib.pyplot as plt"
   ]
  },
  {
   "cell_type": "markdown",
   "id": "57fded22",
   "metadata": {},
   "source": [
    "## Task 1.2: Pre-processing\n",
    "- Apply pre-processing to the data, creating a list of tokens for topic modeling.\n",
    "- Write a reusable function for tokenization.\n",
    "- Refer to relevant papers for guidance."
   ]
  },
  {
   "cell_type": "code",
   "execution_count": null,
   "id": "506c996e",
   "metadata": {},
   "outputs": [],
   "source": []
  }
 ],
 "metadata": {
  "kernelspec": {
   "display_name": ".venv",
   "language": "python",
   "name": "python3"
  },
  "language_info": {
   "codemirror_mode": {
    "name": "ipython",
    "version": 3
   },
   "file_extension": ".py",
   "mimetype": "text/x-python",
   "name": "python",
   "nbconvert_exporter": "python",
   "pygments_lexer": "ipython3",
   "version": "3.12.7"
  }
 },
 "nbformat": 4,
 "nbformat_minor": 5
}
