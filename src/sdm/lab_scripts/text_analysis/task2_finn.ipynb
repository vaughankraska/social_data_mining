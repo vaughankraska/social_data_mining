{
 "cells": [
  {
   "cell_type": "code",
   "execution_count": 1,
   "metadata": {},
   "outputs": [
    {
     "name": "stderr",
     "output_type": "stream",
     "text": [
      "/home/krasky/dev/social_data_mining/.venv/lib/python3.12/site-packages/tqdm/auto.py:21: TqdmWarning: IProgress not found. Please update jupyter and ipywidgets. See https://ipywidgets.readthedocs.io/en/stable/user_install.html\n",
      "  from .autonotebook import tqdm as notebook_tqdm\n",
      "[nltk_data] Downloading package stopwords to /home/krasky/nltk_data...\n",
      "[nltk_data]   Package stopwords is already up-to-date!\n",
      "[nltk_data] Downloading package punkt to /home/krasky/nltk_data...\n",
      "[nltk_data]   Package punkt is already up-to-date!\n",
      "[nltk_data] Downloading package wordnet to /home/krasky/nltk_data...\n",
      "[nltk_data]   Package wordnet is already up-to-date!\n"
     ]
    }
   ],
   "source": [
    "import pandas as pd\n",
    "from text_mining.utils import annotate_texts, analyze_with_vader, krippendorff_analysis, train_classifier, preprocess_tweets, analyze_with_transformer\n",
    "from text_mining.data import load_excel_annotations, load_sentiment_dict"
   ]
  },
  {
   "cell_type": "code",
   "execution_count": 2,
   "metadata": {},
   "outputs": [
    {
     "name": "stdout",
     "output_type": "stream",
     "text": [
      "train len = 15000, test len = 3000\n",
      "<class 'pandas.core.frame.DataFrame'>\n",
      "Index: 621 entries, 0 to 2108\n",
      "Data columns (total 5 columns):\n",
      " #   Column  Non-Null Count  Dtype  \n",
      "---  ------  --------------  -----  \n",
      " 0   ID      621 non-null    int64  \n",
      " 1   CODE    621 non-null    float64\n",
      " 2   TEXT    621 non-null    object \n",
      " 3   coder   621 non-null    int64  \n",
      " 4   train   621 non-null    bool   \n",
      "dtypes: bool(1), float64(1), int64(2), object(1)\n",
      "memory usage: 24.9+ KB\n"
     ]
    }
   ],
   "source": [
    "df_train = load_excel_annotations(\"../../../../data/train.xlsx\")\n",
    "df_train[\"train\"] = True\n",
    "df_test = load_excel_annotations(\"../../../../data/test.xlsx\")\n",
    "df_test[\"train\"] = False\n",
    "df = pd.concat([df_train, df_test])\n",
    "print(f\"train len = {len(df_train)}, test len = {len(df_test)}\")\n",
    "df = df.dropna()\n",
    "df.info()"
   ]
  },
  {
   "cell_type": "markdown",
   "metadata": {},
   "source": [
    "## 2.1  **Own Dictionary**\n",
    "   - Use a custom dictionary for tweet annotation."
   ]
  },
  {
   "cell_type": "code",
   "execution_count": 3,
   "metadata": {},
   "outputs": [
    {
     "data": {
      "text/html": [
       "<div>\n",
       "<style scoped>\n",
       "    .dataframe tbody tr th:only-of-type {\n",
       "        vertical-align: middle;\n",
       "    }\n",
       "\n",
       "    .dataframe tbody tr th {\n",
       "        vertical-align: top;\n",
       "    }\n",
       "\n",
       "    .dataframe thead th {\n",
       "        text-align: right;\n",
       "    }\n",
       "</style>\n",
       "<table border=\"1\" class=\"dataframe\">\n",
       "  <thead>\n",
       "    <tr style=\"text-align: right;\">\n",
       "      <th></th>\n",
       "      <th>ID</th>\n",
       "      <th>CODE</th>\n",
       "      <th>coder</th>\n",
       "      <th>dict_sentiment</th>\n",
       "      <th>dict_sentiment_rounded</th>\n",
       "    </tr>\n",
       "  </thead>\n",
       "  <tbody>\n",
       "    <tr>\n",
       "      <th>count</th>\n",
       "      <td>6.210000e+02</td>\n",
       "      <td>621.000000</td>\n",
       "      <td>621.000000</td>\n",
       "      <td>621.000000</td>\n",
       "      <td>621.000000</td>\n",
       "    </tr>\n",
       "    <tr>\n",
       "      <th>mean</th>\n",
       "      <td>6.733590e+17</td>\n",
       "      <td>0.201288</td>\n",
       "      <td>2.127214</td>\n",
       "      <td>0.102254</td>\n",
       "      <td>0.099839</td>\n",
       "    </tr>\n",
       "    <tr>\n",
       "      <th>std</th>\n",
       "      <td>1.983991e+15</td>\n",
       "      <td>0.770252</td>\n",
       "      <td>0.849051</td>\n",
       "      <td>0.636278</td>\n",
       "      <td>0.624513</td>\n",
       "    </tr>\n",
       "    <tr>\n",
       "      <th>min</th>\n",
       "      <td>6.711166e+17</td>\n",
       "      <td>-1.000000</td>\n",
       "      <td>1.000000</td>\n",
       "      <td>-1.000000</td>\n",
       "      <td>-1.000000</td>\n",
       "    </tr>\n",
       "    <tr>\n",
       "      <th>25%</th>\n",
       "      <td>6.721735e+17</td>\n",
       "      <td>0.000000</td>\n",
       "      <td>1.000000</td>\n",
       "      <td>0.000000</td>\n",
       "      <td>0.000000</td>\n",
       "    </tr>\n",
       "    <tr>\n",
       "      <th>50%</th>\n",
       "      <td>6.722123e+17</td>\n",
       "      <td>0.000000</td>\n",
       "      <td>2.000000</td>\n",
       "      <td>0.000000</td>\n",
       "      <td>0.000000</td>\n",
       "    </tr>\n",
       "    <tr>\n",
       "      <th>75%</th>\n",
       "      <td>6.758118e+17</td>\n",
       "      <td>1.000000</td>\n",
       "      <td>3.000000</td>\n",
       "      <td>0.500000</td>\n",
       "      <td>0.000000</td>\n",
       "    </tr>\n",
       "    <tr>\n",
       "      <th>max</th>\n",
       "      <td>6.758268e+17</td>\n",
       "      <td>1.000000</td>\n",
       "      <td>3.000000</td>\n",
       "      <td>1.000000</td>\n",
       "      <td>1.000000</td>\n",
       "    </tr>\n",
       "  </tbody>\n",
       "</table>\n",
       "</div>"
      ],
      "text/plain": [
       "                 ID        CODE       coder  dict_sentiment  \\\n",
       "count  6.210000e+02  621.000000  621.000000      621.000000   \n",
       "mean   6.733590e+17    0.201288    2.127214        0.102254   \n",
       "std    1.983991e+15    0.770252    0.849051        0.636278   \n",
       "min    6.711166e+17   -1.000000    1.000000       -1.000000   \n",
       "25%    6.721735e+17    0.000000    1.000000        0.000000   \n",
       "50%    6.722123e+17    0.000000    2.000000        0.000000   \n",
       "75%    6.758118e+17    1.000000    3.000000        0.500000   \n",
       "max    6.758268e+17    1.000000    3.000000        1.000000   \n",
       "\n",
       "       dict_sentiment_rounded  \n",
       "count              621.000000  \n",
       "mean                 0.099839  \n",
       "std                  0.624513  \n",
       "min                 -1.000000  \n",
       "25%                  0.000000  \n",
       "50%                  0.000000  \n",
       "75%                  0.000000  \n",
       "max                  1.000000  "
      ]
     },
     "execution_count": 3,
     "metadata": {},
     "output_type": "execute_result"
    }
   ],
   "source": [
    "annotations = annotate_texts(\n",
    "    df[\"TEXT\"].tolist(),\n",
    "    sentiment_dict_path=\"../../../../data/COPSSentimentDict.csv\"\n",
    "    )\n",
    "df[\"dict_sentiment\"] = annotations\n",
    "df[\"dict_sentiment_rounded\"] = [round(annotation) for annotation in annotations]\n",
    "# print(df[\"dict_sentiment_rounded\"].unique())\n",
    "df.describe()"
   ]
  },
  {
   "cell_type": "code",
   "execution_count": 4,
   "metadata": {},
   "outputs": [
    {
     "name": "stdout",
     "output_type": "stream",
     "text": [
      "Krippendorff's Alpha: 0.1728\n",
      "The methods show poor agreement.\n",
      "\n",
      "Method-wise Agreement Summary:\n",
      "\n",
      "human comparison with other methods:\n",
      "  'human' vs. 'our dict': 38.49% agreement\n",
      "\n",
      "our dict comparison with other methods:\n",
      "  'our dict' vs. 'human': 38.49% agreement\n",
      "\n",
      " -- ROUNDED\n",
      "Krippendorff's Alpha: 0.1475\n",
      "The methods show poor agreement.\n",
      "\n",
      "Method-wise Agreement Summary:\n",
      "\n",
      "human comparison with other methods:\n",
      "  'human' vs. 'our dict rounded': 43.96% agreement\n",
      "\n",
      "our dict rounded comparison with other methods:\n",
      "  'our dict rounded' vs. 'human': 43.96% agreement\n"
     ]
    }
   ],
   "source": [
    "krippendorff_analysis(\n",
    "    df[[\"CODE\", \"dict_sentiment\"]].to_numpy(),\n",
    "    method_names=[\"human\", \"our dict\"]\n",
    ")\n",
    "print(\"\\n -- ROUNDED\")\n",
    "krippendorff_analysis(\n",
    "    df[[\"CODE\", \"dict_sentiment_rounded\"]].to_numpy(),\n",
    "    method_names=[\"human\", \"our dict rounded\"]\n",
    ")"
   ]
  },
  {
   "cell_type": "markdown",
   "metadata": {},
   "source": [
    "## **2.2: VADER**\n",
    "   - Employ VADER for sentiment analysis.\n"
   ]
  },
  {
   "cell_type": "code",
   "execution_count": 5,
   "metadata": {},
   "outputs": [
    {
     "data": {
      "text/html": [
       "<div>\n",
       "<style scoped>\n",
       "    .dataframe tbody tr th:only-of-type {\n",
       "        vertical-align: middle;\n",
       "    }\n",
       "\n",
       "    .dataframe tbody tr th {\n",
       "        vertical-align: top;\n",
       "    }\n",
       "\n",
       "    .dataframe thead th {\n",
       "        text-align: right;\n",
       "    }\n",
       "</style>\n",
       "<table border=\"1\" class=\"dataframe\">\n",
       "  <thead>\n",
       "    <tr style=\"text-align: right;\">\n",
       "      <th></th>\n",
       "      <th>v_sentiment</th>\n",
       "      <th>v_sentiment_rounded</th>\n",
       "      <th>CODE</th>\n",
       "    </tr>\n",
       "  </thead>\n",
       "  <tbody>\n",
       "    <tr>\n",
       "      <th>36</th>\n",
       "      <td>0.0772</td>\n",
       "      <td>0</td>\n",
       "      <td>0.0</td>\n",
       "    </tr>\n",
       "    <tr>\n",
       "      <th>1025</th>\n",
       "      <td>0.1027</td>\n",
       "      <td>0</td>\n",
       "      <td>1.0</td>\n",
       "    </tr>\n",
       "    <tr>\n",
       "      <th>9989</th>\n",
       "      <td>0.3182</td>\n",
       "      <td>0</td>\n",
       "      <td>0.0</td>\n",
       "    </tr>\n",
       "    <tr>\n",
       "      <th>8</th>\n",
       "      <td>-0.2500</td>\n",
       "      <td>0</td>\n",
       "      <td>-1.0</td>\n",
       "    </tr>\n",
       "    <tr>\n",
       "      <th>5037</th>\n",
       "      <td>0.0000</td>\n",
       "      <td>0</td>\n",
       "      <td>1.0</td>\n",
       "    </tr>\n",
       "  </tbody>\n",
       "</table>\n",
       "</div>"
      ],
      "text/plain": [
       "      v_sentiment  v_sentiment_rounded  CODE\n",
       "36         0.0772                    0   0.0\n",
       "1025       0.1027                    0   1.0\n",
       "9989       0.3182                    0   0.0\n",
       "8         -0.2500                    0  -1.0\n",
       "5037       0.0000                    0   1.0"
      ]
     },
     "execution_count": 5,
     "metadata": {},
     "output_type": "execute_result"
    }
   ],
   "source": [
    "v_annotations = analyze_with_vader(df[\"TEXT\"].tolist())\n",
    "df[\"v_sentiment\"] = v_annotations\n",
    "df[\"v_sentiment_rounded\"] = [round(a) for a in v_annotations]\n",
    "df[[\"v_sentiment\", \"v_sentiment_rounded\", \"CODE\"]].sample(10).head()"
   ]
  },
  {
   "cell_type": "code",
   "execution_count": 6,
   "metadata": {},
   "outputs": [
    {
     "name": "stdout",
     "output_type": "stream",
     "text": [
      "Krippendorff's Alpha: 0.3281\n",
      "The methods show poor agreement.\n",
      "\n",
      "Method-wise Agreement Summary:\n",
      "\n",
      "human comparison with other methods:\n",
      "  'human' vs. 'vader': 19.16% agreement\n",
      "\n",
      "vader comparison with other methods:\n",
      "  'vader' vs. 'human': 19.16% agreement\n",
      "\n",
      "---ROUNDED---\n",
      "Krippendorff's Alpha: 0.2937\n",
      "The methods show poor agreement.\n",
      "\n",
      "Method-wise Agreement Summary:\n",
      "\n",
      "human comparison with other methods:\n",
      "  'human' vs. 'vader rounded': 49.44% agreement\n",
      "\n",
      "vader rounded comparison with other methods:\n",
      "  'vader rounded' vs. 'human': 49.44% agreement\n"
     ]
    }
   ],
   "source": [
    "krippendorff_analysis(\n",
    "    df[[\"CODE\", \"v_sentiment\"]].to_numpy(),\n",
    "    method_names=[\"human\", \"vader\"]\n",
    ")\n",
    "print(\"\\n---ROUNDED---\")\n",
    "krippendorff_analysis(\n",
    "    df[[\"CODE\", \"v_sentiment_rounded\"]].to_numpy(),\n",
    "    method_names=[\"human\", \"vader rounded\"]\n",
    ")"
   ]
  },
  {
   "cell_type": "markdown",
   "metadata": {},
   "source": [
    "## 2.3: Machine Learning\n",
    "   - Train a classifier (**Naive Bayes**) using bag-of-words features."
   ]
  },
  {
   "cell_type": "code",
   "execution_count": 7,
   "metadata": {},
   "outputs": [
    {
     "name": "stdout",
     "output_type": "stream",
     "text": [
      "Classification Rep:\n",
      "              precision    recall  f1-score   support\n",
      "\n",
      "        -1.0       0.44      0.35      0.39        20\n",
      "         0.0       0.53      0.64      0.58        47\n",
      "         1.0       0.67      0.60      0.64        58\n",
      "\n",
      "    accuracy                           0.58       125\n",
      "   macro avg       0.55      0.53      0.53       125\n",
      "weighted avg       0.58      0.58      0.57       125\n",
      "\n"
     ]
    },
    {
     "data": {
      "text/html": [
       "<div>\n",
       "<style scoped>\n",
       "    .dataframe tbody tr th:only-of-type {\n",
       "        vertical-align: middle;\n",
       "    }\n",
       "\n",
       "    .dataframe tbody tr th {\n",
       "        vertical-align: top;\n",
       "    }\n",
       "\n",
       "    .dataframe thead th {\n",
       "        text-align: right;\n",
       "    }\n",
       "</style>\n",
       "<table border=\"1\" class=\"dataframe\">\n",
       "  <thead>\n",
       "    <tr style=\"text-align: right;\">\n",
       "      <th></th>\n",
       "      <th>CODE</th>\n",
       "      <th>ml_sentiment</th>\n",
       "    </tr>\n",
       "  </thead>\n",
       "  <tbody>\n",
       "    <tr>\n",
       "      <th>36</th>\n",
       "      <td>0.0</td>\n",
       "      <td>0.0</td>\n",
       "    </tr>\n",
       "    <tr>\n",
       "      <th>1040</th>\n",
       "      <td>-1.0</td>\n",
       "      <td>-1.0</td>\n",
       "    </tr>\n",
       "    <tr>\n",
       "      <th>2023</th>\n",
       "      <td>1.0</td>\n",
       "      <td>-1.0</td>\n",
       "    </tr>\n",
       "    <tr>\n",
       "      <th>10015</th>\n",
       "      <td>1.0</td>\n",
       "      <td>0.0</td>\n",
       "    </tr>\n",
       "    <tr>\n",
       "      <th>5010</th>\n",
       "      <td>1.0</td>\n",
       "      <td>0.0</td>\n",
       "    </tr>\n",
       "  </tbody>\n",
       "</table>\n",
       "</div>"
      ],
      "text/plain": [
       "       CODE  ml_sentiment\n",
       "36      0.0           0.0\n",
       "1040   -1.0          -1.0\n",
       "2023    1.0          -1.0\n",
       "10015   1.0           0.0\n",
       "5010    1.0           0.0"
      ]
     },
     "execution_count": 7,
     "metadata": {},
     "output_type": "execute_result"
    }
   ],
   "source": [
    "classifer, vectorizer = train_classifier(df[\"TEXT\"].tolist(), labels=df[\"CODE\"])\n",
    "ml_annotations = classifer.predict(vectorizer.transform(preprocess_tweets(df[\"TEXT\"])))\n",
    "df[\"ml_sentiment\"] = ml_annotations\n",
    "df[[\"CODE\", \"ml_sentiment\"]].sample(10).head()"
   ]
  },
  {
   "cell_type": "code",
   "execution_count": 8,
   "metadata": {},
   "outputs": [
    {
     "name": "stdout",
     "output_type": "stream",
     "text": [
      "Krippendorff's Alpha: 0.7405\n",
      "The methods show moderate agreement.\n",
      "\n",
      "Method-wise Agreement Summary:\n",
      "\n",
      "Human comparison with other methods:\n",
      "  'Human' vs. 'ML': 80.35% agreement\n",
      "\n",
      "ML comparison with other methods:\n",
      "  'ML' vs. 'Human': 80.35% agreement\n"
     ]
    }
   ],
   "source": [
    "krippendorff_analysis(\n",
    "    df[[\"CODE\", \"ml_sentiment\"]].to_numpy(),\n",
    "    method_names=[\"Human\", \"ML\"]\n",
    ") # NOTE The agreeement is only on the rows that were in the training data (overfit?)"
   ]
  },
  {
   "cell_type": "markdown",
   "metadata": {},
   "source": [
    "## 2.4: Transformer Model\n",
    "   - Apply a fine-tuned transformer model for sentiment analysis."
   ]
  },
  {
   "cell_type": "code",
   "execution_count": 12,
   "metadata": {},
   "outputs": [
    {
     "name": "stderr",
     "output_type": "stream",
     "text": [
      "Device set to use cuda:0\n"
     ]
    },
    {
     "data": {
      "text/html": [
       "<div>\n",
       "<style scoped>\n",
       "    .dataframe tbody tr th:only-of-type {\n",
       "        vertical-align: middle;\n",
       "    }\n",
       "\n",
       "    .dataframe tbody tr th {\n",
       "        vertical-align: top;\n",
       "    }\n",
       "\n",
       "    .dataframe thead th {\n",
       "        text-align: right;\n",
       "    }\n",
       "</style>\n",
       "<table border=\"1\" class=\"dataframe\">\n",
       "  <thead>\n",
       "    <tr style=\"text-align: right;\">\n",
       "      <th></th>\n",
       "      <th>CODE</th>\n",
       "      <th>llm_sentiment</th>\n",
       "      <th>llm_sentiment_rounded</th>\n",
       "      <th>TEXT</th>\n",
       "    </tr>\n",
       "  </thead>\n",
       "  <tbody>\n",
       "    <tr>\n",
       "      <th>14898</th>\n",
       "      <td>0.0</td>\n",
       "      <td>-0.999235</td>\n",
       "      <td>-1</td>\n",
       "      <td>What target is Vietnam going to #COP21 with? h...</td>\n",
       "    </tr>\n",
       "    <tr>\n",
       "      <th>19</th>\n",
       "      <td>-1.0</td>\n",
       "      <td>-0.983257</td>\n",
       "      <td>-1</td>\n",
       "      <td>What are all the things climate change can't d...</td>\n",
       "    </tr>\n",
       "    <tr>\n",
       "      <th>9993</th>\n",
       "      <td>1.0</td>\n",
       "      <td>0.997141</td>\n",
       "      <td>1</td>\n",
       "      <td>Dear @twitter, I really like your #COP21 #Clim...</td>\n",
       "    </tr>\n",
       "    <tr>\n",
       "      <th>1007</th>\n",
       "      <td>1.0</td>\n",
       "      <td>-0.988685</td>\n",
       "      <td>-1</td>\n",
       "      <td>Our CEO Dr. Chad Nelsen contributed to The Huf...</td>\n",
       "    </tr>\n",
       "    <tr>\n",
       "      <th>10017</th>\n",
       "      <td>-1.0</td>\n",
       "      <td>-0.996951</td>\n",
       "      <td>-1</td>\n",
       "      <td>When you mean to write fossil fuel extraction ...</td>\n",
       "    </tr>\n",
       "    <tr>\n",
       "      <th>54</th>\n",
       "      <td>1.0</td>\n",
       "      <td>-0.834195</td>\n",
       "      <td>-1</td>\n",
       "      <td>#Paris climate deal: nearly 200 nations sign i...</td>\n",
       "    </tr>\n",
       "    <tr>\n",
       "      <th>2062</th>\n",
       "      <td>1.0</td>\n",
       "      <td>0.999160</td>\n",
       "      <td>1</td>\n",
       "      <td>Just when you start to lose faith in humanity,...</td>\n",
       "    </tr>\n",
       "    <tr>\n",
       "      <th>14985</th>\n",
       "      <td>0.0</td>\n",
       "      <td>-0.973398</td>\n",
       "      <td>-1</td>\n",
       "      <td>DipNote ¬∞ Five Things You Need To Know About ...</td>\n",
       "    </tr>\n",
       "    <tr>\n",
       "      <th>5062</th>\n",
       "      <td>1.0</td>\n",
       "      <td>-0.994509</td>\n",
       "      <td>-1</td>\n",
       "      <td>Thanks for posting Civil Society's #COP21 stat...</td>\n",
       "    </tr>\n",
       "    <tr>\n",
       "      <th>2025</th>\n",
       "      <td>1.0</td>\n",
       "      <td>-0.974537</td>\n",
       "      <td>-1</td>\n",
       "      <td>#COP21 Historic Paris climate pact reached ‚Äì...</td>\n",
       "    </tr>\n",
       "  </tbody>\n",
       "</table>\n",
       "</div>"
      ],
      "text/plain": [
       "       CODE  llm_sentiment  llm_sentiment_rounded  \\\n",
       "14898   0.0      -0.999235                     -1   \n",
       "19     -1.0      -0.983257                     -1   \n",
       "9993    1.0       0.997141                      1   \n",
       "1007    1.0      -0.988685                     -1   \n",
       "10017  -1.0      -0.996951                     -1   \n",
       "54      1.0      -0.834195                     -1   \n",
       "2062    1.0       0.999160                      1   \n",
       "14985   0.0      -0.973398                     -1   \n",
       "5062    1.0      -0.994509                     -1   \n",
       "2025    1.0      -0.974537                     -1   \n",
       "\n",
       "                                                    TEXT  \n",
       "14898  What target is Vietnam going to #COP21 with? h...  \n",
       "19     What are all the things climate change can't d...  \n",
       "9993   Dear @twitter, I really like your #COP21 #Clim...  \n",
       "1007   Our CEO Dr. Chad Nelsen contributed to The Huf...  \n",
       "10017  When you mean to write fossil fuel extraction ...  \n",
       "54     #Paris climate deal: nearly 200 nations sign i...  \n",
       "2062   Just when you start to lose faith in humanity,...  \n",
       "14985  DipNote ¬∞ Five Things You Need To Know About ...  \n",
       "5062   Thanks for posting Civil Society's #COP21 stat...  \n",
       "2025   #COP21 Historic Paris climate pact reached ‚Äì...  "
      ]
     },
     "execution_count": 12,
     "metadata": {},
     "output_type": "execute_result"
    }
   ],
   "source": [
    "llm_annotations = analyze_with_transformer(df[\"TEXT\"])\n",
    "df[\"llm_sentiment\"] = llm_annotations\n",
    "df[\"llm_sentiment_rounded\"] = [round(s) for s in llm_annotations]\n",
    "df[[\"CODE\", \"llm_sentiment\", \"llm_sentiment_rounded\", \"TEXT\"]].sample(10)\n",
    "# info: distilbert/distilbert-base-uncased-finetuned-sst-2-english"
   ]
  },
  {
   "cell_type": "code",
   "execution_count": null,
   "metadata": {},
   "outputs": [
    {
     "name": "stdout",
     "output_type": "stream",
     "text": [
      "Krippendorff's Alpha: 0.2595\n",
      "The methods show poor agreement.\n",
      "\n",
      "Method-wise Agreement Summary:\n",
      "\n",
      "human comparison with other methods:\n",
      "  'human' vs. 'vader': 0.00% agreement\n",
      "\n",
      "vader comparison with other methods:\n",
      "  'vader' vs. 'human': 0.00% agreement\n",
      "\n",
      "---ROUNDED---\n",
      "Krippendorff's Alpha: 0.1433\n",
      "The methods show poor agreement.\n",
      "\n",
      "Method-wise Agreement Summary:\n",
      "\n",
      "human comparison with other methods:\n",
      "  'human' vs. 'vader rounded': 38.97% agreement\n",
      "\n",
      "vader rounded comparison with other methods:\n",
      "  'vader rounded' vs. 'human': 38.97% agreement\n"
     ]
    }
   ],
   "source": [
    "krippendorff_analysis(\n",
    "    df[[\"CODE\", \"llm_sentiment\"]],\n",
    "    method_names=[\"human\", \"llm sentiment\"]\n",
    ")\n",
    "print(\"\\n---ROUNDED---\")\n",
    "krippendorff_analysis(\n",
    "    df[[\"CODE\", \"llm_sentiment_rounded\"]],\n",
    "    method_names=[\"human\", \"llm rounded\"]\n",
    ")"
   ]
  },
  {
   "cell_type": "code",
   "execution_count": null,
   "metadata": {},
   "outputs": [],
   "source": [
    "\n"
   ]
  },
  {
   "cell_type": "code",
   "execution_count": null,
   "metadata": {},
   "outputs": [],
   "source": [
    "# test kripp walk\n",
    "temp = [\n",
    "    [1, 1],  # Tweet 1: All methods agree on 'positive'\n",
    "    [0, 0],  # Tweet 2: All methods agree on 'neutral'\n",
    "    [-1, -1],  # Tweet 3: All methods agree on 'negative'\n",
    "    [1, 1],  # Tweet 4: All methods agree on 'positive'\n",
    "    [0, 0],  # Tweet 5: All methods agree on 'neutral'\n",
    "]\n",
    "krippendorff_analysis(temp, method_names=[f\"{i}\" for i in range(len(temp[0]))])"
   ]
  }
 ],
 "metadata": {
  "kernelspec": {
   "display_name": ".venv",
   "language": "python",
   "name": "python3"
  },
  "language_info": {
   "codemirror_mode": {
    "name": "ipython",
    "version": 3
   },
   "file_extension": ".py",
   "mimetype": "text/x-python",
   "name": "python",
   "nbconvert_exporter": "python",
   "pygments_lexer": "ipython3",
   "version": "3.12.7"
  }
 },
 "nbformat": 4,
 "nbformat_minor": 2
}
