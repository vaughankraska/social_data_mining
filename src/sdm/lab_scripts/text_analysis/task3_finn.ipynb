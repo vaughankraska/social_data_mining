{
 "cells": [
  {
   "cell_type": "code",
   "execution_count": 5,
   "id": "3bf2ef4d-a052-4942-bab2-e4de1f3c3b89",
   "metadata": {},
   "outputs": [],
   "source": [
    "from sdm.config import get_db_connection\n",
    "from text_mining.data import get_research_dataframe, load_excel_annotations\n",
    "from text_mining.utils import train_classifier, preprocess_tweets\n",
    "import pandas as pd\n",
    "import numpy as np\n",
    "import seaborn as sns\n",
    "import matplotlib.pyplot as plt"
   ]
  },
  {
   "cell_type": "code",
   "execution_count": 6,
   "id": "fcc96288",
   "metadata": {},
   "outputs": [
    {
     "name": "stdout",
     "output_type": "stream",
     "text": [
      "<class 'pandas.core.frame.DataFrame'>\n",
      "RangeIndex: 26019 entries, 0 to 26018\n",
      "Data columns (total 5 columns):\n",
      " #   Column        Non-Null Count  Dtype \n",
      "---  ------        --------------  ----- \n",
      " 0   account_id    26019 non-null  object\n",
      " 1   tweet_text    26019 non-null  object\n",
      " 2   account_type  26019 non-null  object\n",
      " 3   lang          26019 non-null  object\n",
      " 4   stance        25480 non-null  object\n",
      "dtypes: object(5)\n",
      "memory usage: 1016.5+ KB\n",
      "None\n"
     ]
    },
    {
     "data": {
      "text/html": [
       "<div>\n",
       "<style scoped>\n",
       "    .dataframe tbody tr th:only-of-type {\n",
       "        vertical-align: middle;\n",
       "    }\n",
       "\n",
       "    .dataframe tbody tr th {\n",
       "        vertical-align: top;\n",
       "    }\n",
       "\n",
       "    .dataframe thead th {\n",
       "        text-align: right;\n",
       "    }\n",
       "</style>\n",
       "<table border=\"1\" class=\"dataframe\">\n",
       "  <thead>\n",
       "    <tr style=\"text-align: right;\">\n",
       "      <th></th>\n",
       "      <th>account_id</th>\n",
       "      <th>tweet_text</th>\n",
       "      <th>account_type</th>\n",
       "      <th>lang</th>\n",
       "      <th>stance</th>\n",
       "    </tr>\n",
       "  </thead>\n",
       "  <tbody>\n",
       "    <tr>\n",
       "      <th>0</th>\n",
       "      <td>77254498</td>\n",
       "      <td>\"@ComposerCorner I am proud to be a #climatech...</td>\n",
       "      <td>Private individuals</td>\n",
       "      <td>en</td>\n",
       "      <td>For</td>\n",
       "    </tr>\n",
       "    <tr>\n",
       "      <th>1</th>\n",
       "      <td>77254498</td>\n",
       "      <td>#ActionDay ~ Blog ~ Greener Green Gifts  ~ htt...</td>\n",
       "      <td>Private individuals</td>\n",
       "      <td>en</td>\n",
       "      <td>For</td>\n",
       "    </tr>\n",
       "    <tr>\n",
       "      <th>2</th>\n",
       "      <td>77254498</td>\n",
       "      <td>#Agnotology ~ @Ecojustice files complaint w/Co...</td>\n",
       "      <td>Private individuals</td>\n",
       "      <td>en</td>\n",
       "      <td>For</td>\n",
       "    </tr>\n",
       "    <tr>\n",
       "      <th>3</th>\n",
       "      <td>77254498</td>\n",
       "      <td>#AsPredicted ~ @Canada wins #FossiloftheDay ~ ...</td>\n",
       "      <td>Private individuals</td>\n",
       "      <td>en</td>\n",
       "      <td>For</td>\n",
       "    </tr>\n",
       "    <tr>\n",
       "      <th>4</th>\n",
       "      <td>77254498</td>\n",
       "      <td>#AusPol ~ #COP21 ~ #MentalHealth of #Australia...</td>\n",
       "      <td>Private individuals</td>\n",
       "      <td>en</td>\n",
       "      <td>For</td>\n",
       "    </tr>\n",
       "  </tbody>\n",
       "</table>\n",
       "</div>"
      ],
      "text/plain": [
       "  account_id                                         tweet_text  \\\n",
       "0   77254498  \"@ComposerCorner I am proud to be a #climatech...   \n",
       "1   77254498  #ActionDay ~ Blog ~ Greener Green Gifts  ~ htt...   \n",
       "2   77254498  #Agnotology ~ @Ecojustice files complaint w/Co...   \n",
       "3   77254498  #AsPredicted ~ @Canada wins #FossiloftheDay ~ ...   \n",
       "4   77254498  #AusPol ~ #COP21 ~ #MentalHealth of #Australia...   \n",
       "\n",
       "          account_type lang stance  \n",
       "0  Private individuals   en    For  \n",
       "1  Private individuals   en    For  \n",
       "2  Private individuals   en    For  \n",
       "3  Private individuals   en    For  \n",
       "4  Private individuals   en    For  "
      ]
     },
     "execution_count": 6,
     "metadata": {},
     "output_type": "execute_result"
    }
   ],
   "source": [
    "db = get_db_connection(db_path=\"../../../../data/twitter.db\")\n",
    "df = get_research_dataframe(db)\n",
    "print(df.info())\n",
    "df.head()"
   ]
  },
  {
   "cell_type": "markdown",
   "id": "57fded22",
   "metadata": {},
   "source": [
    "## Hypothesis: Private Individuals will use more negative sentiment than Business Actors\n",
    "\n",
    "Private indivduals (we believe) tend to have less PR overhead compared to businesses entities/accounts. They are more likely to use tweet negative things since they are not bound by coporate restrictions or public image concerns. As a result, private individuals often feel more freedom to express their opinions, including criticism or controversial statements, without worrying about the impact on a brand or company reputation. In contrast, businesses typically have to carefully manage their public relations to maintain customer trust and uphold their corporate identity, which can lead them to be more cautious or restrained in their communications.\n",
    "\n",
    "Long story short, individuals can be trolls and businesses typically aren't (unless we are talkin' Alex Jones et al. etc.)"
   ]
  },
  {
   "cell_type": "code",
   "execution_count": 7,
   "id": "11f6a4f8",
   "metadata": {},
   "outputs": [],
   "source": [
    "df_train = load_excel_annotations(\"../../../../data/train.xlsx\")\n",
    "df_train[\"train\"] = True\n",
    "df_test = load_excel_annotations(\"../../../../data/test.xlsx\")\n",
    "df_test[\"train\"] = False\n",
    "\n",
    "df_train = pd.concat([df_train, df_test])\n",
    "subset_nas = [\"CODE\", \"TEXT\"]\n",
    "df_train = df_train.dropna(subset=subset_nas, ignore_index=True)"
   ]
  },
  {
   "cell_type": "code",
   "execution_count": 17,
   "id": "d92d3d35",
   "metadata": {},
   "outputs": [
    {
     "name": "stdout",
     "output_type": "stream",
     "text": [
      "Classification Rep:\n",
      "              precision    recall  f1-score   support\n",
      "\n",
      "         0.0       1.00      1.00      1.00         2\n",
      "         1.0       1.00      1.00      1.00         2\n",
      "\n",
      "    accuracy                           1.00         4\n",
      "   macro avg       1.00      1.00      1.00         4\n",
      "weighted avg       1.00      1.00      1.00         4\n",
      "\n"
     ]
    }
   ],
   "source": [
    "cls_final, vectorizer = train_classifier(df_train[\"TEXT\"].tolist(), labels=df_train[\"CODE\"], test_size=0.02)\n",
    "processed_data = ml_annotations = cls_final.predict(vectorizer.transform(preprocess_tweets(df[\"tweet_text\"])))\n",
    "df[\"sentiment\"] = ml_annotations"
   ]
  },
  {
   "cell_type": "code",
   "execution_count": 16,
   "id": "de062a1d",
   "metadata": {},
   "outputs": [
    {
     "data": {
      "text/html": [
       "<div>\n",
       "<style scoped>\n",
       "    .dataframe tbody tr th:only-of-type {\n",
       "        vertical-align: middle;\n",
       "    }\n",
       "\n",
       "    .dataframe tbody tr th {\n",
       "        vertical-align: top;\n",
       "    }\n",
       "\n",
       "    .dataframe thead th {\n",
       "        text-align: right;\n",
       "    }\n",
       "</style>\n",
       "<table border=\"1\" class=\"dataframe\">\n",
       "  <thead>\n",
       "    <tr style=\"text-align: right;\">\n",
       "      <th></th>\n",
       "      <th>account_type</th>\n",
       "      <th>sentiment</th>\n",
       "      <th>tweet_text</th>\n",
       "    </tr>\n",
       "  </thead>\n",
       "  <tbody>\n",
       "    <tr>\n",
       "      <th>11591</th>\n",
       "      <td>Private individuals</td>\n",
       "      <td>0.0</td>\n",
       "      <td>#COP21: Sassou N'Guesso a plaidé  Congo et l’A...</td>\n",
       "    </tr>\n",
       "    <tr>\n",
       "      <th>9020</th>\n",
       "      <td>Business actors</td>\n",
       "      <td>1.0</td>\n",
       "      <td>Make the change - sign #ifad petition @ https:...</td>\n",
       "    </tr>\n",
       "    <tr>\n",
       "      <th>25449</th>\n",
       "      <td>Business actors</td>\n",
       "      <td>1.0</td>\n",
       "      <td>RT @RoadThruParis: We're doing daily media cov...</td>\n",
       "    </tr>\n",
       "    <tr>\n",
       "      <th>17497</th>\n",
       "      <td>Private individuals</td>\n",
       "      <td>0.0</td>\n",
       "      <td>.#OpChemtrails https://t.co/sdyIyQVW0O #OpChem...</td>\n",
       "    </tr>\n",
       "    <tr>\n",
       "      <th>15084</th>\n",
       "      <td>Private individuals</td>\n",
       "      <td>1.0</td>\n",
       "      <td>RT @SaleemulHuq: US Secretary of State John Ke...</td>\n",
       "    </tr>\n",
       "    <tr>\n",
       "      <th>7050</th>\n",
       "      <td>Private individuals</td>\n",
       "      <td>0.0</td>\n",
       "      <td>RT @Starbuck: In final hours thoughts turn to ...</td>\n",
       "    </tr>\n",
       "    <tr>\n",
       "      <th>7126</th>\n",
       "      <td>Private individuals</td>\n",
       "      <td>1.0</td>\n",
       "      <td>RT @este_tapias: \"The false myth: economic dev...</td>\n",
       "    </tr>\n",
       "    <tr>\n",
       "      <th>671</th>\n",
       "      <td>Private individuals</td>\n",
       "      <td>1.0</td>\n",
       "      <td>Fresh blog ~ Dear Elizabeth May, ~ https://t.c...</td>\n",
       "    </tr>\n",
       "    <tr>\n",
       "      <th>6564</th>\n",
       "      <td>Business actors</td>\n",
       "      <td>1.0</td>\n",
       "      <td>The Govt's about to slap 20% VAT on solar pane...</td>\n",
       "    </tr>\n",
       "    <tr>\n",
       "      <th>24152</th>\n",
       "      <td>Business actors</td>\n",
       "      <td>-1.0</td>\n",
       "      <td>.@EdwardJCameron: \"A whole new global economy ...</td>\n",
       "    </tr>\n",
       "  </tbody>\n",
       "</table>\n",
       "</div>"
      ],
      "text/plain": [
       "              account_type  sentiment  \\\n",
       "11591  Private individuals        0.0   \n",
       "9020       Business actors        1.0   \n",
       "25449      Business actors        1.0   \n",
       "17497  Private individuals        0.0   \n",
       "15084  Private individuals        1.0   \n",
       "7050   Private individuals        0.0   \n",
       "7126   Private individuals        1.0   \n",
       "671    Private individuals        1.0   \n",
       "6564       Business actors        1.0   \n",
       "24152      Business actors       -1.0   \n",
       "\n",
       "                                              tweet_text  \n",
       "11591  #COP21: Sassou N'Guesso a plaidé  Congo et l’A...  \n",
       "9020   Make the change - sign #ifad petition @ https:...  \n",
       "25449  RT @RoadThruParis: We're doing daily media cov...  \n",
       "17497  .#OpChemtrails https://t.co/sdyIyQVW0O #OpChem...  \n",
       "15084  RT @SaleemulHuq: US Secretary of State John Ke...  \n",
       "7050   RT @Starbuck: In final hours thoughts turn to ...  \n",
       "7126   RT @este_tapias: \"The false myth: economic dev...  \n",
       "671    Fresh blog ~ Dear Elizabeth May, ~ https://t.c...  \n",
       "6564   The Govt's about to slap 20% VAT on solar pane...  \n",
       "24152  .@EdwardJCameron: \"A whole new global economy ...  "
      ]
     },
     "execution_count": 16,
     "metadata": {},
     "output_type": "execute_result"
    }
   ],
   "source": [
    "df[[\"account_type\", \"sentiment\", \"tweet_text\"]].sample(10)"
   ]
  },
  {
   "cell_type": "code",
   "execution_count": 18,
   "id": "9a91befb",
   "metadata": {},
   "outputs": [
    {
     "name": "stdout",
     "output_type": "stream",
     "text": [
      "                       count      mean       std  min  25%  50%  75%  max\n",
      "account_type                                                             \n",
      "Business actors       9156.0  0.654325  0.506316 -1.0  0.0  1.0  1.0  1.0\n",
      "Private individuals  16863.0  0.577062  0.523983 -1.0  0.0  1.0  1.0  1.0\n"
     ]
    }
   ],
   "source": [
    "summary_stats = df.groupby(\"account_type\")[\"sentiment\"].describe()\n",
    "print(summary_stats)"
   ]
  },
  {
   "cell_type": "code",
   "execution_count": 22,
   "id": "dffb1ccb",
   "metadata": {},
   "outputs": [
    {
     "data": {
      "image/png": "[encoded data removed]",
      "text/plain": [
       "<Figure size 1000x600 with 1 Axes>"
      ]
     },
     "metadata": {},
     "output_type": "display_data"
    }
   ],
   "source": [
    "df['sentiment_category'] = df['sentiment'].map({-1.0: 'Negative', 0.0: 'Neutral', 1.0: 'Positive'})\n",
    "\n",
    "plt.figure(figsize=(10, 6))\n",
    "sns.countplot(data=df, x='sentiment_category', hue='account_type', palette=\"Set2\")\n",
    "plt.title(\"Sentiment Category Counts by Account Type\")\n",
    "plt.xlabel(\"Sentiment Category\")\n",
    "plt.ylabel(\"Count\")\n",
    "plt.show()"
   ]
  },
  {
   "cell_type": "code",
   "execution_count": 25,
   "id": "926530fe",
   "metadata": {},
   "outputs": [
    {
     "data": {
      "image/png": "[encoded data removed]",
      "text/plain": [
       "<Figure size 1000x600 with 1 Axes>"
      ]
     },
     "metadata": {},
     "output_type": "display_data"
    }
   ],
   "source": [
    "sentiment_proportions = df.groupby(['account_type', 'sentiment']).size().unstack(fill_value=0)\n",
    "sentiment_proportions = sentiment_proportions.div(sentiment_proportions.sum(axis=1), axis=0)  # Normalize to proportions\n",
    "sentiment_proportions = sentiment_proportions.reset_index().melt(id_vars=\"account_type\", value_name=\"proportion\")\n",
    "plt.figure(figsize=(10, 6))\n",
    "sns.barplot(data=sentiment_proportions, x=\"sentiment\", y=\"proportion\", hue=\"account_type\", palette=\"Set2\")\n",
    "plt.title(\"Normalized Sentiment Distribution by Account Type (Proportions)\")\n",
    "plt.xlabel(\"Sentiment Score\")\n",
    "plt.ylabel(\"Proportion of Tweets\")\n",
    "\n",
    "for p in plt.gca().patches:\n",
    "    plt.gca().annotate(\n",
    "        f'{p.get_height():.2f}',\n",
    "        (p.get_x() + p.get_width() / 2., p.get_height()),\n",
    "        ha='center', va='center', fontsize=12, color='black', \n",
    "        xytext=(0, 10), textcoords='offset points'\n",
    "    )\n",
    "\n",
    "# Show the plot\n",
    "plt.show()"
   ]
  },
  {
   "cell_type": "markdown",
   "id": "beadf51d",
   "metadata": {},
   "source": [
    "### Running simple t-test against null hypo that mean sentiments are equal"
   ]
  },
  {
   "cell_type": "code",
   "execution_count": 27,
   "id": "03f8c7d9",
   "metadata": {},
   "outputs": [
    {
     "name": "stdout",
     "output_type": "stream",
     "text": [
      "T-statistic: -11.61087107496186\n",
      "P-value: 4.600591442576968e-31\n"
     ]
    }
   ],
   "source": [
    "from scipy import stats\n",
    "\n",
    "private_sentiment = df[df['account_type'] == 'Private individuals']['sentiment']\n",
    "business_sentiment = df[df['account_type'] == 'Business actors']['sentiment']\n",
    "\n",
    "t_stat, p_value = stats.ttest_ind(private_sentiment, business_sentiment, equal_var=False)\n",
    "\n",
    "print(f\"T-statistic: {t_stat}\")\n",
    "print(f\"P-value: {p_value}\")"
   ]
  },
  {
   "cell_type": "code",
   "execution_count": 32,
   "id": "a2946a7b",
   "metadata": {},
   "outputs": [
    {
     "name": "stdout",
     "output_type": "stream",
     "text": [
      "Private Individuals:\n",
      "  Mean: 0.577\n",
      "  95% Confidence Interval: (0.569, 0.585)\n",
      "\n",
      "Business Actors:\n",
      "  Mean: 0.654\n",
      "  95% Confidence Interval: (0.644, 0.665)\n"
     ]
    }
   ],
   "source": [
    "# love me some bootstrapping\n",
    "private_bootstrap = np.random.choice(private_sentiment, (10_000, len(private_sentiment)), replace=True)\n",
    "private_means = private_bootstrap.mean(axis=1)\n",
    "private_ci = np.percentile(private_means, [2.5, 97.5])\n",
    "\n",
    "business_bootstrap = np.random.choice(business_sentiment, (10_000, len(business_sentiment)), replace=True)\n",
    "business_means = business_bootstrap.mean(axis=1)\n",
    "business_ci = np.percentile(business_means, [2.5, 97.5])\n",
    "\n",
    "print(f\"Private Individuals:\")\n",
    "print(f\"  Mean: {private_sentiment.mean():.3f}\")\n",
    "print(f\"  95% Confidence Interval: ({private_ci[0]:.3f}, {private_ci[1]:.3f})\")\n",
    "\n",
    "print(f\"\\nBusiness Actors:\")\n",
    "print(f\"  Mean: {business_sentiment.mean():.3f}\")\n",
    "print(f\"  95% Confidence Interval: ({business_ci[0]:.3f}, {business_ci[1]:.3f})\")"
   ]
  },
  {
   "cell_type": "markdown",
   "id": "afe8dc1e",
   "metadata": {},
   "source": [
    "## Conclusion: Our hypothesis was correct\n",
    "Business actors have a higher sentiment that private individuals"
   ]
  },
  {
   "cell_type": "markdown",
   "id": "aeb48c94",
   "metadata": {},
   "source": []
  }
 ],
 "metadata": {
  "kernelspec": {
   "display_name": ".venv",
   "language": "python",
   "name": "python3"
  },
  "language_info": {
   "codemirror_mode": {
    "name": "ipython",
    "version": 3
   },
   "file_extension": ".py",
   "mimetype": "text/x-python",
   "name": "python",
   "nbconvert_exporter": "python",
   "pygments_lexer": "ipython3",
   "version": "3.12.7"
  }
 },
 "nbformat": 4,
 "nbformat_minor": 5
}
