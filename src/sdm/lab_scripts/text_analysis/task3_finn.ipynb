{
 "cells": [
  {
   "cell_type": "code",
   "execution_count": 3,
   "id": "3bf2ef4d-a052-4942-bab2-e4de1f3c3b89",
   "metadata": {},
   "outputs": [],
   "source": [
    "from sdm.config import get_db_connection\n",
    "from text_mining.data import get_research_dataframe\n",
    "import pandas as pd"
   ]
  },
  {
   "cell_type": "code",
   "execution_count": 5,
   "id": "fcc96288",
   "metadata": {},
   "outputs": [
    {
     "data": {
      "text/html": [
       "<div>\n",
       "<style scoped>\n",
       "    .dataframe tbody tr th:only-of-type {\n",
       "        vertical-align: middle;\n",
       "    }\n",
       "\n",
       "    .dataframe tbody tr th {\n",
       "        vertical-align: top;\n",
       "    }\n",
       "\n",
       "    .dataframe thead th {\n",
       "        text-align: right;\n",
       "    }\n",
       "</style>\n",
       "<table border=\"1\" class=\"dataframe\">\n",
       "  <thead>\n",
       "    <tr style=\"text-align: right;\">\n",
       "      <th></th>\n",
       "      <th>account_id</th>\n",
       "      <th>tweet_text</th>\n",
       "      <th>account_type</th>\n",
       "      <th>lang</th>\n",
       "      <th>stance</th>\n",
       "    </tr>\n",
       "  </thead>\n",
       "  <tbody>\n",
       "    <tr>\n",
       "      <th>0</th>\n",
       "      <td>77254498</td>\n",
       "      <td>\"@ComposerCorner I am proud to be a #climatech...</td>\n",
       "      <td>Private individuals</td>\n",
       "      <td>en</td>\n",
       "      <td>For</td>\n",
       "    </tr>\n",
       "    <tr>\n",
       "      <th>1</th>\n",
       "      <td>77254498</td>\n",
       "      <td>#ActionDay ~ Blog ~ Greener Green Gifts  ~ htt...</td>\n",
       "      <td>Private individuals</td>\n",
       "      <td>en</td>\n",
       "      <td>For</td>\n",
       "    </tr>\n",
       "    <tr>\n",
       "      <th>2</th>\n",
       "      <td>77254498</td>\n",
       "      <td>#Agnotology ~ @Ecojustice files complaint w/Co...</td>\n",
       "      <td>Private individuals</td>\n",
       "      <td>en</td>\n",
       "      <td>For</td>\n",
       "    </tr>\n",
       "    <tr>\n",
       "      <th>3</th>\n",
       "      <td>77254498</td>\n",
       "      <td>#AsPredicted ~ @Canada wins #FossiloftheDay ~ ...</td>\n",
       "      <td>Private individuals</td>\n",
       "      <td>en</td>\n",
       "      <td>For</td>\n",
       "    </tr>\n",
       "    <tr>\n",
       "      <th>4</th>\n",
       "      <td>77254498</td>\n",
       "      <td>#AusPol ~ #COP21 ~ #MentalHealth of #Australia...</td>\n",
       "      <td>Private individuals</td>\n",
       "      <td>en</td>\n",
       "      <td>For</td>\n",
       "    </tr>\n",
       "  </tbody>\n",
       "</table>\n",
       "</div>"
      ],
      "text/plain": [
       "  account_id                                         tweet_text  \\\n",
       "0   77254498  \"@ComposerCorner I am proud to be a #climatech...   \n",
       "1   77254498  #ActionDay ~ Blog ~ Greener Green Gifts  ~ htt...   \n",
       "2   77254498  #Agnotology ~ @Ecojustice files complaint w/Co...   \n",
       "3   77254498  #AsPredicted ~ @Canada wins #FossiloftheDay ~ ...   \n",
       "4   77254498  #AusPol ~ #COP21 ~ #MentalHealth of #Australia...   \n",
       "\n",
       "          account_type lang stance  \n",
       "0  Private individuals   en    For  \n",
       "1  Private individuals   en    For  \n",
       "2  Private individuals   en    For  \n",
       "3  Private individuals   en    For  \n",
       "4  Private individuals   en    For  "
      ]
     },
     "execution_count": 5,
     "metadata": {},
     "output_type": "execute_result"
    }
   ],
   "source": [
    "db = get_db_connection(db_path=\"../../../../data/twitter.db\")\n",
    "df = get_research_dataframe(db)\n",
    "df.head()"
   ]
  },
  {
   "cell_type": "code",
   "execution_count": null,
   "id": "57fded22",
   "metadata": {},
   "outputs": [],
   "source": []
  }
 ],
 "metadata": {
  "kernelspec": {
   "display_name": ".venv",
   "language": "python",
   "name": "python3"
  },
  "language_info": {
   "codemirror_mode": {
    "name": "ipython",
    "version": 3
   },
   "file_extension": ".py",
   "mimetype": "text/x-python",
   "name": "python",
   "nbconvert_exporter": "python",
   "pygments_lexer": "ipython3",
   "version": "3.12.7"
  }
 },
 "nbformat": 4,
 "nbformat_minor": 5
}
