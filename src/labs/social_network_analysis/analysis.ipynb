{
 "cells": [
  {
   "cell_type": "code",
   "execution_count": null,
   "metadata": {},
   "outputs": [],
   "source": [
    "import igraph as ig\n",
    "import pandas as pd\n",
    "import numpy as np\n",
    "import json\n",
    "import sqlite3\n",
    "from sqlite3 import Connection"
   ]
  },
  {
   "cell_type": "code",
   "execution_count": 18,
   "metadata": {},
   "outputs": [],
   "source": [
    "def build_response_relations(conn: Connection, response_type: str):\n",
    "    cur = conn.cursor()\n",
    "    query = \"\"\"\n",
    "            SELECT\n",
    "                t1.author_id as source_author,\n",
    "                t2.author_id as dest_author\n",
    "            FROM tweets t1\n",
    "            JOIN referenced_tweets rt ON t1.id = rt.tweet_id\n",
    "            JOIN tweets t2 ON rt.referenced_tweet_id = t2.id\n",
    "            WHERE\n",
    "                rt.referenced_tweet_type = ?\n",
    "                AND t1.author_id != t2.author_id\n",
    "            \"\"\"\n",
    "    result = cur.execute(query, [response_type]).fetchall()\n",
    "    return result"
   ]
  },
  {
   "cell_type": "code",
   "execution_count": 21,
   "metadata": {},
   "outputs": [
    {
     "name": "stdout",
     "output_type": "stream",
     "text": [
      "1385201\n"
     ]
    }
   ],
   "source": [
    "conn = sqlite3.connect(f\"D:/UU/Sem3/SDM/social_data_mining/data/twitter.db\")\n",
    "retweet_edges = build_response_relations(conn, \"retweeted\")\n",
    "print(len(retweet_edges))"
   ]
  },
  {
   "cell_type": "code",
   "execution_count": 22,
   "metadata": {},
   "outputs": [
    {
     "name": "stdout",
     "output_type": "stream",
     "text": [
      "38290\n"
     ]
    }
   ],
   "source": [
    "reply_edges = build_response_relations(conn, \"replied_to\")\n",
    "print(len(reply_edges))"
   ]
  },
  {
   "cell_type": "code",
   "execution_count": 28,
   "metadata": {},
   "outputs": [],
   "source": [
    "def get_distinct_authors(conn: Connection):\n",
    "    cur = conn.cursor()\n",
    "    result = cur.execute(\"SELECT DISTINCT author_id FROM tweets\")\n",
    "    return result.fetchall()"
   ]
  },
  {
   "cell_type": "code",
   "execution_count": 34,
   "metadata": {},
   "outputs": [
    {
     "name": "stdout",
     "output_type": "stream",
     "text": [
      "481467\n"
     ]
    }
   ],
   "source": [
    "authors = get_distinct_authors(conn)\n",
    "authors_list = [''.join(author) for author in authors]\n",
    "# print(authors[:10])\n",
    "# print(authors_list[:10])\n",
    "print(len(authors_list))\n",
    "conn.close()"
   ]
  },
  {
   "cell_type": "code",
   "execution_count": null,
   "metadata": {},
   "outputs": [],
   "source": []
  }
 ],
 "metadata": {
  "kernelspec": {
   "display_name": "Python 3 (ipykernel)",
   "language": "python",
   "name": "python3"
  },
  "language_info": {
   "codemirror_mode": {
    "name": "ipython",
    "version": 3
   },
   "file_extension": ".py",
   "mimetype": "text/x-python",
   "name": "python",
   "nbconvert_exporter": "python",
   "pygments_lexer": "ipython3",
   "version": "3.11.4"
  }
 },
 "nbformat": 4,
 "nbformat_minor": 2
}
