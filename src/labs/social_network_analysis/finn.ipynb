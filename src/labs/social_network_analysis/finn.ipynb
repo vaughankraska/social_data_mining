{
 "cells": [
  {
   "cell_type": "code",
   "execution_count": 28,
   "id": "6680af7f-0a4f-4f50-b167-bfbcade7c465",
   "metadata": {},
   "outputs": [],
   "source": [
    "import igraph as ig\n",
    "import matplotlib.pyplot as plt\n",
    "import pandas as pd\n",
    "import numpy as np\n",
    "import ast\n",
    "from src.utils import tweets_as_dataframe"
   ]
  },
  {
   "cell_type": "code",
   "execution_count": null,
   "id": "4f35e52c-6df6-480c-bcc6-be0b7e41f2a9",
   "metadata": {},
   "outputs": [],
   "source": [
    "raw_data = tweets_as_dataframe(\"../../../data/tweets.dat\")"
   ]
  },
  {
   "cell_type": "code",
   "execution_count": null,
   "id": "1ac0df66-baec-448f-b534-4c3e72fb09fa",
   "metadata": {},
   "outputs": [],
   "source": [
    "raw_data.info()"
   ]
  },
  {
   "cell_type": "code",
   "execution_count": 44,
   "id": "5b8a7cd4-ffc1-40dc-a020-4a72e9bb5092",
   "metadata": {
    "scrolled": true
   },
   "outputs": [
    {
     "data": {
      "text/plain": [
       "{None}"
      ]
     },
     "execution_count": 44,
     "metadata": {},
     "output_type": "execute_result"
    }
   ],
   "source": [
    "def parse_referenced_tweets(row: pd.Series):\n",
    "    action = row[\"referenced_tweets\"]\n",
    "    if isinstance(row, float):\n",
    "        return None\n",
    "    try:\n",
    "        if isinstance(row, list) and parsed_list:\n",
    "            nested_df = pd.DataFrame(parsed_list)\n",
    "            print(nested_df)\n",
    "            return nested_df\n",
    "    except (ValueError, SyntaxError):\n",
    "        print(f\"Warning: Failed to parse {row}\")\n",
    "        return None\n",
    "set(raw_data.apply(parse_referenced_tweets, axis=1))"
   ]
  },
  {
   "cell_type": "code",
   "execution_count": 26,
   "id": "235e7e51-33ca-4b5c-8944-2f166f38a140",
   "metadata": {},
   "outputs": [
    {
     "data": {
      "text/plain": [
       "[{'type': 'retweeted', 'id': '675805684034859010'}]"
      ]
     },
     "execution_count": 26,
     "metadata": {},
     "output_type": "execute_result"
    }
   ],
   "source": [
    "graph = ig.Graph()\n",
    "raw_data.loc[5][\"referenced_tweets\"]\n",
    "# raw_data[raw_data[\"id\"] == \"675768250114940928\"]"
   ]
  },
  {
   "cell_type": "code",
   "execution_count": null,
   "id": "619f9c83-8681-4df1-aa1b-f069ebf0c60f",
   "metadata": {},
   "outputs": [],
   "source": []
  }
 ],
 "metadata": {
  "kernelspec": {
   "display_name": "Python 3 (ipykernel)",
   "language": "python",
   "name": "python3"
  },
  "language_info": {
   "codemirror_mode": {
    "name": "ipython",
    "version": 3
   },
   "file_extension": ".py",
   "mimetype": "text/x-python",
   "name": "python",
   "nbconvert_exporter": "python",
   "pygments_lexer": "ipython3",
   "version": "3.11.10"
  }
 },
 "nbformat": 4,
 "nbformat_minor": 5
}
